{
 "cells": [
  {
   "cell_type": "markdown",
   "metadata": {
    "id": "yWr5jA5PNMfi"
   },
   "source": [
    "# **1.0 Importing Libraries and Packages** "
   ]
  },
  {
   "cell_type": "code",
   "execution_count": 1,
   "metadata": {
    "colab": {
     "base_uri": "https://localhost:8080/",
     "height": 1000
    },
    "id": "TvL1ocj2OIZX",
    "outputId": "e9a9b2b2-febf-447f-fb99-64c061c2189d"
   },
   "outputs": [
    {
     "name": "stdout",
     "output_type": "stream",
     "text": [
      "Requirement already satisfied: mne in c:\\users\\dkornev\\anaconda3\\lib\\site-packages (1.2.3)\n",
      "Requirement already satisfied: packaging in c:\\users\\dkornev\\anaconda3\\lib\\site-packages (from mne) (20.9)\n",
      "Requirement already satisfied: jinja2 in c:\\users\\dkornev\\anaconda3\\lib\\site-packages (from mne) (2.11.3)\n",
      "Requirement already satisfied: matplotlib in c:\\users\\dkornev\\anaconda3\\lib\\site-packages (from mne) (3.1.3)\n",
      "Requirement already satisfied: numpy>=1.15.4 in c:\\users\\dkornev\\anaconda3\\lib\\site-packages (from mne) (1.20.1)\n",
      "Requirement already satisfied: tqdm in c:\\users\\dkornev\\anaconda3\\lib\\site-packages (from mne) (4.59.0)\n",
      "Requirement already satisfied: decorator in c:\\users\\dkornev\\anaconda3\\lib\\site-packages (from mne) (5.0.6)\n",
      "Requirement already satisfied: scipy>=1.1.0 in c:\\users\\dkornev\\anaconda3\\lib\\site-packages (from mne) (1.6.2)\n",
      "Requirement already satisfied: pooch>=1.5 in c:\\users\\dkornev\\anaconda3\\lib\\site-packages (from mne) (1.6.0)\n",
      "Requirement already satisfied: appdirs>=1.3.0 in c:\\users\\dkornev\\anaconda3\\lib\\site-packages (from pooch>=1.5->mne) (1.4.4)\n",
      "Requirement already satisfied: requests>=2.19.0 in c:\\users\\dkornev\\anaconda3\\lib\\site-packages (from pooch>=1.5->mne) (2.25.1)\n",
      "Requirement already satisfied: pyparsing>=2.0.2 in c:\\users\\dkornev\\anaconda3\\lib\\site-packages (from packaging->mne) (2.4.7)\n",
      "Requirement already satisfied: urllib3<1.27,>=1.21.1 in c:\\users\\dkornev\\anaconda3\\lib\\site-packages (from requests>=2.19.0->pooch>=1.5->mne) (1.26.4)\n",
      "Requirement already satisfied: chardet<5,>=3.0.2 in c:\\users\\dkornev\\anaconda3\\lib\\site-packages (from requests>=2.19.0->pooch>=1.5->mne) (4.0.0)\n",
      "Requirement already satisfied: certifi>=2017.4.17 in c:\\users\\dkornev\\anaconda3\\lib\\site-packages (from requests>=2.19.0->pooch>=1.5->mne) (2020.12.5)\n",
      "Requirement already satisfied: idna<3,>=2.5 in c:\\users\\dkornev\\anaconda3\\lib\\site-packages (from requests>=2.19.0->pooch>=1.5->mne) (2.10)\n",
      "Requirement already satisfied: MarkupSafe>=0.23 in c:\\users\\dkornev\\anaconda3\\lib\\site-packages (from jinja2->mne) (1.1.1)\n",
      "Requirement already satisfied: kiwisolver>=1.0.1 in c:\\users\\dkornev\\anaconda3\\lib\\site-packages (from matplotlib->mne) (1.3.1)\n",
      "Requirement already satisfied: cycler>=0.10 in c:\\users\\dkornev\\anaconda3\\lib\\site-packages (from matplotlib->mne) (0.10.0)\n",
      "Requirement already satisfied: python-dateutil>=2.1 in c:\\users\\dkornev\\anaconda3\\lib\\site-packages (from matplotlib->mne) (2.8.1)\n",
      "Requirement already satisfied: six in c:\\users\\dkornev\\anaconda3\\lib\\site-packages (from cycler>=0.10->matplotlib->mne) (1.15.0)\n",
      "Requirement already satisfied: autoreject in c:\\users\\dkornev\\anaconda3\\lib\\site-packages (0.4.0)\n",
      "Requirement already satisfied: joblib in c:\\users\\dkornev\\anaconda3\\lib\\site-packages (from autoreject) (1.0.1)\n",
      "Collecting matplotlib>=3.3\n",
      "  Downloading matplotlib-3.7.1-cp38-cp38-win_amd64.whl (7.6 MB)\n",
      "Requirement already satisfied: scipy>=1.6 in c:\\users\\dkornev\\anaconda3\\lib\\site-packages (from autoreject) (1.6.2)\n",
      "Requirement already satisfied: mne[hdf5]>=1.0 in c:\\users\\dkornev\\anaconda3\\lib\\site-packages (from autoreject) (1.2.3)\n",
      "Requirement already satisfied: numpy>=1.20 in c:\\users\\dkornev\\anaconda3\\lib\\site-packages (from autoreject) (1.20.1)\n",
      "Requirement already satisfied: scikit-learn>=0.24 in c:\\users\\dkornev\\anaconda3\\lib\\site-packages (from autoreject) (0.24.1)\n",
      "Requirement already satisfied: packaging>=20.0 in c:\\users\\dkornev\\anaconda3\\lib\\site-packages (from matplotlib>=3.3->autoreject) (20.9)\n",
      "Requirement already satisfied: fonttools>=4.22.0 in c:\\users\\dkornev\\anaconda3\\lib\\site-packages (from matplotlib>=3.3->autoreject) (4.38.0)\n",
      "Requirement already satisfied: cycler>=0.10 in c:\\users\\dkornev\\anaconda3\\lib\\site-packages (from matplotlib>=3.3->autoreject) (0.10.0)\n",
      "Requirement already satisfied: kiwisolver>=1.0.1 in c:\\users\\dkornev\\anaconda3\\lib\\site-packages (from matplotlib>=3.3->autoreject) (1.3.1)\n",
      "Requirement already satisfied: pyparsing>=2.3.1 in c:\\users\\dkornev\\anaconda3\\lib\\site-packages (from matplotlib>=3.3->autoreject) (2.4.7)\n",
      "Requirement already satisfied: pillow>=6.2.0 in c:\\users\\dkornev\\anaconda3\\lib\\site-packages (from matplotlib>=3.3->autoreject) (8.2.0)\n",
      "Requirement already satisfied: contourpy>=1.0.1 in c:\\users\\dkornev\\anaconda3\\lib\\site-packages (from matplotlib>=3.3->autoreject) (1.0.6)\n",
      "Requirement already satisfied: python-dateutil>=2.7 in c:\\users\\dkornev\\anaconda3\\lib\\site-packages (from matplotlib>=3.3->autoreject) (2.8.1)\n",
      "Requirement already satisfied: importlib-resources>=3.2.0 in c:\\users\\dkornev\\anaconda3\\lib\\site-packages (from matplotlib>=3.3->autoreject) (5.12.0)\n",
      "Requirement already satisfied: six in c:\\users\\dkornev\\anaconda3\\lib\\site-packages (from cycler>=0.10->matplotlib>=3.3->autoreject) (1.15.0)\n",
      "Requirement already satisfied: zipp>=3.1.0 in c:\\users\\dkornev\\anaconda3\\lib\\site-packages (from importlib-resources>=3.2.0->matplotlib>=3.3->autoreject) (3.4.1)\n",
      "Requirement already satisfied: decorator in c:\\users\\dkornev\\anaconda3\\lib\\site-packages (from mne[hdf5]>=1.0->autoreject) (5.0.6)\n",
      "Requirement already satisfied: pooch>=1.5 in c:\\users\\dkornev\\anaconda3\\lib\\site-packages (from mne[hdf5]>=1.0->autoreject) (1.6.0)\n",
      "Requirement already satisfied: tqdm in c:\\users\\dkornev\\anaconda3\\lib\\site-packages (from mne[hdf5]>=1.0->autoreject) (4.59.0)\n",
      "Requirement already satisfied: jinja2 in c:\\users\\dkornev\\anaconda3\\lib\\site-packages (from mne[hdf5]>=1.0->autoreject) (2.11.3)\n",
      "Requirement already satisfied: h5io in c:\\users\\dkornev\\anaconda3\\lib\\site-packages (from mne[hdf5]>=1.0->autoreject) (0.1.7)\n",
      "Requirement already satisfied: pymatreader in c:\\users\\dkornev\\anaconda3\\lib\\site-packages (from mne[hdf5]>=1.0->autoreject) (0.0.30)\n",
      "Requirement already satisfied: requests>=2.19.0 in c:\\users\\dkornev\\anaconda3\\lib\\site-packages (from pooch>=1.5->mne[hdf5]>=1.0->autoreject) (2.25.1)\n",
      "Requirement already satisfied: appdirs>=1.3.0 in c:\\users\\dkornev\\anaconda3\\lib\\site-packages (from pooch>=1.5->mne[hdf5]>=1.0->autoreject) (1.4.4)\n",
      "Requirement already satisfied: chardet<5,>=3.0.2 in c:\\users\\dkornev\\anaconda3\\lib\\site-packages (from requests>=2.19.0->pooch>=1.5->mne[hdf5]>=1.0->autoreject) (4.0.0)\n",
      "Requirement already satisfied: certifi>=2017.4.17 in c:\\users\\dkornev\\anaconda3\\lib\\site-packages (from requests>=2.19.0->pooch>=1.5->mne[hdf5]>=1.0->autoreject) (2020.12.5)\n",
      "Requirement already satisfied: idna<3,>=2.5 in c:\\users\\dkornev\\anaconda3\\lib\\site-packages (from requests>=2.19.0->pooch>=1.5->mne[hdf5]>=1.0->autoreject) (2.10)\n",
      "Requirement already satisfied: urllib3<1.27,>=1.21.1 in c:\\users\\dkornev\\anaconda3\\lib\\site-packages (from requests>=2.19.0->pooch>=1.5->mne[hdf5]>=1.0->autoreject) (1.26.4)\n",
      "Requirement already satisfied: threadpoolctl>=2.0.0 in c:\\users\\dkornev\\anaconda3\\lib\\site-packages (from scikit-learn>=0.24->autoreject) (2.1.0)\n",
      "Requirement already satisfied: h5py in c:\\users\\dkornev\\anaconda3\\lib\\site-packages (from h5io->mne[hdf5]>=1.0->autoreject) (2.10.0)\n",
      "Requirement already satisfied: MarkupSafe>=0.23 in c:\\users\\dkornev\\anaconda3\\lib\\site-packages (from jinja2->mne[hdf5]>=1.0->autoreject) (1.1.1)\n",
      "Requirement already satisfied: xmltodict in c:\\users\\dkornev\\anaconda3\\lib\\site-packages (from pymatreader->mne[hdf5]>=1.0->autoreject) (0.12.0)\n",
      "Requirement already satisfied: future in c:\\users\\dkornev\\anaconda3\\lib\\site-packages (from pymatreader->mne[hdf5]>=1.0->autoreject) (0.18.2)\n",
      "Installing collected packages: matplotlib\n",
      "  Attempting uninstall: matplotlib\n",
      "    Found existing installation: matplotlib 3.1.3\n",
      "    Uninstalling matplotlib-3.1.3:\n",
      "      Successfully uninstalled matplotlib-3.1.3\n",
      "Successfully installed matplotlib-3.7.1\n",
      "Requirement already satisfied: detecta in c:\\users\\dkornev\\anaconda3\\lib\\site-packages (0.0.5)\n"
     ]
    },
    {
     "data": {
      "text/plain": [
       "'C:\\\\Users\\\\dkornev\\\\Desktop\\\\Work Folder\\\\My Folders\\\\Harrisburg University\\\\ISEM 780-52-A-2021 Fall - Doctoral Research Seminar\\\\Experiment_min_max'"
      ]
     },
     "execution_count": 1,
     "metadata": {},
     "output_type": "execute_result"
    }
   ],
   "source": [
    "import os\n",
    "import numpy as np\n",
    "import pandas as pd\n",
    "\n",
    "import scipy\n",
    "from scipy.fft import fft\n",
    "from scipy.signal import welch\n",
    "from scipy import stats\n",
    "\n",
    "import pywt\n",
    "\n",
    "from collections import Counter\n",
    "\n",
    "import sklearn\n",
    "from sklearn import preprocessing\n",
    "from sklearn.preprocessing import StandardScaler\n",
    "from sklearn import svm\n",
    "from sklearn.model_selection import train_test_split\n",
    "from sklearn.model_selection import cross_val_score\n",
    "from sklearn.model_selection import train_test_split\n",
    "from sklearn.ensemble import GradientBoostingClassifier\n",
    "from sklearn.ensemble import RandomForestClassifier\n",
    "from sklearn.linear_model import LogisticRegression\n",
    "from sklearn.metrics import classification_report\n",
    "from sklearn.metrics import confusion_matrix\n",
    "from sklearn.metrics import mean_squared_error\n",
    "from sklearn.metrics import mean_absolute_error\n",
    "\n",
    "import tensorflow as tf\n",
    "from tensorflow.keras.layers import Dense, Flatten\n",
    "from tensorflow.keras.layers import Conv2D, MaxPooling2D\n",
    "from tensorflow.keras.layers import Dropout, SpatialDropout1D, BatchNormalization, Embedding, Activation, Input, concatenate\n",
    "from tensorflow.keras.layers import SimpleRNN, GRU, LSTM, Bidirectional, Conv1D, MaxPooling1D, GlobalMaxPooling1D, SpatialDropout2D\n",
    "from tensorflow.keras.optimizers import Adam, Adadelta, SGD, Adagrad, RMSprop\n",
    "from tensorflow.keras.models import Sequential\n",
    "from tensorflow.keras.callbacks import History \n",
    "\n",
    "!pip install mne\n",
    "import mne\n",
    "from mne.preprocessing import (ICA, create_eog_epochs, create_ecg_epochs, corrmap)\n",
    "\n",
    "!pip install autoreject\n",
    "from autoreject import get_rejection_threshold\n",
    "from autoreject import AutoReject\n",
    "\n",
    "!pip install detecta\n",
    "from detecta import detect_peaks\n",
    "\n",
    "\n",
    "os.chdir('C:/Users/dkornev/Desktop/Work Folder/My Folders/Harrisburg University/ISEM 780-52-A-2021 Fall - Doctoral Research Seminar/Experiment_min_max')\n",
    "os.getcwd()"
   ]
  },
  {
   "cell_type": "code",
   "execution_count": 2,
   "metadata": {},
   "outputs": [
    {
     "name": "stderr",
     "output_type": "stream",
     "text": [
      "ERROR: pip's dependency resolver does not currently take into account all the packages that are installed. This behaviour is the source of the following dependency conflicts.\n",
      "autoreject 0.4.0 requires matplotlib>=3.3, but you have matplotlib 3.1.3 which is incompatible.\n"
     ]
    },
    {
     "name": "stdout",
     "output_type": "stream",
     "text": [
      "Collecting matplotlib==3.1.3\n",
      "  Using cached matplotlib-3.1.3-cp38-cp38-win_amd64.whl (9.1 MB)\n",
      "Requirement already satisfied: pyparsing!=2.0.4,!=2.1.2,!=2.1.6,>=2.0.1 in c:\\users\\dkornev\\anaconda3\\lib\\site-packages (from matplotlib==3.1.3) (2.4.7)\n",
      "Requirement already satisfied: cycler>=0.10 in c:\\users\\dkornev\\anaconda3\\lib\\site-packages (from matplotlib==3.1.3) (0.10.0)\n",
      "Requirement already satisfied: numpy>=1.11 in c:\\users\\dkornev\\anaconda3\\lib\\site-packages (from matplotlib==3.1.3) (1.20.1)\n",
      "Requirement already satisfied: kiwisolver>=1.0.1 in c:\\users\\dkornev\\anaconda3\\lib\\site-packages (from matplotlib==3.1.3) (1.3.1)\n",
      "Requirement already satisfied: python-dateutil>=2.1 in c:\\users\\dkornev\\anaconda3\\lib\\site-packages (from matplotlib==3.1.3) (2.8.1)\n",
      "Requirement already satisfied: six in c:\\users\\dkornev\\anaconda3\\lib\\site-packages (from cycler>=0.10->matplotlib==3.1.3) (1.15.0)\n",
      "Installing collected packages: matplotlib\n",
      "  Attempting uninstall: matplotlib\n",
      "    Found existing installation: matplotlib 3.7.1\n",
      "    Uninstalling matplotlib-3.7.1:\n",
      "      Successfully uninstalled matplotlib-3.7.1\n",
      "Successfully installed matplotlib-3.1.3\n"
     ]
    }
   ],
   "source": [
    "!pip install matplotlib==3.1.3\n",
    "import matplotlib.pyplot as plt"
   ]
  },
  {
   "cell_type": "markdown",
   "metadata": {
    "id": "UGYGhQePNRU5"
   },
   "source": [
    "# **2.0 Functions** "
   ]
  },
  {
   "cell_type": "markdown",
   "metadata": {
    "id": "mKgjZszrNqlI"
   },
   "source": [
    "## **2.1 IGT Function** "
   ]
  },
  {
   "cell_type": "markdown",
   "metadata": {
    "id": "2hop_fQ2NvYq"
   },
   "source": [
    "## **2.2 Trigger Events Function** "
   ]
  },
  {
   "cell_type": "code",
   "execution_count": 3,
   "metadata": {
    "id": "k-R-EdK5h4qs"
   },
   "outputs": [],
   "source": [
    "def EVENTS(a):\n",
    "    a = a.TL02.str.split(r'\\t', expand=True) # dividing by columns; !!!the whole dataset is more than 200 trials (201)!!!\n",
    "    a.columns = ['Time', 'Time1', 'Mark'] # rename columns\n",
    "    a.drop('Time1', axis = 1, inplace = True) # drop colunm \"0\"\n",
    "\n",
    "    # Sort decision time points (DTP) only and dividing by 10 Blocks\n",
    "    igt1 = a[(a.Mark == '\"PP 1\"') | (a.Mark == '\"PP 2\"') | (a.Mark == '\"PP 3\"') | (a.Mark == '\"PP 4\"')]\n",
    "    igt1.columns = ['DTP', 'Deck']\n",
    "    igt1 = igt1.reset_index(drop = True)\n",
    "    igt1['Block'] = pd.DataFrame(np.repeat(np.arange(0, 10), 20))\n",
    "    \n",
    "    # Sort reaction time points (RTP)\n",
    "    # PP9 - win\n",
    "    # PP10 - loss\n",
    "    igt2 = a[(a.Mark == '\"PP 9\"') | (a.Mark == '\"PP 10\"')]\n",
    "    igt2.columns = ['RTP', 'Result']\n",
    "    igt2 = igt2.reset_index(drop = True)\n",
    "\n",
    "    # The whole IGT dataset\n",
    "    igt = igt1.join(igt2)\n",
    "    igt = igt.dropna(axis=0, how='any') # erasing NaN rows\n",
    "    igt = igt.drop_duplicates(keep='first', subset='RTP') # duplicates in rows deliting\n",
    "\n",
    "    # Rename decks and results\n",
    "    igt['RTP'] = igt['RTP'].astype(str).astype(int)\n",
    "    igt['DTP'] = igt['DTP'].astype(str).astype(int)\n",
    "    igt.loc[(igt.Deck == '\"PP 1\"'), 'Deck'] = 'A'\n",
    "    igt.loc[(igt.Deck == '\"PP 2\"'), 'Deck'] = 'B'\n",
    "    igt.loc[(igt.Deck == '\"PP 3\"'), 'Deck'] = 'C' \n",
    "    igt.loc[(igt.Deck == '\"PP 4\"'), 'Deck'] = 'D'\n",
    "    igt.loc[(igt.Result == '\"PP 9\"'), 'Result'] = '1' \n",
    "    igt.loc[(igt.Result == '\"PP 10\"'), 'Result'] = '0'\n",
    "    \n",
    "    # Events (triggers) list creation\n",
    "    igt['Tmax'] = igt['RTP'] + 800 # RTP is 0 point of trigger event, Tmax is the END point of the trigger event\n",
    "    igt['Tmin'] = igt['RTP'] - 200 # RTP is 0 point of trigger event, Tmin is the START point of the trigger event\n",
    "    events = igt[['Deck', 'Tmin', 'Tmax']]\n",
    "    events = events.melt(id_vars=['Deck'], value_vars=['Tmin', 'Tmax'])\n",
    "    events.drop('Deck', axis = 1, inplace = True)\n",
    "    events.columns = ['point', 'time']\n",
    "    events = events.sort_values(by=['time'])\n",
    "    \n",
    "    Tmin = events[(events.point == 'Tmin')]\n",
    "    Tmax = events[(events.point == 'Tmax')]\n",
    "    Tmax = Tmax.reset_index(drop = True)\n",
    "    Tmin['index'] = pd.DataFrame(np.arange(1001, 2001))\n",
    "    Tmax['index'] = pd.DataFrame(np.arange(2001, 3001))\n",
    "    events = pd.concat([Tmin, Tmax])\n",
    "    events = events.reset_index(drop = True)\n",
    "    events = events.sort_values(by=['time'])   \n",
    "    # For following synchronization with EEG dataset EVENTS data should be adjusted by adding an appropriate columns\n",
    "    \n",
    "    # Set of triggers events (time window intervals) creation: 200 card selections by 1001 time points, total 200200 rows     \n",
    "    intervals = pd.concat([pd.DataFrame([i], columns=['point']) for i in range(1001)]*200, ignore_index=True)\n",
    "    intervals.loc[intervals.point == 0, 'point'] = '01Tmin'\n",
    "    intervals.loc[intervals.point == 1000, 'point'] = '02Tmax'\n",
    "    intervals['int'] = pd.DataFrame(np.arange(0, 200200)) \n",
    "    \n",
    "    # Rename Tmin and Tmax points for following sorting\n",
    "    intervals['point'] = intervals['point'].astype(str)\n",
    "    \n",
    "    # now we have the first 200 rows of Tmin (01Tmin) and the second 200 rows of Tmax (02Tmax) \n",
    "    # for following numbering simplification\n",
    "    intervals = intervals.sort_values(by=['point', 'int'])\n",
    "    intervals = intervals.reset_index(drop = True)\n",
    "    \n",
    "    # Adding new column \"index\" for numbering Tmin and Tmax\n",
    "    A = [np.arange(1001, 1201)]\n",
    "    B = [np.arange(2001, 2201)]\n",
    "    AA = pd.DataFrame(A).T\n",
    "    BB = pd.DataFrame(B).T\n",
    "    C = pd.concat([AA, BB])\n",
    "    C = C.reset_index(drop = True)\n",
    "    intervals = intervals.join(C)\n",
    "    intervals.columns = ['point', 'int', 'index']\n",
    "    intervals = intervals.fillna(0)\n",
    "    # Now we have individual indexes for each Tmin and Tmax\n",
    "    \n",
    "    # Sort back to 1 - 200200 by \"int\" column\n",
    "    intervals = intervals.sort_values(by=['int'])\n",
    "    intervals['index'] = intervals['index'].astype(int)\n",
    "    \n",
    "    # Rename points back\n",
    "    intervals.loc[(intervals.point == '01Tmin'), 'point'] = 'Tmin' \n",
    "    intervals.loc[(intervals.point == '02Tmax'), 'point'] = 'Tmax'\n",
    "    \n",
    "     # Creation trigger events dataset\n",
    "    \n",
    "    events_triggers = intervals.merge(events, how = 'left', on = 'index') # merge EVENTS and INTERVALS\n",
    "    \n",
    "    events_triggers = events_triggers.reset_index(drop = True)\n",
    "    events_triggers = events_triggers[['point_x', 'time']] # taking just two columns\n",
    "    events_triggers.columns = ['intervals', 'time'] # renaming columns to \"INTARVALS\" and \"TIME\"\n",
    "\n",
    "    events_triggers['time3'] = events_triggers['time']\n",
    "    events_triggers['time3'].fillna(method='bfill', inplace=True) # filling NaN as the lower  number\n",
    "\n",
    "    events_triggers = events_triggers.dropna(subset=['time3'])# drop NaN by the column\n",
    "\n",
    "    events_triggers['time4'] = events_triggers['time']\n",
    "\n",
    "    events_triggers = events_triggers.fillna(method='ffill') # filling NaN as the upper number\n",
    "\n",
    "    events_triggers['intervals2'] = events_triggers['intervals']\n",
    "    events_triggers.loc[(events_triggers.intervals2 == 'Tmin'), 'intervals2'] = '0' \n",
    "    events_triggers.loc[(events_triggers.intervals2 == 'Tmax'), 'intervals2'] = '0' \n",
    "    events_triggers['intervals2'] = events_triggers['intervals2'].astype(int)\n",
    "\n",
    "    events_triggers['time5'] = events_triggers['time4'] + events_triggers['intervals2']\n",
    "    events_triggers = events_triggers[['intervals', 'time5']]\n",
    "    events_triggers.columns = ['intervals', 'time']\n",
    " \n",
    "    return events_triggers"
   ]
  },
  {
   "cell_type": "markdown",
   "metadata": {
    "id": "NCHs3v1AOCHy"
   },
   "source": [
    "## **2.3 EEG Filtering Function** "
   ]
  },
  {
   "cell_type": "code",
   "execution_count": 4,
   "metadata": {
    "id": "oFGS3R56XGiv"
   },
   "outputs": [],
   "source": [
    "def FILTER_40(file_eeg):\n",
    "    file_eeg.load_data()\n",
    "\n",
    "    # Filtering: low-pass 0.1Hz, High-pass 40Hz\n",
    "    file_eeg_filt_notch = file_eeg.copy().notch_filter(50, verbose='warning')  # notch filter 50 Hz\n",
    "    file_eeg_filt = file_eeg_filt_notch.filter(l_freq=0.1, h_freq=40, fir_design='firwin', skip_by_annotation='edge', verbose='warning') # FIR filter\n",
    "\n",
    "    return file_eeg_filt"
   ]
  },
  {
   "cell_type": "code",
   "execution_count": 5,
   "metadata": {
    "id": "34CIq2BSaZwG"
   },
   "outputs": [],
   "source": [
    "def FILTER_ICA(file_eeg):\n",
    "    file_eeg.load_data()\n",
    "\n",
    "    # Filtering: low-pass 1Hz, High-pass 30Hz\n",
    "    file_eeg_filt_ica = file_eeg.copy().filter(l_freq=1, h_freq=40, fir_design='firwin', skip_by_annotation='edge', verbose='warning') # FIR filter\n",
    "\n",
    "    return file_eeg_filt_ica"
   ]
  },
  {
   "cell_type": "markdown",
   "metadata": {
    "id": "0wEVwHNJOYx6"
   },
   "source": [
    "## **2.4 EEG ICA Function** "
   ]
  },
  {
   "cell_type": "code",
   "execution_count": 6,
   "metadata": {
    "id": "MgI5x_sGYtcv"
   },
   "outputs": [],
   "source": [
    "def REJECT(file_eeg_filt_ica):\n",
    "  tstep = 1.0         # Break raw data into 1 s epochs\n",
    "  events_ica = mne.make_fixed_length_events(file_eeg_filt_ica, duration=tstep)\n",
    "  epochs_ica = mne.Epochs(file_eeg_filt_ica, events_ica,\n",
    "                        tmin=0.0, tmax=tstep,\n",
    "                        baseline=None,\n",
    "                        preload=True)\n",
    "\n",
    "  return epochs_ica"
   ]
  },
  {
   "cell_type": "code",
   "execution_count": 7,
   "metadata": {
    "id": "kq6yhYVmNPeW"
   },
   "outputs": [],
   "source": [
    "def ICA_REJECT_99(epochs_ica):\n",
    "  reject_thr = get_rejection_threshold(epochs_ica)\n",
    "  print('rejection threshold: ', reject_thr)\n",
    "  ica = ICA(n_components=0.99, max_iter='auto', random_state=97, method='fastica')\n",
    "  ica.fit(epochs_ica, reject=reject_thr, tstep=1.0)\n",
    "\n",
    "  return ica"
   ]
  },
  {
   "cell_type": "markdown",
   "metadata": {
    "id": "o9r0OUFKPGOr"
   },
   "source": [
    "## **2.5 IGT and EEG Synchronization Function** "
   ]
  },
  {
   "cell_type": "code",
   "execution_count": 8,
   "metadata": {
    "id": "SSnvCB5BNSNW"
   },
   "outputs": [],
   "source": [
    "def EEG(eeg_data, igt_trigger):    \n",
    "    # The whole dataset creation connecting trigger events with eeg levels by time points\n",
    "    S = eeg_data.join(igt_trigger.set_index('time'), on='time')\n",
    "    S = S.dropna(axis=0, how='any') # erasing NaN rows\n",
    "    S = S.reset_index(drop = True)\n",
    "    \n",
    "    # preparing dataset for following PIVOT function application\n",
    "    # adding 'EPOCHS' column that reflects 200 epochs (each for each card choice) with 1001 time points\n",
    "    S['epochs'] = pd.DataFrame(np.repeat(np.arange(0, 200), 1001))\n",
    "    S.loc[(S.intervals == 'Tmin'), 'intervals'] = '0' \n",
    "    S.loc[(S.intervals == 'Tmax'), 'intervals'] = '1000' \n",
    "    S['intervals'] = S['intervals'].astype(int)\n",
    "\n",
    "    # Dataset transformation, matching (Tmin, -199, -198, ..., -1, RTP(0), 1, 2,3, ....., 788, 789, Tmax) points\n",
    "    S = S.pivot(index='epochs', columns='intervals', values='level')\n",
    "    S = S.reset_index(drop = True)\n",
    "    S_T = S.T\n",
    "    S_T = S_T.reset_index(drop = True)\n",
    "    S_T_T = S_T.T\n",
    "    S_T_T = S_T_T.reset_index(drop = True)\n",
    "    S_T_T_T = S_T_T.T\n",
    "    \n",
    "    return S_T_T_T"
   ]
  },
  {
   "cell_type": "code",
   "execution_count": 9,
   "metadata": {
    "id": "ofOiqe9WPjvM"
   },
   "outputs": [],
   "source": [
    "# Combining 20 EEG datasets in one. Averaging\n",
    "def TOTAL(a):\n",
    "    a_mean = a.mean(axis=1)\n",
    "    \n",
    "    \n",
    "    return a_mean"
   ]
  },
  {
   "cell_type": "code",
   "execution_count": 10,
   "metadata": {
    "id": "zWeEUcCoPkXq"
   },
   "outputs": [],
   "source": [
    "def FRAME(ica):\n",
    "  file_eeg_filt_mod = ica.to_data_frame()\n",
    "  file_eeg_filt_mod.drop('time', axis = 1, inplace = True)\n",
    "  \n",
    "  # Signal averaging by channels\n",
    "  file_eeg_filt_mod['level'] = file_eeg_filt_mod.mean(axis=1)\n",
    "  file_eeg_filt_mod_mean = file_eeg_filt_mod['level']\n",
    "  file_eeg_filt_mod_mean = file_eeg_filt_mod_mean.to_frame()\n",
    "  file_eeg_filt_mod_mean['time'] = file_eeg_filt_mod_mean.index\n",
    "  \n",
    "  return file_eeg_filt_mod_mean"
   ]
  },
  {
   "cell_type": "markdown",
   "metadata": {
    "id": "NH1udf50PpNi"
   },
   "source": [
    "## **2.6 EEG Plot Function** "
   ]
  },
  {
   "cell_type": "code",
   "execution_count": 11,
   "metadata": {
    "id": "7J0XUuajPnFd"
   },
   "outputs": [],
   "source": [
    "def EEG_PLOT(a):\n",
    "  a_mean = a.to_frame()\n",
    "  a_mean['Time'] = pd.DataFrame(np.arange(-200, 801))\n",
    "  a_mean.columns = ['Level', 'Time']\n",
    "\n",
    "  plt.figure(figsize=(20, 6))\n",
    "  \n",
    "  plt.plot(a_mean['Time'], a_mean['Level'])\n",
    "\n",
    "  plt.hlines(0, -200, 800, colors='black', linestyles='dashed')\n",
    "  plt.vlines(0, -3.3, 2.7, colors='black', linestyles='dashed')\n",
    "  plt.grid()\n",
    "  plt.xlabel('Time, [ms]', size='15')\n",
    "  plt.ylabel('Level, [$\\mu V$]', size='15')\n",
    "  y = np.arange(-3.3, 3.3)\n",
    "  plt.fill_betweenx(y,  80, 180, alpha=0.2)\n",
    "  plt.fill_betweenx(y, 180, 280, alpha=0.2)\n",
    "  plt.fill_betweenx(y, 280, 360, alpha=0.2)\n",
    "  plt.fill_betweenx(y, 360, 480, alpha=0.2)\n",
    "  plt.fill_betweenx(y, 480, 600, alpha=0.2)\n",
    "  plt.yticks(fontsize=13)\n",
    "  plt.xticks(np.arange(-200, 801, step=100), fontsize=13)\n",
    "\n",
    "  plt.show()\n",
    "\n",
    "  return"
   ]
  },
  {
   "cell_type": "markdown",
   "metadata": {
    "id": "dqwUYoI_P0bj"
   },
   "source": [
    "## **2.7 EEG Digitizing Function** "
   ]
  },
  {
   "cell_type": "code",
   "execution_count": 12,
   "metadata": {
    "colab": {
     "base_uri": "https://localhost:8080/"
    },
    "id": "tEp5jG4tPp6J",
    "outputId": "85f85bea-ae7f-4eb4-db9f-ba3dc52762c2"
   },
   "outputs": [],
   "source": [
    "builtin_montages = mne.channels.get_builtin_montages()\n",
    "easycap_montage = mne.channels.make_standard_montage('easycap-M1')"
   ]
  },
  {
   "cell_type": "code",
   "execution_count": 13,
   "metadata": {
    "id": "Gfz_uCLQP7P7"
   },
   "outputs": [],
   "source": [
    "def DIGITIZING_IO(file_eeg):\n",
    "  file_eeg.set_channel_types({'Fp1': 'eeg'})\n",
    "  file_eeg.set_montage(easycap_montage)\n",
    "\n",
    "  return file_eeg"
   ]
  },
  {
   "cell_type": "code",
   "execution_count": 14,
   "metadata": {
    "id": "Lg0ffrZBP7TT"
   },
   "outputs": [],
   "source": [
    "def DROP_CHANNELS_IO(file_eeg):\n",
    "  file_eeg.drop_channels(['IO', 'FT9', 'FT7', 'T7', 'TP7', 'TP9', 'FC5', 'CP5', 'FT10', 'FT8', 'T8', 'TP8', 'TP10', 'FC6', 'CP6'])\n",
    "\n",
    "  return file_eeg"
   ]
  },
  {
   "cell_type": "markdown",
   "metadata": {
    "id": "N1o6ARa8P5Rz"
   },
   "source": [
    "## **2.8 Artifacts Removing** "
   ]
  },
  {
   "cell_type": "code",
   "execution_count": 15,
   "metadata": {
    "id": "dynRyGJ7QGtB"
   },
   "outputs": [],
   "source": [
    "def ARTIFACTS_REMOVING_IO(ica, file_eeg_filt):\n",
    "  muscle_idx, muscle_scores = ica.find_bads_muscle(file_eeg_filt,        # muscle artifacts\n",
    "                                                   h_freq=40, \n",
    "                                                   verbose='warning')              \n",
    "  eog_idx,       eog_scores = ica.find_bads_eog(file_eeg_filt,           # eog artifacts\n",
    "                                                ch_name=['Fp1', 'F8'], \n",
    "                                                h_freq=30, \n",
    "                                                verbose='warning')  \n",
    "  ecg_idx                   = [0, 1, 2]                                   # ecg artifacts\n",
    "                                                \n",
    "  file_eeg_filt_clean = ica.apply(file_eeg_filt, exclude = eog_idx + ecg_idx + muscle_idx)\n",
    "\n",
    "  return file_eeg_filt_clean"
   ]
  },
  {
   "cell_type": "markdown",
   "metadata": {
    "id": "UWJQ6zAeQmx9"
   },
   "source": [
    "# **3.0 Data Loading** "
   ]
  },
  {
   "cell_type": "code",
   "execution_count": 16,
   "metadata": {
    "id": "xNsXWreARRiL"
   },
   "outputs": [],
   "source": [
    "def get_dataset(file_igt, file_eeg):\n",
    "    print('')\n",
    "    print('')\n",
    "    print('Files Loading: ', file_igt, file_eeg)\n",
    "    igt = pd.read_csv(file_igt)                  # reading IGT data\n",
    "    \n",
    "    events = EVENTS(igt)                         # trigger-events file creation\n",
    "\n",
    "    file_raw = mne.io.read_raw_edf(file_eeg)     # reading EEG data\n",
    "        \n",
    "    raw = DROP_CHANNELS_IO(file_raw)\n",
    "    eeg = DIGITIZING_IO(raw)\n",
    "    \n",
    "    print('')\n",
    "    print('=== FILTER ===')\n",
    "    file_eeg_filt = FILTER_40(eeg)              # EEG filtering\n",
    "    print('')\n",
    "    print('=== REJECT ===')  \n",
    "    file_eeg_filt_ica = FILTER_ICA(eeg)         # EEG ICA filter\n",
    "    file_eeg_filt_reject = REJECT(file_eeg_filt_ica)\n",
    "    print('')\n",
    "    print('=== ICA ===')\n",
    "    file_eeg_filt_reject_ica = ICA_REJECT_99(file_eeg_filt_reject)\n",
    "    print('')\n",
    "    print('=== ARTIFACTS ===')\n",
    "    file_eeg_filt_reject_ica_clean = ARTIFACTS_REMOVING_IO(file_eeg_filt_reject_ica, file_eeg_filt)\n",
    "    print('')\n",
    "    print('=== PLOT ===')\n",
    "    file_eeg_filt_reject_ica_clean_frame = FRAME(file_eeg_filt_reject_ica_clean)\n",
    "    EEGdata = EEG(file_eeg_filt_reject_ica_clean_frame, events) \n",
    "    EEGdata_avg = TOTAL(EEGdata)\n",
    "    EEG_PLOT(EEGdata_avg)\n",
    "  \n",
    "    return EEGdata"
   ]
  },
  {
   "cell_type": "code",
   "execution_count": 17,
   "metadata": {
    "id": "Tk7G5hN_QnXh"
   },
   "outputs": [],
   "source": [
    "def get_eeg_plot(data_dir):\n",
    "    files_list = os.listdir(data_dir)\n",
    "    files_igt =   [i for i in files_list if i.split('.')[-1] == 'mrk']\n",
    "    files_eeg =   [i for i in files_list if i.split('.')[-1] == 'edf']\n",
    "\n",
    "    for file_eeg in files_eeg:\n",
    "        df = get_dataset(files_igt[files_igt.index(file_eeg+'.mrk')], file_eeg)\n",
    "        print('Files Loaded: ', files_igt[files_igt.index(file_eeg+'.mrk')], file_eeg)\n",
    "        print('============')\n",
    "        print('')\n",
    "        print('')\n",
    "    \n",
    "    return df"
   ]
  },
  {
   "cell_type": "markdown",
   "metadata": {
    "id": "cpGnZkOBds7Q"
   },
   "source": [
    "# **4.0 Features Extraction** "
   ]
  },
  {
   "cell_type": "code",
   "execution_count": 18,
   "metadata": {
    "id": "pl9hKmjtdxB-"
   },
   "outputs": [],
   "source": [
    "def get_fft_values(signal, T, N, f_s):\n",
    "    f_values = np.linspace(0.0, 1.0/(2.0*T), N//2)\n",
    "    fft_values_ = fft(signal)\n",
    "    fft_values = 2.0/N * np.abs(fft_values_[0:N//2])\n",
    "    return f_values, fft_values\n",
    "      \n",
    "def get_psd_values(signal, T, N, f_s):\n",
    "    f_values, psd_values = welch(signal, fs=f_s)\n",
    "    return f_values, psd_values\n",
    "\n",
    "def acf(x):\n",
    "    result = np.correlate(x, x, mode='full')\n",
    "    return result[len(result)//2:]\n",
    "\n",
    "def get_acf_values(signal, T, N, f_s):\n",
    "    acf_values = acf(signal)\n",
    "    x_values = np.array([T * jj for jj in range(0, N)])\n",
    "    return x_values, acf_values\n",
    "    \n",
    "def get_first_n_peaks(x, y, n_peaks): \n",
    "    x_, y_ = list(x), list(y)\n",
    "    if len(x_) >= n_peaks:\n",
    "        return x_[:n_peaks], y_[:n_peaks]\n",
    "    else:\n",
    "        missing_n_peaks = n_peaks-len(x_)\n",
    "        return x_ + [0]*missing_n_peaks, y_ + [0]*missing_n_peaks \n",
    "    \n",
    "def get_features_peaks(x_values, y_values, mph, n_peaks):\n",
    "    indices_peaks = detect_peaks(y_values, mph=mph)\n",
    "    peaks_x, peaks_y = get_first_n_peaks(x_values[indices_peaks], y_values[indices_peaks], n_peaks)\n",
    "    return peaks_x + peaks_y\n",
    "\n",
    "def extract_features_signal(signal, percentile, denominator, n_peaks):\n",
    "    t_n = 1\n",
    "    N = len(signal)\n",
    "    T = t_n / N\n",
    "    f_s = 1/T \n",
    "    \n",
    "    cwt_waveletname = 'morl' \n",
    "    dwt_waveletname = 'db4' \n",
    "    denominator = 10 \n",
    "    percentile = 5 \n",
    "    n_peaks = 50\n",
    "        \n",
    "    features = []\n",
    "    signal_min = np.nanpercentile(signal, percentile)\n",
    "    signal_max = np.nanpercentile(signal, 100-percentile)\n",
    "    mph = signal_min + (signal_max - signal_min)/denominator\n",
    "\n",
    "    features += get_features_peaks(*get_fft_values(signal, T, N, f_s), mph, n_peaks)\n",
    "    features += get_features_peaks(*get_psd_values(signal, T, N, f_s), mph, n_peaks)\n",
    "    features += get_features_peaks(*get_acf_values(signal, T, N, f_s), mph, n_peaks)\n",
    "    return features\n",
    "\n",
    "def calculate_entropy(signal):\n",
    "    counter_values = Counter(signal).most_common()\n",
    "    probabilities = [elem[1]/len(signal) for elem in counter_values]\n",
    "    entropy = scipy.stats.entropy(probabilities)\n",
    "    return entropy\n",
    "\n",
    "def calculate_statistics(signal):\n",
    "    n0 = np.nanpercentile(signal, 0)\n",
    "    n10 = np.nanpercentile(signal, 10)\n",
    "    n20 = np.nanpercentile(signal, 20)\n",
    "    n30 = np.nanpercentile(signal, 30)\n",
    "    n40 = np.nanpercentile(signal, 40)\n",
    "    n50 = np.nanpercentile(signal, 50)\n",
    "    n60 = np.nanpercentile(signal, 60)\n",
    "    n70 = np.nanpercentile(signal, 70)\n",
    "    n80 = np.nanpercentile(signal, 80)\n",
    "    n90 = np.nanpercentile(signal, 90)\n",
    "    n100 = np.nanpercentile(signal, 100)\n",
    "    hist, bin_edges = np.histogram(signal, density=True)\n",
    "    min_ = np.nanmin(signal)\n",
    "    max_ = np.nanmax(signal)\n",
    "    median = np.nanpercentile(signal, 50)\n",
    "    mean = np.nanmean(signal)\n",
    "\n",
    "    std = np.nanstd(signal)\n",
    "    var = np.nanvar(signal)\n",
    "    rms = np.nanmean(np.sqrt(signal**2))\n",
    "    skewn = stats.skew(signal)\n",
    "    kurts = stats.kurtosis(signal)\n",
    "\n",
    "    return [n0, n10, n20, n30, n40, n50, \n",
    "            n60, n70, n80, n90, n100, \n",
    "            hist[0], hist[1], hist[2], hist[3], hist[4],\n",
    "            hist[5], hist[6], hist[7], hist[8], hist[9],\n",
    "            min_, max_, median, mean, std, var, rms,\n",
    "            skewn, kurts]\n",
    "\n",
    "def calculate_crossings(signal):\n",
    "    zero_crossing_indices = np.nonzero(np.diff(np.array(signal) > 0))[0]\n",
    "    no_zero_crossings = len(zero_crossing_indices)\n",
    "    mean_crossing_indices = np.nonzero(np.diff(np.array(signal) > np.nanmean(signal)))[0]\n",
    "    no_mean_crossings = len(mean_crossing_indices)\n",
    "    return [no_zero_crossings, no_mean_crossings]\n",
    "\n",
    "def get_features_dwt(signal):\n",
    "    entropy = calculate_entropy(signal)\n",
    "    statistics = calculate_statistics(signal)\n",
    "    crossings = calculate_crossings(signal)\n",
    "    return [entropy] + statistics + crossings \n",
    "\n",
    "def get_eeg_features(signal, waveletname):\n",
    "    list_features = []\n",
    "    list_coeff = pywt.wavedec(signal, waveletname)\n",
    "    features = []\n",
    "    for coeff in list_coeff:\n",
    "         features += get_features_dwt(coeff)\n",
    "    list_features += features\n",
    "    return list_features"
   ]
  },
  {
   "cell_type": "code",
   "execution_count": 19,
   "metadata": {
    "id": "BBfATx13luut"
   },
   "outputs": [],
   "source": [
    "def get_signal_features(data_dir = './', cwt_waveletname = 'morl', dwt_waveletname = 'db4', \n",
    "                     denominator = 10, percentile = 5, n_peaks = 50):\n",
    "    files_list = os.listdir(data_dir)\n",
    "    files_igt =   [i for i in files_list if i.split('.')[-1] == 'mrk']\n",
    "    files_eeg =   [i for i in files_list if i.split('.')[-1] == 'edf']\n",
    "    files_index = [i for i in files_list if 'Index' in i]\n",
    "    y_index = pd.read_csv(files_index[0], header = None)\n",
    "\n",
    "    peaks_features_1000ms =  []\n",
    "\n",
    "    dwt_features_1000ms =  []\n",
    "\n",
    "    cwt_features_1000ms =  []\n",
    "    \n",
    "   \n",
    "    peaks_features_ERN =  []\n",
    "    peaks_features_P200 = []\n",
    "    peaks_features_FRN =  []\n",
    "    peaks_features_P300 = []\n",
    "    peaks_features_N500 = []\n",
    "\n",
    "    dwt_features_ERN =  []\n",
    "    dwt_features_P200 = []\n",
    "    dwt_features_FRN =  []\n",
    "    dwt_features_P300 = []\n",
    "    dwt_features_N500 = []\n",
    "\n",
    "    cwt_features_ERN =  []\n",
    "    cwt_features_P200 = []\n",
    "    cwt_features_FRN =  []\n",
    "    cwt_features_P300 = []\n",
    "    cwt_features_N500 = []\n",
    "\n",
    "\n",
    "    y = []\n",
    "\n",
    "    for file_eeg in files_eeg:\n",
    "        df = get_dataset(files_igt[files_igt.index(file_eeg+'.mrk')], file_eeg)\n",
    "        print('Files Loaded: ', files_igt[files_igt.index(file_eeg+'.mrk')], file_eeg)\n",
    "        print('Events number in record: ', len(df.columns))\n",
    "        print('Columns Name: ', df.columns)\n",
    "        print('')\n",
    "\n",
    "           \n",
    "        for i in range(0, len(df.columns)): # Event range\n",
    "            # ERP intervals:\n",
    "            signal_1000ms  = df[i].values[0:1001]\n",
    "            \n",
    "            signal_ERN  = df[i].values[280:381]\n",
    "            signal_P200 = df[i].values[380:481]\n",
    "            signal_FRN  = df[i].values[480:561]\n",
    "            signal_P300 = df[i].values[560:681]\n",
    "            signal_N500 = df[i].values[680:801]\n",
    "\n",
    "\n",
    "            # Extracting features as peaks from FFT, PSD, and ACF\n",
    "            peaks_features_1000ms.append (extract_features_signal(signal_1000ms,  percentile, denominator, n_peaks))\n",
    "            \n",
    "            peaks_features_ERN.append (extract_features_signal(signal_ERN,  percentile, denominator, n_peaks))\n",
    "            peaks_features_P200.append(extract_features_signal(signal_P200, percentile, denominator, n_peaks))\n",
    "            peaks_features_FRN.append (extract_features_signal(signal_FRN,  percentile, denominator, n_peaks))\n",
    "            peaks_features_P300.append(extract_features_signal(signal_P300, percentile, denominator, n_peaks))\n",
    "            peaks_features_N500.append(extract_features_signal(signal_N500, percentile, denominator, n_peaks))\n",
    "\n",
    "\n",
    "            # Extracting features as the result of application DWT to the signal sub-bands\n",
    "            dwt_features_1000ms.append (get_eeg_features(signal_1000ms,  dwt_waveletname))\n",
    "            \n",
    "            dwt_features_ERN.append (get_eeg_features(signal_ERN,  dwt_waveletname))\n",
    "            dwt_features_P200.append(get_eeg_features(signal_P200, dwt_waveletname))\n",
    "            dwt_features_FRN.append (get_eeg_features(signal_FRN,  dwt_waveletname))\n",
    "            dwt_features_P300.append(get_eeg_features(signal_P300, dwt_waveletname))\n",
    "            dwt_features_N500.append(get_eeg_features(signal_N500, dwt_waveletname))\n",
    "\n",
    "\n",
    "            # Extracting features as the result of application CWT to the signal\n",
    "            scales = np.arange(0.1, 128)\n",
    "            cwt_features_1000ms.append (pywt.cwt(signal_1000ms,  scales, cwt_waveletname, 1)[0])\n",
    "            \n",
    "            cwt_features_ERN.append (pywt.cwt(signal_ERN,  scales, cwt_waveletname, 1)[0])\n",
    "            cwt_features_P200.append(pywt.cwt(signal_P200, scales, cwt_waveletname, 1)[0])\n",
    "            cwt_features_FRN.append (pywt.cwt(signal_FRN,  scales, cwt_waveletname, 1)[0])\n",
    "            cwt_features_P300.append(pywt.cwt(signal_P300, scales, cwt_waveletname, 1)[0])\n",
    "            cwt_features_N500.append(pywt.cwt(signal_N500, scales, cwt_waveletname, 1)[0])\n",
    "\n",
    "\n",
    "            # Label adding to each event\n",
    "            y.append(int(y_index[0][int(file_eeg.split('.')[0][1:])]))\n",
    "            \n",
    "            \n",
    "    return peaks_features_ERN, peaks_features_P200, peaks_features_FRN, peaks_features_P300, peaks_features_N500, \\\n",
    "             dwt_features_ERN,   dwt_features_P200,   dwt_features_FRN,   dwt_features_P300,   dwt_features_N500, \\\n",
    "             cwt_features_ERN,   cwt_features_P200,   cwt_features_FRN,   cwt_features_P300,   cwt_features_N500, \\\n",
    "             peaks_features_1000ms, \\\n",
    "             dwt_features_1000ms, \\\n",
    "             cwt_features_1000ms, \\\n",
    "             y"
   ]
  },
  {
   "cell_type": "code",
   "execution_count": 20,
   "metadata": {
    "colab": {
     "base_uri": "https://localhost:8080/",
     "height": 1000
    },
    "id": "ZOxc2nd3eDKm",
    "outputId": "e0ae111c-3976-4ff8-d99b-50d287a43e1a"
   },
   "outputs": [
    {
     "name": "stdout",
     "output_type": "stream",
     "text": [
      "\n",
      "\n",
      "Files Loading:  S03.edf.mrk S03.edf\n"
     ]
    },
    {
     "name": "stderr",
     "output_type": "stream",
     "text": [
      "<ipython-input-3-bfc5ec795950>:46: SettingWithCopyWarning: \n",
      "A value is trying to be set on a copy of a slice from a DataFrame.\n",
      "Try using .loc[row_indexer,col_indexer] = value instead\n",
      "\n",
      "See the caveats in the documentation: https://pandas.pydata.org/pandas-docs/stable/user_guide/indexing.html#returning-a-view-versus-a-copy\n",
      "  Tmin['index'] = pd.DataFrame(np.arange(1001, 2001))\n"
     ]
    },
    {
     "name": "stdout",
     "output_type": "stream",
     "text": [
      "Extracting EDF parameters from C:\\Users\\dkornev\\Desktop\\Work Folder\\My Folders\\Harrisburg University\\ISEM 780-52-A-2021 Fall - Doctoral Research Seminar\\Experiment_min_max\\S03.edf...\n",
      "EDF file detected\n",
      "Setting channel info structure...\n",
      "Creating raw.info structure...\n",
      "\n",
      "=== FILTER ===\n",
      "Reading 0 ... 1855999  =      0.000 ...  1855.999 secs...\n",
      "\n",
      "=== REJECT ===\n",
      "Not setting metadata\n",
      "1856 matching events found\n",
      "No baseline correction applied\n",
      "0 projection items activated\n",
      "Using data from preloaded Raw for 1856 events and 1001 original time points ...\n",
      "1 bad epochs dropped\n",
      "\n",
      "=== ICA ===\n",
      "Estimating rejection dictionary for eeg\n",
      "rejection threshold:  {'eeg': 0.00017140894831625095}\n",
      "Fitting ICA to data using 49 channels (please be patient, this may take a while)\n"
     ]
    },
    {
     "name": "stderr",
     "output_type": "stream",
     "text": [
      "<ipython-input-7-efa77eb1992e>:5: RuntimeWarning: The following parameters passed to ICA.fit() will be ignored, as they only affect raw data (and it appears you passed epochs): reject\n",
      "  ica.fit(epochs_ica, reject=reject_thr, tstep=1.0)\n"
     ]
    },
    {
     "name": "stdout",
     "output_type": "stream",
     "text": [
      "Selecting by explained variance: 24 components\n",
      "Fitting ICA took 90.0s.\n",
      "\n",
      "=== ARTIFACTS ===\n",
      "Applying ICA to Raw instance\n",
      "    Transforming to ICA space (24 components)\n",
      "    Zeroing out 19 ICA components\n",
      "    Projecting back using 49 PCA components\n",
      "\n",
      "=== PLOT ===\n"
     ]
    },
    {
     "data": {
      "image/png": "[encoded data removed]",
      "text/plain": [
       "<Figure size 1440x432 with 1 Axes>"
      ]
     },
     "metadata": {
      "needs_background": "light"
     },
     "output_type": "display_data"
    },
    {
     "name": "stdout",
     "output_type": "stream",
     "text": [
      "Files Loaded:  S03.edf.mrk S03.edf\n",
      "Events number in record:  200\n",
      "Columns Name:  RangeIndex(start=0, stop=200, step=1)\n",
      "\n"
     ]
    },
    {
     "name": "stderr",
     "output_type": "stream",
     "text": [
      "C:\\Users\\dkornev\\Anaconda3\\lib\\site-packages\\scipy\\signal\\spectral.py:1961: UserWarning: nperseg = 256 is greater than input length  = 101, using nperseg = 101\n",
      "  warnings.warn('nperseg = {0:d} is greater than input length '\n",
      "C:\\Users\\dkornev\\Anaconda3\\lib\\site-packages\\scipy\\signal\\spectral.py:1961: UserWarning: nperseg = 256 is greater than input length  = 81, using nperseg = 81\n",
      "  warnings.warn('nperseg = {0:d} is greater than input length '\n",
      "C:\\Users\\dkornev\\Anaconda3\\lib\\site-packages\\scipy\\signal\\spectral.py:1961: UserWarning: nperseg = 256 is greater than input length  = 121, using nperseg = 121\n",
      "  warnings.warn('nperseg = {0:d} is greater than input length '\n"
     ]
    },
    {
     "name": "stdout",
     "output_type": "stream",
     "text": [
      "\n",
      "\n",
      "Files Loading:  S15.edf.mrk S15.edf\n"
     ]
    },
    {
     "name": "stderr",
     "output_type": "stream",
     "text": [
      "<ipython-input-3-bfc5ec795950>:46: SettingWithCopyWarning: \n",
      "A value is trying to be set on a copy of a slice from a DataFrame.\n",
      "Try using .loc[row_indexer,col_indexer] = value instead\n",
      "\n",
      "See the caveats in the documentation: https://pandas.pydata.org/pandas-docs/stable/user_guide/indexing.html#returning-a-view-versus-a-copy\n",
      "  Tmin['index'] = pd.DataFrame(np.arange(1001, 2001))\n"
     ]
    },
    {
     "name": "stdout",
     "output_type": "stream",
     "text": [
      "Extracting EDF parameters from C:\\Users\\dkornev\\Desktop\\Work Folder\\My Folders\\Harrisburg University\\ISEM 780-52-A-2021 Fall - Doctoral Research Seminar\\Experiment_min_max\\S15.edf...\n",
      "EDF file detected\n",
      "Setting channel info structure...\n",
      "Creating raw.info structure...\n",
      "\n",
      "=== FILTER ===\n",
      "Reading 0 ... 2104999  =      0.000 ...  2104.999 secs...\n",
      "\n",
      "=== REJECT ===\n",
      "Not setting metadata\n",
      "2105 matching events found\n",
      "No baseline correction applied\n",
      "0 projection items activated\n",
      "Using data from preloaded Raw for 2105 events and 1001 original time points ...\n",
      "1 bad epochs dropped\n",
      "\n",
      "=== ICA ===\n",
      "Estimating rejection dictionary for eeg\n",
      "rejection threshold:  {'eeg': 0.0003927596655520321}\n",
      "Fitting ICA to data using 49 channels (please be patient, this may take a while)\n"
     ]
    },
    {
     "name": "stderr",
     "output_type": "stream",
     "text": [
      "<ipython-input-7-efa77eb1992e>:5: RuntimeWarning: The following parameters passed to ICA.fit() will be ignored, as they only affect raw data (and it appears you passed epochs): reject\n",
      "  ica.fit(epochs_ica, reject=reject_thr, tstep=1.0)\n"
     ]
    },
    {
     "name": "stdout",
     "output_type": "stream",
     "text": [
      "Selecting by explained variance: 19 components\n",
      "Fitting ICA took 97.2s.\n",
      "\n",
      "=== ARTIFACTS ===\n",
      "Applying ICA to Raw instance\n",
      "    Transforming to ICA space (19 components)\n",
      "    Zeroing out 13 ICA components\n",
      "    Projecting back using 49 PCA components\n",
      "\n",
      "=== PLOT ===\n"
     ]
    },
    {
     "data": {
      "image/png": "[encoded data removed]",
      "text/plain": [
       "<Figure size 1440x432 with 1 Axes>"
      ]
     },
     "metadata": {
      "needs_background": "light"
     },
     "output_type": "display_data"
    },
    {
     "name": "stdout",
     "output_type": "stream",
     "text": [
      "Files Loaded:  S15.edf.mrk S15.edf\n",
      "Events number in record:  200\n",
      "Columns Name:  RangeIndex(start=0, stop=200, step=1)\n",
      "\n"
     ]
    },
    {
     "name": "stderr",
     "output_type": "stream",
     "text": [
      "C:\\Users\\dkornev\\Anaconda3\\lib\\site-packages\\scipy\\signal\\spectral.py:1961: UserWarning: nperseg = 256 is greater than input length  = 101, using nperseg = 101\n",
      "  warnings.warn('nperseg = {0:d} is greater than input length '\n",
      "C:\\Users\\dkornev\\Anaconda3\\lib\\site-packages\\scipy\\signal\\spectral.py:1961: UserWarning: nperseg = 256 is greater than input length  = 81, using nperseg = 81\n",
      "  warnings.warn('nperseg = {0:d} is greater than input length '\n",
      "C:\\Users\\dkornev\\Anaconda3\\lib\\site-packages\\scipy\\signal\\spectral.py:1961: UserWarning: nperseg = 256 is greater than input length  = 121, using nperseg = 121\n",
      "  warnings.warn('nperseg = {0:d} is greater than input length '\n"
     ]
    }
   ],
   "source": [
    "peaks_features_ERN,  peaks_features_P200, peaks_features_FRN, peaks_features_P300, peaks_features_N500, \\\n",
    "  dwt_features_ERN,    dwt_features_P200,   dwt_features_FRN,   dwt_features_P300,   dwt_features_N500, \\\n",
    "  cwt_features_ERN,    cwt_features_P200,   cwt_features_FRN,   cwt_features_P300,   cwt_features_N500, \\\n",
    "  peaks_features_1000ms, \\\n",
    "  dwt_features_1000ms, \\\n",
    "  cwt_features_1000ms, \\\n",
    "  y = get_signal_features(data_dir = './', \n",
    "                          cwt_waveletname = 'morl', \n",
    "                          dwt_waveletname = 'db4', \n",
    "                          denominator = 10, \n",
    "                          percentile = 5, \n",
    "                          n_peaks = 50)"
   ]
  },
  {
   "cell_type": "code",
   "execution_count": 21,
   "metadata": {
    "colab": {
     "base_uri": "https://localhost:8080/"
    },
    "id": "NWNCDvHdeSwT",
    "outputId": "adf9fa1b-b10a-4230-a792-368a1a0a3b0a"
   },
   "outputs": [
    {
     "data": {
      "text/plain": [
       "(400, 264)"
      ]
     },
     "execution_count": 21,
     "metadata": {},
     "output_type": "execute_result"
    }
   ],
   "source": [
    "np.array(dwt_features_1000ms).shape"
   ]
  },
  {
   "cell_type": "code",
   "execution_count": 22,
   "metadata": {},
   "outputs": [
    {
     "data": {
      "text/plain": [
       "((400, 132), (400, 132), (400, 132), (400, 165), (400, 165))"
      ]
     },
     "execution_count": 22,
     "metadata": {},
     "output_type": "execute_result"
    }
   ],
   "source": [
    "np.array(dwt_features_ERN).shape, np.array(dwt_features_P200).shape, np.array(dwt_features_FRN).shape, np.array(dwt_features_P300).shape, np.array(dwt_features_N500).shape"
   ]
  },
  {
   "cell_type": "code",
   "execution_count": 23,
   "metadata": {
    "colab": {
     "base_uri": "https://localhost:8080/"
    },
    "id": "5PO1sfFzg1AZ",
    "outputId": "ebe158a7-0969-4e6d-de2d-6c86d8e3aaf6"
   },
   "outputs": [
    {
     "data": {
      "text/plain": [
       "(400, 128, 1001)"
      ]
     },
     "execution_count": 23,
     "metadata": {},
     "output_type": "execute_result"
    }
   ],
   "source": [
    "np.array(cwt_features_1000ms).shape"
   ]
  },
  {
   "cell_type": "code",
   "execution_count": 24,
   "metadata": {},
   "outputs": [
    {
     "data": {
      "text/plain": [
       "((400, 128, 101),\n",
       " (400, 128, 101),\n",
       " (400, 128, 81),\n",
       " (400, 128, 121),\n",
       " (400, 128, 121))"
      ]
     },
     "execution_count": 24,
     "metadata": {},
     "output_type": "execute_result"
    }
   ],
   "source": [
    "np.array(cwt_features_ERN).shape, np.array(cwt_features_P200).shape, np.array(cwt_features_FRN).shape, np.array(cwt_features_P300).shape, np.array(cwt_features_N500).shape"
   ]
  },
  {
   "cell_type": "code",
   "execution_count": 25,
   "metadata": {
    "colab": {
     "base_uri": "https://localhost:8080/"
    },
    "id": "mrnAdIR8eTjp",
    "outputId": "643c4ff5-5239-4e02-8fec-763f3a4217a0"
   },
   "outputs": [
    {
     "data": {
      "text/plain": [
       "(400, 300)"
      ]
     },
     "execution_count": 25,
     "metadata": {},
     "output_type": "execute_result"
    }
   ],
   "source": [
    "np.array(peaks_features_1000ms).shape"
   ]
  },
  {
   "cell_type": "code",
   "execution_count": 26,
   "metadata": {},
   "outputs": [
    {
     "data": {
      "text/plain": [
       "((400, 300), (400, 300), (400, 300), (400, 300), (400, 300))"
      ]
     },
     "execution_count": 26,
     "metadata": {},
     "output_type": "execute_result"
    }
   ],
   "source": [
    "np.array(peaks_features_ERN).shape, np.array(peaks_features_P200).shape, np.array(peaks_features_FRN).shape, np.array(peaks_features_P300).shape, np.array(peaks_features_N500).shape"
   ]
  },
  {
   "cell_type": "code",
   "execution_count": 27,
   "metadata": {
    "colab": {
     "base_uri": "https://localhost:8080/"
    },
    "id": "F3bgyGHWeSyv",
    "outputId": "f0217953-0e31-492e-8992-9b4e90061fe1"
   },
   "outputs": [
    {
     "data": {
      "text/plain": [
       "((400,), array([0, 1]))"
      ]
     },
     "execution_count": 27,
     "metadata": {},
     "output_type": "execute_result"
    }
   ],
   "source": [
    "np.array(y).shape, np.unique(y)"
   ]
  },
  {
   "cell_type": "markdown",
   "metadata": {
    "id": "uFKR86oA2N8L"
   },
   "source": [
    "# **5.0 ML Application** "
   ]
  },
  {
   "cell_type": "code",
   "execution_count": 28,
   "metadata": {
    "id": "-Qlvibn5Z9PX"
   },
   "outputs": [],
   "source": [
    "def plot_history_acc(history):\n",
    "    plt.plot(history.history['accuracy'], \n",
    "            label='accuracy on training set')\n",
    "    plt.plot(history.history['val_accuracy'], \n",
    "            label='accuracy on validation set')\n",
    "    plt.xlabel('epoch')\n",
    "    plt.ylabel('accuracy')\n",
    "    plt.legend()\n",
    "    plt.show()\n",
    "\n",
    "def plot_history_loss(history):\n",
    "    plt.plot(history.history['loss'], \n",
    "         label='loss on training set')\n",
    "    plt.plot(history.history['val_loss'], \n",
    "         label='loss on validation set')\n",
    "    plt.xlabel('epoch')\n",
    "    plt.ylabel('loss')\n",
    "    plt.legend()\n",
    "    plt.show()"
   ]
  },
  {
   "cell_type": "code",
   "execution_count": 29,
   "metadata": {},
   "outputs": [],
   "source": [
    "def STANDARDIZATION(X):\n",
    "    PredictorScaler = StandardScaler()\n",
    "    PredictorScalerFit = PredictorScaler.fit(X)\n",
    "    X = PredictorScalerFit.transform(X)\n",
    "    return X"
   ]
  },
  {
   "cell_type": "code",
   "execution_count": 30,
   "metadata": {},
   "outputs": [
    {
     "ename": "NameError",
     "evalue": "name 'peaks_features' is not defined",
     "output_type": "error",
     "traceback": [
      "\u001b[1;31m---------------------------------------------------------------------------\u001b[0m",
      "\u001b[1;31mNameError\u001b[0m                                 Traceback (most recent call last)",
      "\u001b[1;32m<ipython-input-30-6dfe2946a7bd>\u001b[0m in \u001b[0;36m<module>\u001b[1;34m\u001b[0m\n\u001b[0;32m      1\u001b[0m \u001b[1;31m# Normalization\u001b[0m\u001b[1;33m\u001b[0m\u001b[1;33m\u001b[0m\u001b[1;33m\u001b[0m\u001b[0m\n\u001b[1;32m----> 2\u001b[1;33m \u001b[0mpeaks_features_norm\u001b[0m \u001b[1;33m=\u001b[0m \u001b[0mpreprocessing\u001b[0m\u001b[1;33m.\u001b[0m\u001b[0mnormalize\u001b[0m\u001b[1;33m(\u001b[0m\u001b[0mpeaks_features\u001b[0m\u001b[1;33m)\u001b[0m\u001b[1;33m\u001b[0m\u001b[1;33m\u001b[0m\u001b[0m\n\u001b[0m\u001b[0;32m      3\u001b[0m \u001b[0mcwt_features_norm\u001b[0m   \u001b[1;33m=\u001b[0m \u001b[0mnp\u001b[0m\u001b[1;33m.\u001b[0m\u001b[0marray\u001b[0m\u001b[1;33m(\u001b[0m\u001b[0mcwt_features\u001b[0m\u001b[1;33m)\u001b[0m \u001b[1;33m/\u001b[0m \u001b[0mnp\u001b[0m\u001b[1;33m.\u001b[0m\u001b[0msqrt\u001b[0m\u001b[1;33m(\u001b[0m\u001b[0mnp\u001b[0m\u001b[1;33m.\u001b[0m\u001b[0msum\u001b[0m\u001b[1;33m(\u001b[0m\u001b[1;33m(\u001b[0m\u001b[0mnp\u001b[0m\u001b[1;33m.\u001b[0m\u001b[0marray\u001b[0m\u001b[1;33m(\u001b[0m\u001b[0mcwt_features\u001b[0m\u001b[1;33m)\u001b[0m\u001b[1;33m)\u001b[0m\u001b[1;33m**\u001b[0m\u001b[1;36m2\u001b[0m\u001b[1;33m)\u001b[0m\u001b[1;33m)\u001b[0m\u001b[1;33m\u001b[0m\u001b[1;33m\u001b[0m\u001b[0m\n\u001b[0;32m      4\u001b[0m \u001b[0mdwt_features_norm\u001b[0m   \u001b[1;33m=\u001b[0m \u001b[0mpreprocessing\u001b[0m\u001b[1;33m.\u001b[0m\u001b[0mnormalize\u001b[0m\u001b[1;33m(\u001b[0m\u001b[0mdwt_features\u001b[0m\u001b[1;33m)\u001b[0m\u001b[1;33m\u001b[0m\u001b[1;33m\u001b[0m\u001b[0m\n",
      "\u001b[1;31mNameError\u001b[0m: name 'peaks_features' is not defined"
     ]
    }
   ],
   "source": [
    "# Normalization\n",
    "peaks_features_norm = preprocessing.normalize(peaks_features_1000ms)\n",
    "cwt_features_norm   = np.array(cwt_features_1000ms) / np.sqrt(np.sum((np.array(cwt_features_1000ms))**2))\n",
    "dwt_features_norm   = preprocessing.normalize(dwt_features_1000ms)"
   ]
  },
  {
   "cell_type": "code",
   "execution_count": 30,
   "metadata": {},
   "outputs": [],
   "source": [
    "from tensorflow.keras import utils "
   ]
  },
  {
   "cell_type": "code",
   "execution_count": 31,
   "metadata": {},
   "outputs": [],
   "source": [
    "X_peaks  = STANDARDIZATION(peaks_features_1000ms)\n",
    "\n",
    "y = np.array(y)"
   ]
  },
  {
   "cell_type": "code",
   "execution_count": 33,
   "metadata": {},
   "outputs": [],
   "source": [
    "X_train, X_test, y_train, y_test = train_test_split(X_peaks, y, test_size=0.4, random_state=42)\n",
    "D = X_train.shape[1]\n",
    "    \n",
    "history = History()\n",
    "    \n",
    "classifier = Sequential()\n",
    "    \n",
    "classifier.add(Dense(units=10, input_dim=D, kernel_initializer='uniform', activation='relu'))\n",
    "classifier.add(Dropout(0.3, input_shape=(X_train.shape[1],))) \n",
    "classifier.add(Dense(units=8, kernel_initializer='normal', activation='relu'))\n",
    "classifier.add(Dropout(0.3))\n",
    "classifier.add(Dense(units=1, kernel_initializer='uniform', activation='sigmoid'))"
   ]
  },
  {
   "cell_type": "code",
   "execution_count": 34,
   "metadata": {},
   "outputs": [
    {
     "name": "stdout",
     "output_type": "stream",
     "text": [
      "Model: \"sequential\"\n",
      "_________________________________________________________________\n",
      " Layer (type)                Output Shape              Param #   \n",
      "=================================================================\n",
      " dense (Dense)               (None, 10)                3010      \n",
      "                                                                 \n",
      " dropout (Dropout)           (None, 10)                0         \n",
      "                                                                 \n",
      " dense_1 (Dense)             (None, 8)                 88        \n",
      "                                                                 \n",
      " dropout_1 (Dropout)         (None, 8)                 0         \n",
      "                                                                 \n",
      " dense_2 (Dense)             (None, 1)                 9         \n",
      "                                                                 \n",
      "=================================================================\n",
      "Total params: 3,107\n",
      "Trainable params: 3,107\n",
      "Non-trainable params: 0\n",
      "_________________________________________________________________\n",
      "None\n"
     ]
    }
   ],
   "source": [
    "print(classifier.summary())"
   ]
  },
  {
   "cell_type": "code",
   "execution_count": 37,
   "metadata": {},
   "outputs": [
    {
     "data": {
      "image/png": "[encoded data removed]",
      "text/plain": [
       "<IPython.core.display.Image object>"
      ]
     },
     "execution_count": 37,
     "metadata": {},
     "output_type": "execute_result"
    }
   ],
   "source": [
    "utils.plot_model(classifier, to_file='model_plot.png', show_shapes=True, show_layer_names=True)"
   ]
  },
  {
   "cell_type": "code",
   "execution_count": 38,
   "metadata": {},
   "outputs": [],
   "source": [
    "X_dwt  = STANDARDIZATION(dwt_features_1000ms)\n",
    "\n",
    "y = np.array(y)"
   ]
  },
  {
   "cell_type": "code",
   "execution_count": 39,
   "metadata": {},
   "outputs": [],
   "source": [
    "X_train, X_test, y_train, y_test = train_test_split(X_dwt, y, test_size=0.4, random_state=42)\n",
    "D = X_train.shape[1]\n",
    "    \n",
    "history = History()\n",
    "    \n",
    "classifier = Sequential()\n",
    "    \n",
    "classifier.add(Dense(units=10, input_dim=D, kernel_initializer='uniform', activation='relu'))\n",
    "classifier.add(Dropout(0.3, input_shape=(X_train.shape[1],))) \n",
    "classifier.add(Dense(units=8, kernel_initializer='normal', activation='relu'))\n",
    "classifier.add(Dropout(0.3))\n",
    "classifier.add(Dense(units=1, kernel_initializer='uniform', activation='sigmoid'))"
   ]
  },
  {
   "cell_type": "code",
   "execution_count": 40,
   "metadata": {},
   "outputs": [
    {
     "name": "stdout",
     "output_type": "stream",
     "text": [
      "Model: \"sequential_1\"\n",
      "_________________________________________________________________\n",
      " Layer (type)                Output Shape              Param #   \n",
      "=================================================================\n",
      " dense_3 (Dense)             (None, 10)                2650      \n",
      "                                                                 \n",
      " dropout_2 (Dropout)         (None, 10)                0         \n",
      "                                                                 \n",
      " dense_4 (Dense)             (None, 8)                 88        \n",
      "                                                                 \n",
      " dropout_3 (Dropout)         (None, 8)                 0         \n",
      "                                                                 \n",
      " dense_5 (Dense)             (None, 1)                 9         \n",
      "                                                                 \n",
      "=================================================================\n",
      "Total params: 2,747\n",
      "Trainable params: 2,747\n",
      "Non-trainable params: 0\n",
      "_________________________________________________________________\n",
      "None\n"
     ]
    }
   ],
   "source": [
    "print(classifier.summary())"
   ]
  },
  {
   "cell_type": "code",
   "execution_count": 41,
   "metadata": {},
   "outputs": [
    {
     "data": {
      "image/png": "[encoded data removed]",
      "text/plain": [
       "<IPython.core.display.Image object>"
      ]
     },
     "execution_count": 41,
     "metadata": {},
     "output_type": "execute_result"
    }
   ],
   "source": [
    "utils.plot_model(classifier, to_file='model_plot.png', show_shapes=True, show_layer_names=True)"
   ]
  },
  {
   "cell_type": "code",
   "execution_count": null,
   "metadata": {},
   "outputs": [],
   "source": []
  },
  {
   "cell_type": "code",
   "execution_count": 31,
   "metadata": {},
   "outputs": [],
   "source": [
    "def ANNclassifier(X, y):\n",
    "    X_train, X_test, y_train, y_test = train_test_split(X, y, test_size=0.4, random_state=42)\n",
    "    D = X_train.shape[1]\n",
    "    \n",
    "    history = History()\n",
    "    \n",
    "    classifier = Sequential()\n",
    "    \n",
    "    classifier.add(Dense(units=10, input_dim=D, kernel_initializer='uniform', activation='relu'))\n",
    "    classifier.add(Dropout(0.3, input_shape=(X_train.shape[1],))) \n",
    "    classifier.add(Dense(units=8, kernel_initializer='normal', activation='relu'))\n",
    "    classifier.add(Dropout(0.3))\n",
    "    classifier.add(Dense(units=1, kernel_initializer='uniform', activation='sigmoid'))\n",
    "    classifier.compile(loss=tf.keras.losses.BinaryCrossentropy(reduction='none'), optimizer=tf.keras.optimizers.Adam(learning_rate=1e-3), metrics=['accuracy'])\n",
    "    \n",
    "    history = classifier.fit(X_train, y_train, batch_size=800, epochs=70, verbose=0, validation_data=(X_test, y_test), shuffle=True, callbacks=[history])\n",
    "    train_score = classifier.evaluate(X_train, y_train, verbose=0)\n",
    "    test_score = classifier.evaluate(X_test, y_test, verbose=0)\n",
    "    \n",
    "    return train_score[1], test_score[1]"
   ]
  },
  {
   "cell_type": "code",
   "execution_count": 32,
   "metadata": {},
   "outputs": [],
   "source": [
    "def RFclassifier(X, y):\n",
    "    X_train, X_test, y_train, y_test = train_test_split(X, y, test_size=0.4, random_state=42)\n",
    "    clf = RandomForestClassifier(n_estimators=1000)\n",
    "    clf.fit(X_train, y_train)\n",
    "    \n",
    "    return clf.score(X_train, y_train), clf.score(X_test, y_test)"
   ]
  },
  {
   "cell_type": "code",
   "execution_count": 33,
   "metadata": {},
   "outputs": [],
   "source": [
    "def SVMclassifier(X, y):\n",
    "    X_train, X_test, y_train, y_test = train_test_split(X, y, test_size=0.4, random_state=42)\n",
    "    clf = svm.SVC(kernel='rbf', C=1, random_state=42)\n",
    "    clf.fit(X_train, y_train)\n",
    "    \n",
    "    return clf.score(X_train, y_train), clf.score(X_test, y_test)"
   ]
  },
  {
   "cell_type": "code",
   "execution_count": 34,
   "metadata": {},
   "outputs": [],
   "source": [
    "def CNNclassifier(X, y):\n",
    "    X_train, X_test, y_train, y_test = train_test_split(X, y, test_size=0.4, random_state=42)\n",
    "    X_train = np.expand_dims(X_train, axis = -1)\n",
    "    X_test = np.expand_dims(X_test, axis = -1)   \n",
    "    D = X_train.shape[1]\n",
    "    \n",
    "    history = History()\n",
    "    \n",
    "    img_x = D\n",
    "    img_y = 1\n",
    "    input_shape = (img_x, img_y)\n",
    "    \n",
    "    num_classes = 2\n",
    "    batch_size = 800\n",
    "    epochs = 100\n",
    "    \n",
    "    X_train = X_train.astype('float32')\n",
    "    X_test = X_test.astype('float32')\n",
    " \n",
    "    y_train = tf.keras.utils.to_categorical(y_train, num_classes)\n",
    "    y_test = tf.keras.utils.to_categorical(y_test, num_classes)\n",
    " \n",
    "    model = Sequential()\n",
    "    model.add(Conv1D(32, kernel_size=5, strides=1, activation='relu', input_shape=input_shape))\n",
    "    model.add(MaxPooling1D(pool_size=2, strides=2))\n",
    "    model.add(Conv1D(64, 5, activation='relu'))\n",
    "    model.add(SpatialDropout1D(0.6))\n",
    "    model.add(Conv1D(64, 5, activation='relu'))\n",
    "    model.add(SpatialDropout1D(0.6))\n",
    "    model.add(MaxPooling1D(pool_size=2))\n",
    "    model.add(Flatten())\n",
    "    model.add(Dense(1000, activation='relu'))\n",
    "    model.add(Dense(num_classes, activation='softmax'))\n",
    "    model.compile(loss=tf.keras.losses.BinaryCrossentropy(reduction='none'), \n",
    "              optimizer=tf.keras.optimizers.Adam(learning_rate=0.001), \n",
    "              metrics=['accuracy'])\n",
    "\n",
    "    model.fit(X_train, y_train,\n",
    "          batch_size=batch_size,\n",
    "          epochs=epochs,\n",
    "          verbose=0,\n",
    "          validation_data=(X_test, y_test), \n",
    "          shuffle=True, \n",
    "          callbacks=[history])\n",
    " \n",
    "    train_score = model.evaluate(X_train, y_train, verbose=0)\n",
    "    test_score = model.evaluate(X_test, y_test, verbose=0)\n",
    "    y_test_pred = (model.predict(X_test) > 0.5).astype(int)\n",
    "    \n",
    "    return train_score[1], test_score[1]"
   ]
  },
  {
   "cell_type": "code",
   "execution_count": 35,
   "metadata": {},
   "outputs": [],
   "source": [
    "def CNNclassifier3D(X, y):\n",
    "    X_train, X_test, y_train, y_test = train_test_split(X, y, test_size=0.4, random_state=42)\n",
    "    X_train = np.expand_dims(X_train, axis = -1)\n",
    "    X_test = np.expand_dims(X_test, axis = -1)   \n",
    "    D1 = X_train.shape[1]\n",
    "    D2 = X_train.shape[2]\n",
    "    \n",
    "    history = History() \n",
    "    \n",
    "    img_x = D1\n",
    "    img_y = D2\n",
    "    img_z = 1\n",
    "    input_shape = (img_x, img_y, img_z) \n",
    "    \n",
    "    num_classes = 2\n",
    "    batch_size = 800\n",
    "    epochs = 70\n",
    " \n",
    "    X_train = X_train.astype('float32')\n",
    "    X_test = X_test.astype('float32')\n",
    "\n",
    "    y_train = tf.keras.utils.to_categorical(y_train, num_classes)\n",
    "    y_test = tf.keras.utils.to_categorical(y_test, num_classes)\n",
    " \n",
    "    model = Sequential()\n",
    "    model.add(Conv2D(32, kernel_size=(5, 5), strides=(1, 1), activation='relu', input_shape=input_shape))\n",
    "    model.add(MaxPooling2D(pool_size=(2, 2), strides=(2, 2)))\n",
    "    model.add(Conv2D(64, (5, 5), activation='relu'))\n",
    "    model.add(MaxPooling2D(pool_size=(2, 2)))\n",
    "    model.add(Flatten())\n",
    "    model.add(Dense(1000, activation='relu'))\n",
    "    model.add(Dense(num_classes, activation='softmax'))\n",
    "    model.compile(loss=tf.keras.losses.binary_crossentropy,\n",
    "              optimizer=tf.keras.optimizers.Adam(learning_rate=1e-5),\n",
    "              metrics=['accuracy'])\n",
    "\n",
    "    model.fit(X_train, y_train,\n",
    "          batch_size=batch_size,\n",
    "          epochs=epochs,\n",
    "          verbose=0,\n",
    "          validation_data=(X_test, y_test), \n",
    "          shuffle=True, \n",
    "          callbacks=[history])\n",
    " \n",
    "    train_score = model.evaluate(X_train, y_train, verbose=0)\n",
    "    test_score = model.evaluate(X_test, y_test, verbose=0)\n",
    "    y_test_pred = (model.predict(X_test) > 0.5).astype(int)\n",
    "    \n",
    "    return train_score[1], test_score[1]"
   ]
  },
  {
   "cell_type": "code",
   "execution_count": null,
   "metadata": {},
   "outputs": [],
   "source": []
  },
  {
   "cell_type": "code",
   "execution_count": null,
   "metadata": {},
   "outputs": [],
   "source": []
  },
  {
   "cell_type": "code",
   "execution_count": 36,
   "metadata": {},
   "outputs": [],
   "source": [
    "#### 1 peaks_features_ERN ###"
   ]
  },
  {
   "cell_type": "code",
   "execution_count": 37,
   "metadata": {},
   "outputs": [
    {
     "name": "stdout",
     "output_type": "stream",
     "text": [
      "fft_psd_acf_features\n",
      "ANN: Train accuracy: 0.8416666388511658, Test accuracy: 0.737500011920929\n",
      "RF : Train accuracy: 1.0, Test accuracy: 0.85625\n",
      "SVM: Train accuracy: 0.95, Test accuracy: 0.8375\n",
      "CNN: Train accuracy: 1.0, Test accuracy: 0.8812500238418579\n",
      "\n"
     ]
    }
   ],
   "source": [
    "X_peaks  = STANDARDIZATION(peaks_features_1000ms)\n",
    "\n",
    "y = np.array(y)\n",
    "\n",
    "print('fft_psd_acf_features')\n",
    "resultANN = ANNclassifier(X_peaks, y)\n",
    "print('ANN: Train accuracy: {}, Test accuracy: {}'.format(resultANN[0], resultANN[1]))\n",
    "resultRF = RFclassifier(X_peaks, y)\n",
    "print('RF : Train accuracy: {}, Test accuracy: {}'.format(resultRF[0], resultRF[1]))\n",
    "resultSVM = SVMclassifier(X_peaks, y)\n",
    "print('SVM: Train accuracy: {}, Test accuracy: {}'.format(resultSVM[0], resultSVM[1]))\n",
    "resultCNN = CNNclassifier(X_peaks, y)\n",
    "print('CNN: Train accuracy: {}, Test accuracy: {}'.format(resultCNN[0], resultCNN[1]))\n",
    "print('')"
   ]
  },
  {
   "cell_type": "code",
   "execution_count": 38,
   "metadata": {},
   "outputs": [
    {
     "name": "stdout",
     "output_type": "stream",
     "text": [
      "peaks_features_ERN\n",
      "ANN: Train accuracy: 0.6833333373069763, Test accuracy: 0.574999988079071\n",
      "RF : Train accuracy: 1.0, Test accuracy: 0.6125\n",
      "SVM: Train accuracy: 0.8, Test accuracy: 0.63125\n",
      "CNN: Train accuracy: 0.862500011920929, Test accuracy: 0.668749988079071\n",
      "\n",
      "peaks_features_P200\n",
      "ANN: Train accuracy: 0.7166666388511658, Test accuracy: 0.625\n",
      "RF : Train accuracy: 1.0, Test accuracy: 0.70625\n",
      "SVM: Train accuracy: 0.8375, Test accuracy: 0.65625\n",
      "CNN: Train accuracy: 0.875, Test accuracy: 0.668749988079071\n",
      "\n",
      "peaks_features_FRN\n",
      "ANN: Train accuracy: 0.7208333611488342, Test accuracy: 0.6312500238418579\n",
      "RF : Train accuracy: 0.9916666666666667, Test accuracy: 0.70625\n",
      "SVM: Train accuracy: 0.7833333333333333, Test accuracy: 0.6875\n",
      "CNN: Train accuracy: 0.8416666388511658, Test accuracy: 0.731249988079071\n",
      "\n",
      "peaks_features_P300\n",
      "ANN: Train accuracy: 0.7666666507720947, Test accuracy: 0.6812499761581421\n",
      "RF : Train accuracy: 1.0, Test accuracy: 0.65625\n",
      "SVM: Train accuracy: 0.8583333333333333, Test accuracy: 0.68125\n",
      "CNN: Train accuracy: 0.9208333492279053, Test accuracy: 0.706250011920929\n",
      "\n",
      "peaks_features_N500\n",
      "ANN: Train accuracy: 0.7124999761581421, Test accuracy: 0.637499988079071\n",
      "RF : Train accuracy: 0.9958333333333333, Test accuracy: 0.58125\n",
      "SVM: Train accuracy: 0.7541666666666667, Test accuracy: 0.6625\n",
      "CNN: Train accuracy: 0.9041666388511658, Test accuracy: 0.6187499761581421\n",
      "\n"
     ]
    }
   ],
   "source": [
    "X_peaks_ern  = STANDARDIZATION(peaks_features_ERN)\n",
    "X_peaks_p200 = STANDARDIZATION(peaks_features_P200)\n",
    "X_peaks_frn  = STANDARDIZATION(peaks_features_FRN)\n",
    "X_peaks_p300 = STANDARDIZATION(peaks_features_P300)\n",
    "X_peaks_n500 = STANDARDIZATION(peaks_features_N500)\n",
    "y = np.array(y)\n",
    "\n",
    "print('peaks_features_ERN')\n",
    "resultANN = ANNclassifier(X_peaks_ern, y)\n",
    "print('ANN: Train accuracy: {}, Test accuracy: {}'.format(resultANN[0], resultANN[1]))\n",
    "resultRF = RFclassifier(X_peaks_ern, y)\n",
    "print('RF : Train accuracy: {}, Test accuracy: {}'.format(resultRF[0], resultRF[1]))\n",
    "resultSVM = SVMclassifier(X_peaks_ern, y)\n",
    "print('SVM: Train accuracy: {}, Test accuracy: {}'.format(resultSVM[0], resultSVM[1]))\n",
    "resultCNN = CNNclassifier(X_peaks_ern, y)\n",
    "print('CNN: Train accuracy: {}, Test accuracy: {}'.format(resultCNN[0], resultCNN[1]))\n",
    "print('')\n",
    "\n",
    "print('peaks_features_P200')\n",
    "resultANN = ANNclassifier(X_peaks_p200, y)\n",
    "print('ANN: Train accuracy: {}, Test accuracy: {}'.format(resultANN[0], resultANN[1]))\n",
    "resultRF = RFclassifier(X_peaks_p200, y)\n",
    "print('RF : Train accuracy: {}, Test accuracy: {}'.format(resultRF[0], resultRF[1]))\n",
    "resultSVM = SVMclassifier(X_peaks_p200, y)\n",
    "print('SVM: Train accuracy: {}, Test accuracy: {}'.format(resultSVM[0], resultSVM[1]))\n",
    "resultCNN = CNNclassifier(X_peaks_p200, y)\n",
    "print('CNN: Train accuracy: {}, Test accuracy: {}'.format(resultCNN[0], resultCNN[1]))\n",
    "print('')\n",
    "\n",
    "print('peaks_features_FRN')\n",
    "resultANN = ANNclassifier(X_peaks_frn, y)\n",
    "print('ANN: Train accuracy: {}, Test accuracy: {}'.format(resultANN[0], resultANN[1]))\n",
    "resultRF = RFclassifier(X_peaks_frn, y)\n",
    "print('RF : Train accuracy: {}, Test accuracy: {}'.format(resultRF[0], resultRF[1]))\n",
    "resultSVM = SVMclassifier(X_peaks_frn, y)\n",
    "print('SVM: Train accuracy: {}, Test accuracy: {}'.format(resultSVM[0], resultSVM[1]))\n",
    "resultCNN = CNNclassifier(X_peaks_frn, y)\n",
    "print('CNN: Train accuracy: {}, Test accuracy: {}'.format(resultCNN[0], resultCNN[1]))\n",
    "print('')\n",
    "\n",
    "print('peaks_features_P300')\n",
    "resultANN = ANNclassifier(X_peaks_p300, y)\n",
    "print('ANN: Train accuracy: {}, Test accuracy: {}'.format(resultANN[0], resultANN[1]))\n",
    "resultRF = RFclassifier(X_peaks_p300, y)\n",
    "print('RF : Train accuracy: {}, Test accuracy: {}'.format(resultRF[0], resultRF[1]))\n",
    "resultSVM = SVMclassifier(X_peaks_p300, y)\n",
    "print('SVM: Train accuracy: {}, Test accuracy: {}'.format(resultSVM[0], resultSVM[1]))\n",
    "resultCNN = CNNclassifier(X_peaks_p300, y)\n",
    "print('CNN: Train accuracy: {}, Test accuracy: {}'.format(resultCNN[0], resultCNN[1]))\n",
    "print('')\n",
    "\n",
    "print('peaks_features_N500')\n",
    "resultANN = ANNclassifier(X_peaks_n500, y)\n",
    "print('ANN: Train accuracy: {}, Test accuracy: {}'.format(resultANN[0], resultANN[1]))\n",
    "resultRF = RFclassifier(X_peaks_n500, y)\n",
    "print('RF : Train accuracy: {}, Test accuracy: {}'.format(resultRF[0], resultRF[1]))\n",
    "resultSVM = SVMclassifier(X_peaks_n500, y)\n",
    "print('SVM: Train accuracy: {}, Test accuracy: {}'.format(resultSVM[0], resultSVM[1]))\n",
    "resultCNN = CNNclassifier(X_peaks_n500, y)\n",
    "print('CNN: Train accuracy: {}, Test accuracy: {}'.format(resultCNN[0], resultCNN[1]))\n",
    "print('')"
   ]
  },
  {
   "cell_type": "code",
   "execution_count": 39,
   "metadata": {},
   "outputs": [],
   "source": [
    "## 2 DWT features ###"
   ]
  },
  {
   "cell_type": "code",
   "execution_count": 40,
   "metadata": {},
   "outputs": [
    {
     "name": "stdout",
     "output_type": "stream",
     "text": [
      "dwt_features\n",
      "ANN: Train accuracy: 0.8125, Test accuracy: 0.7875000238418579\n",
      "RF : Train accuracy: 1.0, Test accuracy: 0.79375\n",
      "SVM: Train accuracy: 0.9666666666666667, Test accuracy: 0.7875\n",
      "CNN: Train accuracy: 1.0, Test accuracy: 0.8187500238418579\n",
      "\n"
     ]
    }
   ],
   "source": [
    "X_dwt  = STANDARDIZATION(dwt_features_1000ms)\n",
    "\n",
    "y = np.array(y)\n",
    "\n",
    "print('dwt_features')\n",
    "resultANN = ANNclassifier(X_dwt, y)\n",
    "print('ANN: Train accuracy: {}, Test accuracy: {}'.format(resultANN[0], resultANN[1]))\n",
    "resultRF = RFclassifier(X_dwt, y)\n",
    "print('RF : Train accuracy: {}, Test accuracy: {}'.format(resultRF[0], resultRF[1]))\n",
    "resultSVM = SVMclassifier(X_dwt, y)\n",
    "print('SVM: Train accuracy: {}, Test accuracy: {}'.format(resultSVM[0], resultSVM[1]))\n",
    "resultCNN = CNNclassifier(X_dwt, y)\n",
    "print('CNN: Train accuracy: {}, Test accuracy: {}'.format(resultCNN[0], resultCNN[1]))\n",
    "print('')"
   ]
  },
  {
   "cell_type": "code",
   "execution_count": 41,
   "metadata": {},
   "outputs": [
    {
     "name": "stdout",
     "output_type": "stream",
     "text": [
      "dwt_features_ERN\n",
      "ANN: Train accuracy: 0.7708333134651184, Test accuracy: 0.6499999761581421\n",
      "RF : Train accuracy: 1.0, Test accuracy: 0.775\n",
      "SVM: Train accuracy: 0.9083333333333333, Test accuracy: 0.6875\n",
      "CNN: Train accuracy: 0.9833333492279053, Test accuracy: 0.6875\n",
      "\n",
      "dwt_features_P200\n",
      "ANN: Train accuracy: 0.8374999761581421, Test accuracy: 0.675000011920929\n",
      "RF : Train accuracy: 1.0, Test accuracy: 0.83125\n",
      "SVM: Train accuracy: 0.925, Test accuracy: 0.8125\n",
      "CNN: Train accuracy: 0.9916666746139526, Test accuracy: 0.75\n",
      "\n",
      "dwt_features_FRN\n",
      "ANN: Train accuracy: 0.7416666746139526, Test accuracy: 0.6937500238418579\n",
      "RF : Train accuracy: 1.0, Test accuracy: 0.725\n",
      "SVM: Train accuracy: 0.8958333333333334, Test accuracy: 0.725\n",
      "CNN: Train accuracy: 0.9750000238418579, Test accuracy: 0.6625000238418579\n",
      "\n",
      "dwt_features_P300\n",
      "ANN: Train accuracy: 0.75, Test accuracy: 0.75\n",
      "RF : Train accuracy: 1.0, Test accuracy: 0.74375\n",
      "SVM: Train accuracy: 0.8875, Test accuracy: 0.75\n",
      "CNN: Train accuracy: 0.9833333492279053, Test accuracy: 0.7124999761581421\n",
      "\n",
      "dwt_features_N500\n",
      "ANN: Train accuracy: 0.7166666388511658, Test accuracy: 0.6312500238418579\n",
      "RF : Train accuracy: 1.0, Test accuracy: 0.65625\n",
      "SVM: Train accuracy: 0.8916666666666667, Test accuracy: 0.64375\n",
      "CNN: Train accuracy: 0.9916666746139526, Test accuracy: 0.675000011920929\n",
      "\n"
     ]
    }
   ],
   "source": [
    "X_dwt_ern  = STANDARDIZATION(dwt_features_ERN)\n",
    "X_dwt_p200 = STANDARDIZATION(dwt_features_P200)\n",
    "X_dwt_frn  = STANDARDIZATION(dwt_features_FRN)\n",
    "X_dwt_p300 = STANDARDIZATION(dwt_features_P300)\n",
    "X_dwt_n500 = STANDARDIZATION(dwt_features_N500)\n",
    "y = np.array(y)\n",
    "\n",
    "print('dwt_features_ERN')\n",
    "resultANN = ANNclassifier(X_dwt_ern, y)\n",
    "print('ANN: Train accuracy: {}, Test accuracy: {}'.format(resultANN[0], resultANN[1]))\n",
    "resultRF = RFclassifier(X_dwt_ern, y)\n",
    "print('RF : Train accuracy: {}, Test accuracy: {}'.format(resultRF[0], resultRF[1]))\n",
    "resultSVM = SVMclassifier(X_dwt_ern, y)\n",
    "print('SVM: Train accuracy: {}, Test accuracy: {}'.format(resultSVM[0], resultSVM[1]))\n",
    "resultCNN = CNNclassifier(X_dwt_ern, y)\n",
    "print('CNN: Train accuracy: {}, Test accuracy: {}'.format(resultCNN[0], resultCNN[1]))\n",
    "print('')\n",
    "\n",
    "print('dwt_features_P200')\n",
    "resultANN = ANNclassifier(X_dwt_p200, y)\n",
    "print('ANN: Train accuracy: {}, Test accuracy: {}'.format(resultANN[0], resultANN[1]))\n",
    "resultRF = RFclassifier(X_dwt_p200, y)\n",
    "print('RF : Train accuracy: {}, Test accuracy: {}'.format(resultRF[0], resultRF[1]))\n",
    "resultSVM = SVMclassifier(X_dwt_p200, y)\n",
    "print('SVM: Train accuracy: {}, Test accuracy: {}'.format(resultSVM[0], resultSVM[1]))\n",
    "resultCNN = CNNclassifier(X_dwt_p200, y)\n",
    "print('CNN: Train accuracy: {}, Test accuracy: {}'.format(resultCNN[0], resultCNN[1]))\n",
    "print('')\n",
    "\n",
    "print('dwt_features_FRN')\n",
    "resultANN = ANNclassifier(X_dwt_frn, y)\n",
    "print('ANN: Train accuracy: {}, Test accuracy: {}'.format(resultANN[0], resultANN[1]))\n",
    "resultRF = RFclassifier(X_dwt_frn, y)\n",
    "print('RF : Train accuracy: {}, Test accuracy: {}'.format(resultRF[0], resultRF[1]))\n",
    "resultSVM = SVMclassifier(X_dwt_frn, y)\n",
    "print('SVM: Train accuracy: {}, Test accuracy: {}'.format(resultSVM[0], resultSVM[1]))\n",
    "resultCNN = CNNclassifier(X_dwt_frn, y)\n",
    "print('CNN: Train accuracy: {}, Test accuracy: {}'.format(resultCNN[0], resultCNN[1]))\n",
    "print('')\n",
    "\n",
    "print('dwt_features_P300')\n",
    "resultANN = ANNclassifier(X_dwt_p300, y)\n",
    "print('ANN: Train accuracy: {}, Test accuracy: {}'.format(resultANN[0], resultANN[1]))\n",
    "resultRF = RFclassifier(X_dwt_p300, y)\n",
    "print('RF : Train accuracy: {}, Test accuracy: {}'.format(resultRF[0], resultRF[1]))\n",
    "resultSVM = SVMclassifier(X_dwt_p300, y)\n",
    "print('SVM: Train accuracy: {}, Test accuracy: {}'.format(resultSVM[0], resultSVM[1]))\n",
    "resultCNN = CNNclassifier(X_dwt_p300, y)\n",
    "print('CNN: Train accuracy: {}, Test accuracy: {}'.format(resultCNN[0], resultCNN[1]))\n",
    "print('')\n",
    "\n",
    "print('dwt_features_N500')\n",
    "resultANN = ANNclassifier(X_dwt_n500, y)\n",
    "print('ANN: Train accuracy: {}, Test accuracy: {}'.format(resultANN[0], resultANN[1]))\n",
    "resultRF = RFclassifier(X_dwt_n500, y)\n",
    "print('RF : Train accuracy: {}, Test accuracy: {}'.format(resultRF[0], resultRF[1]))\n",
    "resultSVM = SVMclassifier(X_dwt_n500, y)\n",
    "print('SVM: Train accuracy: {}, Test accuracy: {}'.format(resultSVM[0], resultSVM[1]))\n",
    "resultCNN = CNNclassifier(X_dwt_n500, y)\n",
    "print('CNN: Train accuracy: {}, Test accuracy: {}'.format(resultCNN[0], resultCNN[1]))\n",
    "print('')"
   ]
  },
  {
   "cell_type": "code",
   "execution_count": 42,
   "metadata": {},
   "outputs": [],
   "source": [
    "## 3 cwt features ##"
   ]
  },
  {
   "cell_type": "code",
   "execution_count": 43,
   "metadata": {},
   "outputs": [
    {
     "name": "stdout",
     "output_type": "stream",
     "text": [
      "cwt_features\n",
      "CNN: Train accuracy: 0.5208333134651184, Test accuracy: 0.46875\n",
      "\n"
     ]
    }
   ],
   "source": [
    "X_cwt   = np.array(cwt_features_1000ms) / np.sqrt(np.sum((np.array(cwt_features_1000ms))**2))\n",
    "\n",
    "y = np.array(y)\n",
    "\n",
    "print('cwt_features')\n",
    "resultCNN = CNNclassifier3D(X_cwt, y)\n",
    "print('CNN: Train accuracy: {}, Test accuracy: {}'.format(resultCNN[0], resultCNN[1]))\n",
    "print('')"
   ]
  },
  {
   "cell_type": "code",
   "execution_count": 44,
   "metadata": {},
   "outputs": [
    {
     "name": "stdout",
     "output_type": "stream",
     "text": [
      "cwt_features_ERN\n",
      "CNN: Train accuracy: 0.5249999761581421, Test accuracy: 0.46875\n",
      "\n",
      "cwt_features_P200\n",
      "CNN: Train accuracy: 0.5208333134651184, Test accuracy: 0.46875\n",
      "\n",
      "cwt_features_FRN\n",
      "CNN: Train accuracy: 0.5208333134651184, Test accuracy: 0.46875\n",
      "\n",
      "cwt_features_P300\n",
      "CNN: Train accuracy: 0.5208333134651184, Test accuracy: 0.46875\n",
      "\n",
      "cwt_features_N500\n",
      "CNN: Train accuracy: 0.5208333134651184, Test accuracy: 0.46875\n",
      "\n"
     ]
    }
   ],
   "source": [
    "X_cwt_ern   = np.array(cwt_features_ERN) / np.sqrt(np.sum((np.array(cwt_features_ERN))**2))\n",
    "X_cwt_p200  = np.array(cwt_features_P200) / np.sqrt(np.sum((np.array(cwt_features_P200))**2))\n",
    "X_cwt_frn   = np.array(cwt_features_FRN) / np.sqrt(np.sum((np.array(cwt_features_FRN))**2))\n",
    "X_cwt_p300  = np.array(cwt_features_P300) / np.sqrt(np.sum((np.array(cwt_features_P300))**2))\n",
    "X_cwt_n500  = np.array(cwt_features_N500) / np.sqrt(np.sum((np.array(cwt_features_N500))**2))\n",
    "y = np.array(y)\n",
    "\n",
    "print('cwt_features_ERN')\n",
    "resultCNN = CNNclassifier3D(X_cwt_ern, y)\n",
    "print('CNN: Train accuracy: {}, Test accuracy: {}'.format(resultCNN[0], resultCNN[1]))\n",
    "print('')\n",
    "\n",
    "print('cwt_features_P200')\n",
    "resultCNN = CNNclassifier3D(X_cwt_p200, y)\n",
    "print('CNN: Train accuracy: {}, Test accuracy: {}'.format(resultCNN[0], resultCNN[1]))\n",
    "print('')\n",
    "\n",
    "print('cwt_features_FRN')\n",
    "resultCNN = CNNclassifier3D(X_cwt_frn, y)\n",
    "print('CNN: Train accuracy: {}, Test accuracy: {}'.format(resultCNN[0], resultCNN[1]))\n",
    "print('')\n",
    "\n",
    "print('cwt_features_P300')\n",
    "resultCNN = CNNclassifier3D(X_cwt_p300, y)\n",
    "print('CNN: Train accuracy: {}, Test accuracy: {}'.format(resultCNN[0], resultCNN[1]))\n",
    "print('')\n",
    "\n",
    "print('cwt_features_N500')\n",
    "resultCNN = CNNclassifier3D(X_cwt_n500, y)\n",
    "print('CNN: Train accuracy: {}, Test accuracy: {}'.format(resultCNN[0], resultCNN[1]))\n",
    "print('')"
   ]
  },
  {
   "cell_type": "code",
   "execution_count": null,
   "metadata": {},
   "outputs": [],
   "source": [
    "# CWT, 3D array\n",
    "\n",
    "X = np.array(cwt_features) / np.sqrt(np.sum((np.array(cwt_features))**2))\n",
    "y = np.array(y)\n",
    " \n",
    "# Split the data into training and testing set\n",
    "X_train, X_test, y_train, y_test = train_test_split(X, y, test_size=0.4, random_state=42)\n",
    " \n",
    "# Quick sanity check with the shapes of Training and Testing datasets\n",
    "print(X_train.shape)\n",
    "print(y_train.shape)\n",
    "print(X_test.shape)\n",
    "print(y_test.shape)\n",
    "\n",
    "print('___________________')\n",
    "X_train = np.expand_dims(X_train, axis = -1)\n",
    "X_test = np.expand_dims(X_test, axis = -1)\n",
    "X_train.shape, X_test.shape"
   ]
  },
  {
   "cell_type": "code",
   "execution_count": null,
   "metadata": {},
   "outputs": [],
   "source": [
    "history = History()\n",
    " \n",
    "img_x = 128\n",
    "img_y = 1001\n",
    "img_z = 1\n",
    "input_shape = (img_x, img_y, img_z) \n",
    "    \n",
    "num_classes = 2\n",
    "batch_size = 800\n",
    "epochs = 70\n",
    " \n",
    "X_train = X_train.astype('float32')\n",
    "X_test = X_test.astype('float32')\n",
    "\n",
    "y_train = tf.keras.utils.to_categorical(y_train, num_classes)\n",
    "y_test = tf.keras.utils.to_categorical(y_test, num_classes)\n",
    " \n",
    "model = Sequential()\n",
    "model.add(Conv2D(32, kernel_size=(5, 5), strides=(1, 1), activation='relu', input_shape=input_shape))\n",
    "\n",
    "model.add(Dense(1000, activation='relu'))\n",
    "model.add(Dense(num_classes, activation='softmax'))\n",
    "model.compile(loss=tf.keras.losses.binary_crossentropy,\n",
    "              optimizer=tf.keras.optimizers.Adam(learning_rate=1e-5),\n",
    "              metrics=['accuracy'])\n",
    "\n",
    "model.fit(X_train, y_train,\n",
    "          batch_size=batch_size,\n",
    "          epochs=epochs,\n",
    "          verbose=0,\n",
    "          validation_data=(X_test, y_test), \n",
    "          shuffle=True, \n",
    "          callbacks=[history])\n",
    " \n",
    "train_score = model.evaluate(X_train, y_train, verbose=0)\n",
    "print('Train loss: {}, Train accuracy: {}'.format(train_score[0], train_score[1]))\n",
    "test_score = model.evaluate(X_test, y_test, verbose=0)\n",
    "print('Test loss: {}, Test accuracy: {}'.format(test_score[0], test_score[1]))\n",
    "y_test_pred = (model.predict(X_test) > 0.5).astype(int)\n",
    "print(classification_report(y_test, y_test_pred))\n",
    "\n",
    "plot_history_acc(history)\n",
    "plot_history_loss(history)"
   ]
  },
  {
   "cell_type": "code",
   "execution_count": null,
   "metadata": {},
   "outputs": [],
   "source": []
  },
  {
   "cell_type": "code",
   "execution_count": null,
   "metadata": {},
   "outputs": [],
   "source": [
    "#######"
   ]
  },
  {
   "cell_type": "code",
   "execution_count": 73,
   "metadata": {},
   "outputs": [],
   "source": [
    "def plot_history_acc(history):\n",
    "    plt.plot(history.history['accuracy'], \n",
    "            label='accuracy on training set')\n",
    "    plt.plot(history.history['val_accuracy'], \n",
    "            label='accuracy on testing set')\n",
    "    plt.xlabel('epoch')\n",
    "    plt.ylabel('accuracy')\n",
    "    plt.legend()\n",
    "    plt.show()\n",
    "\n",
    "def plot_history_loss(history):\n",
    "    plt.plot(history.history['loss'], \n",
    "         label='loss on training set')\n",
    "    plt.plot(history.history['val_loss'], \n",
    "         label='loss on testing set')\n",
    "    plt.xlabel('epoch')\n",
    "    plt.ylabel('loss')\n",
    "    plt.legend()\n",
    "    plt.show()"
   ]
  },
  {
   "cell_type": "code",
   "execution_count": null,
   "metadata": {},
   "outputs": [],
   "source": [
    "X_peaks  = STANDARDIZATION(peaks_features)\n",
    "y = np.array(y)\n",
    "X_train, X_test, y_train, y_test = train_test_split(X_peaks, y, test_size=0.4, random_state=42)\n",
    "D = X_train.shape[1]"
   ]
  },
  {
   "cell_type": "code",
   "execution_count": null,
   "metadata": {},
   "outputs": [],
   "source": [
    "history = History()\n",
    "classifier = Sequential()\n",
    "classifier.add(Dense(units=8, input_dim=D, kernel_initializer='uniform', activation='relu'))\n",
    "classifier.add(Dropout(0.2, input_shape=(X_train.shape[1],))) \n",
    "classifier.add(Dense(units=8, kernel_initializer='normal', activation='relu'))\n",
    "classifier.add(Dropout(0.2))\n",
    "classifier.add(Dense(units=1, kernel_initializer='uniform', activation='sigmoid'))\n",
    "classifier.compile(loss=tf.keras.losses.BinaryCrossentropy(reduction='none'), \n",
    "                   optimizer=tf.keras.optimizers.Adam(learning_rate=1e-3), \n",
    "                   metrics=['accuracy'])\n",
    "history = classifier.fit(X_train, y_train, \n",
    "                         batch_size=1000, \n",
    "                         epochs=100, \n",
    "                         verbose=0, \n",
    "                         validation_data=(X_test, y_test), \n",
    "                         shuffle=True, callbacks=[history])\n",
    "\n",
    "train_score = classifier.evaluate(X_train, y_train, verbose=1)\n",
    "print('Train loss: {}, Train accuracy: {}'.format(train_score[0], train_score[1]))\n",
    "test_score = classifier.evaluate(X_test, y_test, verbose=1)\n",
    "print('Test loss: {}, Test accuracy: {}'.format(test_score[0], test_score[1]))\n",
    "\n",
    "y_test_pred = (classifier.predict(X_test) > 0.5).astype(int)\n",
    "\n",
    "print(classification_report(y_test, y_test_pred))\n",
    "print(confusion_matrix(y_test, y_test_pred, labels=[1,0]))\n",
    "\n",
    "plot_history_acc(history)\n",
    "plot_history_loss(history)"
   ]
  },
  {
   "cell_type": "code",
   "execution_count": null,
   "metadata": {},
   "outputs": [],
   "source": [
    "## Improvements:"
   ]
  },
  {
   "cell_type": "code",
   "execution_count": null,
   "metadata": {},
   "outputs": [],
   "source": [
    "#1. Increase trees number from 1000 to 3000 in TOTAL peaks"
   ]
  },
  {
   "cell_type": "code",
   "execution_count": 45,
   "metadata": {},
   "outputs": [],
   "source": [
    "X_peaks  = STANDARDIZATION(peaks_features_1000ms)\n",
    "y = np.array(y)"
   ]
  },
  {
   "cell_type": "code",
   "execution_count": 55,
   "metadata": {},
   "outputs": [
    {
     "name": "stdout",
     "output_type": "stream",
     "text": [
      "RF : Train accuracy: 1.0, Test accuracy: 0.925\n"
     ]
    }
   ],
   "source": [
    "def RFclassifier2(X, y):\n",
    "    X_train, X_test, y_train, y_test = train_test_split(X, y, test_size=0.40, random_state=42)\n",
    "    clf = RandomForestClassifier(n_estimators=3000)\n",
    "    clf.fit(X_train, y_train)\n",
    "    \n",
    "    return clf.score(X_train, y_train), clf.score(X_test, y_test)\n",
    "\n",
    "resultRF = RFclassifier1(X_peaks, y)\n",
    "print('RF : Train accuracy: {}, Test accuracy: {}'.format(resultRF[0], resultRF[1]))"
   ]
  },
  {
   "cell_type": "code",
   "execution_count": 132,
   "metadata": {},
   "outputs": [
    {
     "name": "stdout",
     "output_type": "stream",
     "text": [
      "Accuracy on training set is : 1.0\n",
      "Accuracy on test set is : 0.925\n",
      "              precision    recall  f1-score   support\n",
      "\n",
      "           0       0.92      0.92      0.92        36\n",
      "           1       0.93      0.93      0.93        44\n",
      "\n",
      "    accuracy                           0.93        80\n",
      "   macro avg       0.92      0.92      0.92        80\n",
      "weighted avg       0.93      0.93      0.93        80\n",
      "\n"
     ]
    }
   ],
   "source": [
    "X_peaks  = STANDARDIZATION(peaks_features_1000ms)\n",
    "y = np.array(y)\n",
    "\n",
    "X_train, X_test, y_train, y_test = train_test_split(X_peaks, y, test_size=0.2, random_state=42)\n",
    "\n",
    "X_train.shape, X_test.shape, y_train.shape, y_test.shape\n",
    "\n",
    "clf = RandomForestClassifier(n_estimators=3000)\n",
    "clf.fit(X_train, y_train)\n",
    "y_test_pred = clf.predict(X_test)\n",
    "print(\"Accuracy on training set is : {}\".format(clf.score(X_train, y_train)))\n",
    "print(\"Accuracy on test set is : {}\".format(clf.score(X_test, y_test)))\n",
    "print(classification_report(y_test, y_test_pred))"
   ]
  },
  {
   "cell_type": "code",
   "execution_count": 133,
   "metadata": {},
   "outputs": [
    {
     "data": {
      "text/plain": [
       "((320, 300), (80, 300), (320,), (80,))"
      ]
     },
     "execution_count": 133,
     "metadata": {},
     "output_type": "execute_result"
    }
   ],
   "source": [
    "X_train.shape, X_test.shape, y_train.shape, y_test.shape"
   ]
  },
  {
   "cell_type": "code",
   "execution_count": 134,
   "metadata": {},
   "outputs": [
    {
     "data": {
      "image/png": "[encoded data removed]",
      "text/plain": [
       "<Figure size 540x540 with 1 Axes>"
      ]
     },
     "metadata": {
      "needs_background": "light"
     },
     "output_type": "display_data"
    }
   ],
   "source": [
    "conf_matrix = confusion_matrix(y_true=y_test, y_pred=y_test_pred)\n",
    "#\n",
    "# Print the confusion matrix using Matplotlib\n",
    "#\n",
    "fig, ax = plt.subplots(figsize=(7.5, 7.5))\n",
    "ax.matshow(conf_matrix, cmap=plt.cm.Blues, alpha=0.3)\n",
    "for i in range(conf_matrix.shape[0]):\n",
    "    for j in range(conf_matrix.shape[1]):\n",
    "        ax.text(x=j, y=i,s=conf_matrix[i, j], va='center', ha='center', size='xx-large')\n",
    " \n",
    "plt.xlabel('Predictions', fontsize=18)\n",
    "plt.ylabel('Actuals', fontsize=18)\n",
    "plt.title('Confusion Matrix', fontsize=18)\n",
    "plt.show()"
   ]
  },
  {
   "cell_type": "code",
   "execution_count": null,
   "metadata": {},
   "outputs": [],
   "source": []
  },
  {
   "cell_type": "code",
   "execution_count": 96,
   "metadata": {},
   "outputs": [
    {
     "ename": "NameError",
     "evalue": "name 'skplt' is not defined",
     "output_type": "error",
     "traceback": [
      "\u001b[1;31m---------------------------------------------------------------------------\u001b[0m",
      "\u001b[1;31mNameError\u001b[0m                                 Traceback (most recent call last)",
      "\u001b[1;32m<ipython-input-96-cd596851bde6>\u001b[0m in \u001b[0;36m<module>\u001b[1;34m\u001b[0m\n\u001b[0;32m      1\u001b[0m \u001b[1;32mfrom\u001b[0m \u001b[0mPIL\u001b[0m \u001b[1;32mimport\u001b[0m \u001b[0mImage\u001b[0m\u001b[1;33m\u001b[0m\u001b[1;33m\u001b[0m\u001b[0m\n\u001b[0;32m      2\u001b[0m \u001b[1;32mimport\u001b[0m \u001b[0mPIL\u001b[0m\u001b[1;33m\u001b[0m\u001b[1;33m\u001b[0m\u001b[0m\n\u001b[1;32m----> 3\u001b[1;33m \u001b[0mimg\u001b[0m \u001b[1;33m=\u001b[0m \u001b[0mskplt\u001b[0m\u001b[1;33m.\u001b[0m\u001b[0mmetrics\u001b[0m\u001b[1;33m.\u001b[0m\u001b[0mplot_confusion_matrix\u001b[0m\u001b[1;33m(\u001b[0m\u001b[0my_test\u001b[0m\u001b[1;33m,\u001b[0m \u001b[0my_test_pred\u001b[0m\u001b[1;33m,\u001b[0m \u001b[0mnormalize\u001b[0m\u001b[1;33m=\u001b[0m\u001b[1;32mFalse\u001b[0m\u001b[1;33m,\u001b[0m \u001b[0mtitle\u001b[0m \u001b[1;33m=\u001b[0m \u001b[1;34m'Confusion Matrix'\u001b[0m\u001b[1;33m)\u001b[0m\u001b[1;33m\u001b[0m\u001b[1;33m\u001b[0m\u001b[0m\n\u001b[0m",
      "\u001b[1;31mNameError\u001b[0m: name 'skplt' is not defined"
     ]
    }
   ],
   "source": [
    "from PIL import Image \n",
    "import PIL \n",
    "img = skplt.metrics.plot_confusion_matrix(y_test, y_test_pred, normalize=False, title = 'Confusion Matrix')"
   ]
  },
  {
   "cell_type": "code",
   "execution_count": 98,
   "metadata": {},
   "outputs": [
    {
     "ename": "NameError",
     "evalue": "name 'plot_confusion_matrix' is not defined",
     "output_type": "error",
     "traceback": [
      "\u001b[1;31m---------------------------------------------------------------------------\u001b[0m",
      "\u001b[1;31mNameError\u001b[0m                                 Traceback (most recent call last)",
      "\u001b[1;32m<ipython-input-98-e1f3174d2120>\u001b[0m in \u001b[0;36m<module>\u001b[1;34m\u001b[0m\n\u001b[1;32m----> 1\u001b[1;33m \u001b[0mplot_confusion_matrix\u001b[0m\u001b[1;33m(\u001b[0m\u001b[0my_test\u001b[0m\u001b[1;33m,\u001b[0m \u001b[0my_test_pred\u001b[0m\u001b[1;33m,\u001b[0m \u001b[0mnormalize\u001b[0m\u001b[1;33m=\u001b[0m\u001b[1;32mFalse\u001b[0m\u001b[1;33m,\u001b[0m \u001b[0mtitle\u001b[0m \u001b[1;33m=\u001b[0m \u001b[1;34m'Confusion Matrix'\u001b[0m\u001b[1;33m)\u001b[0m\u001b[1;33m\u001b[0m\u001b[1;33m\u001b[0m\u001b[0m\n\u001b[0m",
      "\u001b[1;31mNameError\u001b[0m: name 'plot_confusion_matrix' is not defined"
     ]
    }
   ],
   "source": [
    "plot_confusion_matrix(y_test, y_test_pred, normalize=False, title = 'Confusion Matrix')"
   ]
  },
  {
   "cell_type": "code",
   "execution_count": null,
   "metadata": {},
   "outputs": [],
   "source": [
    "#2. Increase trees number from 1000 to 3000 in DWT P200"
   ]
  },
  {
   "cell_type": "code",
   "execution_count": 56,
   "metadata": {},
   "outputs": [],
   "source": [
    "X_dwt_p200 = STANDARDIZATION(dwt_features_P200)\n",
    "y = np.array(y)"
   ]
  },
  {
   "cell_type": "code",
   "execution_count": 65,
   "metadata": {},
   "outputs": [
    {
     "name": "stdout",
     "output_type": "stream",
     "text": [
      "RF : Train accuracy: 1.0, Test accuracy: 0.8\n"
     ]
    }
   ],
   "source": [
    "def RFclassifier1(X, y):\n",
    "    X_train, X_test, y_train, y_test = train_test_split(X, y, test_size=0.4, random_state=42)\n",
    "    clf = RandomForestClassifier(n_estimators=5000)\n",
    "    clf.fit(X_train, y_train)\n",
    "    \n",
    "    return clf.score(X_train, y_train), clf.score(X_test, y_test)\n",
    "\n",
    "resultRF = RFclassifier1(X_dwt_p200, y)\n",
    "print('RF : Train accuracy: {}, Test accuracy: {}'.format(resultRF[0], resultRF[1]))"
   ]
  },
  {
   "cell_type": "code",
   "execution_count": 66,
   "metadata": {},
   "outputs": [],
   "source": [
    "X_dwt_p200_norm = np.array(X_dwt_p200) / np.sqrt(np.sum((np.array(X_dwt_p200))**2))\n",
    "y = np.array(y)"
   ]
  },
  {
   "cell_type": "code",
   "execution_count": 72,
   "metadata": {},
   "outputs": [
    {
     "name": "stdout",
     "output_type": "stream",
     "text": [
      "RF : Train accuracy: 1.0, Test accuracy: 0.80625\n"
     ]
    }
   ],
   "source": [
    "def RFclassifier1(X, y):\n",
    "    X_train, X_test, y_train, y_test = train_test_split(X, y, test_size=0.4, random_state=42)\n",
    "    clf = RandomForestClassifier(n_estimators=3000)\n",
    "    clf.fit(X_train, y_train)\n",
    "    \n",
    "    return clf.score(X_train, y_train), clf.score(X_test, y_test)\n",
    "\n",
    "resultRF = RFclassifier1(X_dwt_p200_norm, y)\n",
    "print('RF : Train accuracy: {}, Test accuracy: {}'.format(resultRF[0], resultRF[1]))"
   ]
  },
  {
   "cell_type": "code",
   "execution_count": null,
   "metadata": {},
   "outputs": [],
   "source": []
  },
  {
   "cell_type": "code",
   "execution_count": 220,
   "metadata": {},
   "outputs": [],
   "source": [
    "X_peaks  = STANDARDIZATION(peaks_features_1000ms)\n",
    "y = np.array(y)"
   ]
  },
  {
   "cell_type": "code",
   "execution_count": 221,
   "metadata": {},
   "outputs": [
    {
     "name": "stdout",
     "output_type": "stream",
     "text": [
      "Train loss: 0.15190093219280243, Train accuracy: 0.9583333134651184\n",
      "Test loss: 0.29228663444519043, Test accuracy: 0.925000011920929\n",
      "              precision    recall  f1-score   support\n",
      "\n",
      "           0       0.92      0.92      0.92        75\n",
      "           1       0.93      0.93      0.93        85\n",
      "\n",
      "   micro avg       0.93      0.93      0.93       160\n",
      "   macro avg       0.92      0.92      0.92       160\n",
      "weighted avg       0.93      0.93      0.93       160\n",
      " samples avg       0.93      0.93      0.93       160\n",
      "\n"
     ]
    },
    {
     "data": {
      "image/png": "[encoded data removed]",
      "text/plain": [
       "<Figure size 432x288 with 1 Axes>"
      ]
     },
     "metadata": {
      "needs_background": "light"
     },
     "output_type": "display_data"
    },
    {
     "data": {
      "image/png": "[encoded data removed]",
      "text/plain": [
       "<Figure size 432x288 with 1 Axes>"
      ]
     },
     "metadata": {
      "needs_background": "light"
     },
     "output_type": "display_data"
    }
   ],
   "source": [
    "X_train, X_test, y_train, y_test = train_test_split(X_peaks, y, test_size=0.4, random_state=42)\n",
    "X_train = np.expand_dims(X_train, axis = -1)\n",
    "X_test = np.expand_dims(X_test, axis = -1)   \n",
    "D = X_train.shape[1]\n",
    "\n",
    "history = History()\n",
    "    \n",
    "img_x = D\n",
    "img_y = 1\n",
    "input_shape = (img_x, img_y)\n",
    "    \n",
    "num_classes = 2\n",
    "batch_size = 1000\n",
    "epochs = 150\n",
    "    \n",
    "X_train = X_train.astype('float32')\n",
    "X_test = X_test.astype('float32')\n",
    " \n",
    "y_train = tf.keras.utils.to_categorical(y_train, num_classes)\n",
    "y_test = tf.keras.utils.to_categorical(y_test, num_classes)\n",
    " \n",
    "model = Sequential()\n",
    "model.add(Conv1D(32, kernel_size=5, strides=1, activation='relu', input_shape=input_shape))\n",
    "model.add(MaxPooling1D(pool_size=2, strides=2))\n",
    "model.add(Conv1D(64, 5, activation='relu'))\n",
    "model.add(SpatialDropout1D(0.8))\n",
    "\n",
    "model.add(Conv1D(64, 5, activation='relu'))\n",
    "model.add(SpatialDropout1D(0.8))\n",
    "model.add(Conv1D(64, 5, activation='relu'))\n",
    "model.add(SpatialDropout1D(0.8))\n",
    "\n",
    "model.add(MaxPooling1D(pool_size=2))\n",
    "\n",
    "model.add(Flatten())\n",
    "model.add(Dense(1000, activation='relu'))\n",
    "model.add(Dense(num_classes, activation='softmax'))\n",
    "model.compile(loss=tf.keras.losses.BinaryCrossentropy(reduction='none'), \n",
    "              optimizer=tf.keras.optimizers.Adam(learning_rate=0.001), \n",
    "              metrics=['accuracy'])\n",
    "\n",
    "model.fit(X_train, y_train,\n",
    "          batch_size=batch_size,\n",
    "          epochs=epochs,\n",
    "          verbose=0,\n",
    "          validation_data=(X_test, y_test), \n",
    "          shuffle=True, \n",
    "          callbacks=[history])\n",
    " \n",
    "train_score = model.evaluate(X_train, y_train, verbose=0)\n",
    "test_score = model.evaluate(X_test, y_test, verbose=0)\n",
    "y_test_pred = (model.predict(X_test) > 0.5).astype(int)\n",
    "\n",
    "print('Train loss: {}, Train accuracy: {}'.format(train_score[0], train_score[1]))\n",
    "print('Test loss: {}, Test accuracy: {}'.format(test_score[0], test_score[1]))  \n",
    "\n",
    "print(classification_report(y_test, y_test_pred))\n",
    "\n",
    "plot_history_acc(history)\n",
    "plot_history_loss(history)"
   ]
  },
  {
   "cell_type": "code",
   "execution_count": 243,
   "metadata": {},
   "outputs": [
    {
     "data": {
      "image/png": "[encoded data removed]",
      "text/plain": [
       "<Figure size 540x540 with 1 Axes>"
      ]
     },
     "metadata": {
      "needs_background": "light"
     },
     "output_type": "display_data"
    }
   ],
   "source": [
    "y_test_2=y_test.astype(int)\n",
    "\n",
    "\n",
    "conf_matrix = confusion_matrix(y_true=y_test_2.argmax(axis=1), y_pred=y_test_pred.argmax(axis=1))\n",
    "#\n",
    "# Print the confusion matrix using Matplotlib\n",
    "#\n",
    "fig, ax = plt.subplots(figsize=(7.5, 7.5))\n",
    "ax.matshow(conf_matrix, cmap=plt.cm.Blues, alpha=0.3)\n",
    "for i in range(conf_matrix.shape[0]):\n",
    "    for j in range(conf_matrix.shape[1]):\n",
    "        ax.text(x=j, y=i,s=conf_matrix[i, j], va='center', ha='center', size='xx-large')\n",
    " \n",
    "plt.xlabel('Predictions', fontsize=18)\n",
    "plt.ylabel('Actuals', fontsize=18)\n",
    "plt.title('Confusion Matrix', fontsize=18)\n",
    "plt.show()"
   ]
  },
  {
   "cell_type": "code",
   "execution_count": 42,
   "metadata": {},
   "outputs": [],
   "source": [
    "X_peaks  = STANDARDIZATION(peaks_features_1000ms)\n",
    "y = np.array(y)\n",
    "\n",
    "X_train, X_test, y_train, y_test = train_test_split(X_peaks, y, test_size=0.4, random_state=42)\n",
    "X_train = np.expand_dims(X_train, axis = -1)\n",
    "X_test = np.expand_dims(X_test, axis = -1)   \n",
    "D = X_train.shape[1]\n",
    "    \n",
    "img_x = D\n",
    "img_y = 1\n",
    "input_shape = (img_x, img_y)\n",
    "    \n",
    "num_classes = 2\n",
    "batch_size = 1000\n",
    "epochs = 150\n",
    "    \n",
    "X_train = X_train.astype('float32')\n",
    "X_test = X_test.astype('float32')\n",
    " \n",
    "y_train = tf.keras.utils.to_categorical(y_train, num_classes)\n",
    "y_test = tf.keras.utils.to_categorical(y_test, num_classes)\n",
    " \n",
    "model = Sequential()\n",
    "model.add(Conv1D(32, kernel_size=5, strides=1, activation='relu', input_shape=input_shape))\n",
    "model.add(MaxPooling1D(pool_size=2, strides=2))\n",
    "model.add(Conv1D(64, 5, activation='relu'))\n",
    "model.add(SpatialDropout1D(0.8))\n",
    "\n",
    "model.add(Conv1D(64, 5, activation='relu'))\n",
    "model.add(SpatialDropout1D(0.8))\n",
    "model.add(Conv1D(64, 5, activation='relu'))\n",
    "model.add(SpatialDropout1D(0.8))\n",
    "\n",
    "model.add(MaxPooling1D(pool_size=2))\n",
    "\n",
    "model.add(Flatten())\n",
    "model.add(Dense(1000, activation='relu'))\n",
    "model.add(Dense(num_classes, activation='softmax'))"
   ]
  },
  {
   "cell_type": "code",
   "execution_count": 43,
   "metadata": {},
   "outputs": [
    {
     "name": "stdout",
     "output_type": "stream",
     "text": [
      "Model: \"sequential_2\"\n",
      "_________________________________________________________________\n",
      " Layer (type)                Output Shape              Param #   \n",
      "=================================================================\n",
      " conv1d (Conv1D)             (None, 296, 32)           192       \n",
      "                                                                 \n",
      " max_pooling1d (MaxPooling1D  (None, 148, 32)          0         \n",
      " )                                                               \n",
      "                                                                 \n",
      " conv1d_1 (Conv1D)           (None, 144, 64)           10304     \n",
      "                                                                 \n",
      " spatial_dropout1d (SpatialD  (None, 144, 64)          0         \n",
      " ropout1D)                                                       \n",
      "                                                                 \n",
      " conv1d_2 (Conv1D)           (None, 140, 64)           20544     \n",
      "                                                                 \n",
      " spatial_dropout1d_1 (Spatia  (None, 140, 64)          0         \n",
      " lDropout1D)                                                     \n",
      "                                                                 \n",
      " conv1d_3 (Conv1D)           (None, 136, 64)           20544     \n",
      "                                                                 \n",
      " spatial_dropout1d_2 (Spatia  (None, 136, 64)          0         \n",
      " lDropout1D)                                                     \n",
      "                                                                 \n",
      " max_pooling1d_1 (MaxPooling  (None, 68, 64)           0         \n",
      " 1D)                                                             \n",
      "                                                                 \n",
      " flatten (Flatten)           (None, 4352)              0         \n",
      "                                                                 \n",
      " dense_6 (Dense)             (None, 1000)              4353000   \n",
      "                                                                 \n",
      " dense_7 (Dense)             (None, 2)                 2002      \n",
      "                                                                 \n",
      "=================================================================\n",
      "Total params: 4,406,586\n",
      "Trainable params: 4,406,586\n",
      "Non-trainable params: 0\n",
      "_________________________________________________________________\n",
      "None\n"
     ]
    }
   ],
   "source": [
    "print(model.summary())"
   ]
  },
  {
   "cell_type": "code",
   "execution_count": 44,
   "metadata": {},
   "outputs": [
    {
     "data": {
      "image/png": "[encoded data removed]",
      "text/plain": [
       "<IPython.core.display.Image object>"
      ]
     },
     "execution_count": 44,
     "metadata": {},
     "output_type": "execute_result"
    }
   ],
   "source": [
    "utils.plot_model(model, to_file='model_plot.png', show_shapes=True, show_layer_names=True)"
   ]
  },
  {
   "cell_type": "code",
   "execution_count": null,
   "metadata": {},
   "outputs": [],
   "source": []
  },
  {
   "cell_type": "code",
   "execution_count": null,
   "metadata": {},
   "outputs": [],
   "source": []
  },
  {
   "cell_type": "code",
   "execution_count": 45,
   "metadata": {},
   "outputs": [],
   "source": [
    "X_peaks  = STANDARDIZATION(peaks_features_1000ms)\n",
    "y = np.array(y)"
   ]
  },
  {
   "cell_type": "code",
   "execution_count": 46,
   "metadata": {},
   "outputs": [],
   "source": [
    "X_train, X_test, y_train, y_test = train_test_split(X_peaks, y, test_size=0.4, random_state=42)"
   ]
  },
  {
   "cell_type": "code",
   "execution_count": 47,
   "metadata": {},
   "outputs": [
    {
     "data": {
      "text/plain": [
       "((240, 300), (160, 300), (240,), (160,))"
      ]
     },
     "execution_count": 47,
     "metadata": {},
     "output_type": "execute_result"
    }
   ],
   "source": [
    "X_train.shape, X_test.shape, y_train.shape, y_test.shape"
   ]
  },
  {
   "cell_type": "code",
   "execution_count": 217,
   "metadata": {},
   "outputs": [
    {
     "name": "stdout",
     "output_type": "stream",
     "text": [
      "8/8 [==============================] - 0s 2ms/step - loss: 0.0024 - accuracy: 1.0000\n",
      "Train loss: 0.0023511769250035286, Train accuracy: 1.0\n",
      "5/5 [==============================] - 0s 2ms/step - loss: 2.3028 - accuracy: 0.8500\n",
      "Test loss: 2.302823305130005, Test accuracy: 0.8500000238418579\n",
      "              precision    recall  f1-score   support\n",
      "\n",
      "           0       0.81      0.88      0.85        75\n",
      "           1       0.89      0.82      0.85        85\n",
      "\n",
      "    accuracy                           0.85       160\n",
      "   macro avg       0.85      0.85      0.85       160\n",
      "weighted avg       0.85      0.85      0.85       160\n",
      "\n",
      "[[70 15]\n",
      " [ 9 66]]\n"
     ]
    },
    {
     "data": {
      "image/png": "[encoded data removed]",
      "text/plain": [
       "<Figure size 432x288 with 1 Axes>"
      ]
     },
     "metadata": {
      "needs_background": "light"
     },
     "output_type": "display_data"
    },
    {
     "data": {
      "image/png": "[encoded data removed]",
      "text/plain": [
       "<Figure size 432x288 with 1 Axes>"
      ]
     },
     "metadata": {
      "needs_background": "light"
     },
     "output_type": "display_data"
    }
   ],
   "source": [
    "history = History()\n",
    "classifier = Sequential()\n",
    "classifier.add(Dense(units=100, input_dim=D, kernel_initializer='uniform', activation='relu'))\n",
    "classifier.add(Dropout(0.8, input_shape=(X_train.shape[1],))) \n",
    "\n",
    "classifier.add(Dense(units=1, kernel_initializer='uniform', activation='sigmoid'))\n",
    "classifier.compile(loss=tf.keras.losses.BinaryCrossentropy(reduction='none'), \n",
    "                   optimizer=tf.keras.optimizers.Adam(learning_rate=0.01), \n",
    "                   metrics=['accuracy'])\n",
    "history = classifier.fit(X_train, y_train, \n",
    "                         batch_size=1000, \n",
    "                         epochs=150, \n",
    "                         verbose=0, \n",
    "                         validation_data=(X_test, y_test), \n",
    "                         shuffle=True, callbacks=[history])\n",
    "\n",
    "train_score = classifier.evaluate(X_train, y_train, verbose=1)\n",
    "print('Train loss: {}, Train accuracy: {}'.format(train_score[0], train_score[1]))\n",
    "test_score = classifier.evaluate(X_test, y_test, verbose=1)\n",
    "print('Test loss: {}, Test accuracy: {}'.format(test_score[0], test_score[1]))\n",
    "\n",
    "y_test_pred = (classifier.predict(X_test) > 0.5).astype(int)\n",
    "\n",
    "print(classification_report(y_test, y_test_pred))\n",
    "print(confusion_matrix(y_test, y_test_pred, labels=[1,0]))\n",
    "\n",
    "plot_history_acc(history)\n",
    "plot_history_loss(history)"
   ]
  },
  {
   "cell_type": "code",
   "execution_count": 201,
   "metadata": {},
   "outputs": [
    {
     "data": {
      "image/png": "[encoded data removed]",
      "text/plain": [
       "<Figure size 540x540 with 1 Axes>"
      ]
     },
     "metadata": {
      "needs_background": "light"
     },
     "output_type": "display_data"
    }
   ],
   "source": [
    "conf_matrix = confusion_matrix(y_true=y_test, y_pred=y_test_pred)\n",
    "#\n",
    "# Print the confusion matrix using Matplotlib\n",
    "#\n",
    "fig, ax = plt.subplots(figsize=(7.5, 7.5))\n",
    "ax.matshow(conf_matrix, cmap=plt.cm.Blues, alpha=0.3)\n",
    "for i in range(conf_matrix.shape[0]):\n",
    "    for j in range(conf_matrix.shape[1]):\n",
    "        ax.text(x=j, y=i,s=conf_matrix[i, j], va='center', ha='center', size='xx-large')\n",
    " \n",
    "plt.xlabel('Predictions', fontsize=18)\n",
    "plt.ylabel('Actuals', fontsize=18)\n",
    "plt.title('Confusion Matrix', fontsize=18)\n",
    "plt.show()"
   ]
  },
  {
   "cell_type": "code",
   "execution_count": null,
   "metadata": {},
   "outputs": [],
   "source": []
  },
  {
   "cell_type": "code",
   "execution_count": null,
   "metadata": {},
   "outputs": [],
   "source": [
    "pred = classifier.predict(X_train)\n",
    "\n",
    "print((abs(pred - y_train)).mean())  \n",
    "print(mean_absolute_error(pred, y_train)) "
   ]
  },
  {
   "cell_type": "code",
   "execution_count": null,
   "metadata": {},
   "outputs": [],
   "source": [
    "def eval_net(model, X_train, y_train, y_scaler = None, n = 10, limit = 2.):\n",
    "  \n",
    "    pred = model.predict(X_train)             # Предсказание на тренировочной выборке\n",
    "    if y_scaler:                              # Если есть нормирование - то денормировать\n",
    "        pred = y_scaler.inverse_transform(pred)\n",
    "\n",
    "    print('Средняя абсолютная ошибка:', mean_absolute_error(pred, y_train), '\\n')\n",
    "\n",
    "    \n",
    "    # Построение картинки разброса предсказанных и верных значений зарплаты\n",
    "    fig, ax = plt.subplots(figsize=(6, 6))\n",
    "    ax.scatter(y_train, pred)                 # Отрисовка точечного графика\n",
    "    ax.set_xlim(0, limit)                     # Пределы по x, y\n",
    "    ax.set_ylim(0, limit)\n",
    "    ax.plot(plt.xlim(), plt.ylim(), 'r')      # Отрисовка диагональной линии\n",
    "    plt.xlabel('Правильные значения')\n",
    "    plt.ylabel('Предсказания')\n",
    "    plt.grid()\n",
    "    plt.show() "
   ]
  },
  {
   "cell_type": "code",
   "execution_count": null,
   "metadata": {},
   "outputs": [],
   "source": [
    "eval_net(classifier, X_train, y_train)"
   ]
  },
  {
   "cell_type": "code",
   "execution_count": null,
   "metadata": {},
   "outputs": [],
   "source": [
    "!pip install scikit-plot==0.3.7\n",
    "import scikitplot as skplt"
   ]
  },
  {
   "cell_type": "code",
   "execution_count": null,
   "metadata": {},
   "outputs": [],
   "source": [
    "skplt.metrics.plot_confusion_matrix(y_test, y_test_pred, normalize=False, title = 'Confusion Matrix')"
   ]
  },
  {
   "cell_type": "code",
   "execution_count": null,
   "metadata": {},
   "outputs": [],
   "source": [
    "y_pred_proba = classifier.predict_proba(X_test)[::,1]\n",
    "fpr, tpr, _ = metrics.roc_curve(y_test,  y_pred_proba)\n",
    "auc = metrics.roc_auc_score(y_test, y_test_pred)\n",
    "\n",
    "plt.figure(figsize=(6, 6))\n",
    "plt.plot(fpr,tpr,label=\"AUC=\"+str(auc))\n",
    "\n",
    "plt.plot([0, 1], [0, 1], \"k--\", label=\"chance level (AUC = 0.5)\")\n",
    "plt.axis(\"square\")\n",
    "\n",
    "plt.ylabel('True Positive Rate')\n",
    "plt.xlabel('False Positive Rate')\n",
    "plt.legend()\n",
    "plt.show()"
   ]
  },
  {
   "cell_type": "code",
   "execution_count": null,
   "metadata": {},
   "outputs": [],
   "source": [
    "from sklearn.metrics import RocCurveDisplay"
   ]
  },
  {
   "cell_type": "code",
   "execution_count": null,
   "metadata": {},
   "outputs": [],
   "source": [
    "RocCurveDisplay.from_predictions(\n",
    "   y_test, y_test_pred)\n",
    "\n",
    "plt.show()"
   ]
  },
  {
   "cell_type": "code",
   "execution_count": null,
   "metadata": {},
   "outputs": [],
   "source": [
    "from sklearn.datasets import make_classification\n",
    "from sklearn.linear_model import LogisticRegression\n",
    "from sklearn.model_selection import train_test_split\n",
    "from sklearn.metrics import roc_curve\n",
    "from sklearn.metrics import roc_auc_score\n",
    "from matplotlib import pyplot\n",
    "\n",
    "y_pred_proba = classifier.predict_proba(X_test)[::,1]\n",
    "fpr, tpr, _ = metrics.roc_curve(y_test,  y_pred_proba)\n",
    "\n",
    "#create ROC curve\n",
    "plt.plot(fpr,tpr)\n",
    "plt.ylabel('True Positive Rate')\n",
    "plt.xlabel('False Positive Rate')\n",
    "plt.show()"
   ]
  },
  {
   "cell_type": "code",
   "execution_count": null,
   "metadata": {},
   "outputs": [],
   "source": [
    "clf = RandomForestClassifier(n_estimators=10000)\n",
    "clf.fit(X_train, y_train)\n",
    "y_test_pred = clf.predict(X_test)\n",
    "print(\"Accuracy on training set is : {}\".format(clf.score(X_train, y_train)))\n",
    "print(\"Accuracy on test set is : {}\".format(clf.score(X_test, y_test)))\n",
    "print(classification_report(y_test, y_test_pred))"
   ]
  },
  {
   "cell_type": "code",
   "execution_count": null,
   "metadata": {},
   "outputs": [],
   "source": [
    "y_pred_proba = clf.predict_proba(X_test)[::,1]\n",
    "fpr, tpr, _ = metrics.roc_curve(y_test,  y_pred_proba)\n",
    "auc = metrics.roc_auc_score(y_test, y_test_pred)\n",
    "\n",
    "plt.figure(figsize=(6, 6))\n",
    "plt.plot(fpr,tpr,label=\"AUC=\"+str(auc))\n",
    "\n",
    "plt.plot([0, 1], [0, 1], \"k--\", label=\"chance level (AUC = 0.5)\")\n",
    "plt.axis(\"square\")\n",
    "\n",
    "plt.ylabel('True Positive Rate')\n",
    "plt.xlabel('False Positive Rate')\n",
    "plt.legend()\n",
    "plt.show()"
   ]
  },
  {
   "cell_type": "code",
   "execution_count": null,
   "metadata": {},
   "outputs": [],
   "source": [
    "skplt.metrics.plot_confusion_matrix(y_test, y_test_pred, normalize=False, title = 'Confusion Matrix')"
   ]
  },
  {
   "cell_type": "code",
   "execution_count": null,
   "metadata": {},
   "outputs": [],
   "source": [
    "from PIL import Image \n",
    "import PIL "
   ]
  },
  {
   "cell_type": "code",
   "execution_count": null,
   "metadata": {},
   "outputs": [],
   "source": [
    "img = skplt.metrics.plot_confusion_matrix(y_test, y_test_pred, normalize=False, title = 'Confusion Matrix')"
   ]
  },
  {
   "cell_type": "code",
   "execution_count": null,
   "metadata": {},
   "outputs": [],
   "source": []
  },
  {
   "cell_type": "code",
   "execution_count": null,
   "metadata": {},
   "outputs": [],
   "source": [
    "#########################"
   ]
  },
  {
   "cell_type": "code",
   "execution_count": null,
   "metadata": {
    "colab": {
     "base_uri": "https://localhost:8080/"
    },
    "id": "yGteT97yeS1P",
    "outputId": "69b8a4a0-1fd3-456b-fa8c-13426063d817"
   },
   "outputs": [],
   "source": [
    "X = np.array(peaks_features_P200)\n",
    "y = np.array(y)\n",
    " \n",
    " \n",
    "### Sandardization of data ###\n",
    "### We does not standardize the Target variable for classification\n",
    "from sklearn.preprocessing import StandardScaler\n",
    "PredictorScaler=StandardScaler()\n",
    " \n",
    "# Storing the fit object for later reference\n",
    "PredictorScalerFit=PredictorScaler.fit(X)\n",
    " \n",
    "# Generating the standardized values of X and y\n",
    "X=PredictorScalerFit.transform(X)\n",
    " \n",
    "# Split the data into training and testing set\n",
    "from sklearn.model_selection import train_test_split\n",
    "X_train, X_test, y_train, y_test = train_test_split(X, y, test_size=0.4, random_state=42)\n",
    " \n",
    "# Quick sanity check with the shapes of Training and Testing datasets\n",
    "print(X_train.shape)\n",
    "print(y_train.shape)\n",
    "print(X_test.shape)\n",
    "print(y_test.shape)"
   ]
  },
  {
   "cell_type": "code",
   "execution_count": null,
   "metadata": {
    "colab": {
     "base_uri": "https://localhost:8080/",
     "height": 819
    },
    "id": "7WVRUQM0MUN-",
    "outputId": "69f79c31-4984-4d7a-d9ee-b25145d6076a"
   },
   "outputs": [],
   "source": [
    "history = History()\n",
    "\n",
    "classifier = Sequential()\n",
    "\n",
    "\n",
    "classifier.add(Dense(units=10, input_dim=300, kernel_initializer='uniform', activation='relu'))\n",
    "\n",
    "classifier.add(Dropout(0.3, input_shape=(X_train.shape[1],))) \n",
    "classifier.add(Dense(units=8, kernel_initializer='uniform', activation='relu'))\n",
    "\n",
    "classifier.add(Dropout(0.3))\n",
    "classifier.add(Dense(units=6, kernel_initializer='uniform', activation='relu'))\n",
    "\n",
    "classifier.add(Dropout(0.3))\n",
    "classifier.add(Dense(units=1, kernel_initializer='uniform', activation='sigmoid'))\n",
    "\n",
    "classifier.compile(loss=tf.keras.losses.BinaryCrossentropy(reduction='none'), optimizer=tf.keras.optimizers.Adam(learning_rate=1e-2), metrics=['accuracy'])\n",
    "\n",
    "history = classifier.fit(X_train, y_train, batch_size=50, epochs=50, verbose=0, validation_split=0.2, shuffle=True, callbacks=[history])\n",
    "\n",
    "train_score = classifier.evaluate(X_train, y_train, verbose=1)\n",
    "print('Train loss: {}, Train accuracy: {}'.format(train_score[0], train_score[1]))\n",
    "test_score = classifier.evaluate(X_test, y_test, verbose=1)\n",
    "print('Test loss: {}, Test accuracy: {}'.format(test_score[0], test_score[1]))\n",
    "\n",
    "y_test_pred = (classifier.predict(X_test) > 0.5).astype(int)\n",
    "\n",
    "\n",
    "\n",
    "print(classification_report(y_test, y_test_pred))\n",
    "print(confusion_matrix(y_test, y_test_pred, labels=[1,0]))\n",
    "\n",
    "plot_history_acc(history)\n",
    "plot_history_loss(history)"
   ]
  },
  {
   "cell_type": "code",
   "execution_count": null,
   "metadata": {
    "colab": {
     "base_uri": "https://localhost:8080/"
    },
    "id": "yy4DGZDGYJDz",
    "outputId": "0f188fb5-37bb-41de-acfe-ed6c5ed8731f"
   },
   "outputs": [],
   "source": [
    "X = np.array(dwt_features_P300)\n",
    "y = np.array(y)\n",
    " \n",
    "### Standardization of data ###\n",
    "### We does not standardize the Target variable for classification\n",
    "from sklearn.preprocessing import StandardScaler\n",
    "PredictorScaler=StandardScaler()\n",
    " \n",
    "# Storing the fit object for later reference\n",
    "PredictorScalerFit=PredictorScaler.fit(X)\n",
    " \n",
    "# Generating the standardized values of X and y\n",
    "X=PredictorScalerFit.transform(X)\n",
    "\n",
    " \n",
    "# Split the data into training and testing set\n",
    "from sklearn.model_selection import train_test_split\n",
    "X_train, X_test, y_train, y_test = train_test_split(X, y, test_size=0.4, random_state=42)\n",
    " \n",
    "# Quick sanity check with the shapes of Training and Testing datasets\n",
    "print(X_train.shape)\n",
    "print(y_train.shape)\n",
    "print(X_test.shape)\n",
    "print(y_test.shape)"
   ]
  },
  {
   "cell_type": "code",
   "execution_count": null,
   "metadata": {
    "colab": {
     "base_uri": "https://localhost:8080/",
     "height": 819
    },
    "id": "nivYLU35YJGf",
    "outputId": "c872f630-8617-47c3-9c7b-7400d15daba2"
   },
   "outputs": [],
   "source": [
    "history = History()\n",
    "\n",
    "classifier = Sequential()\n",
    "\n",
    "\n",
    "classifier.add(Dense(units=10, input_dim=165, kernel_initializer='uniform', activation='relu'))\n",
    "\n",
    "classifier.add(Dropout(0.3, input_shape=(X_train.shape[1],))) \n",
    "classifier.add(Dense(units=8, kernel_initializer='normal', activation='relu'))\n",
    "\n",
    "\n",
    "\n",
    "classifier.add(Dropout(0.3))\n",
    "classifier.add(Dense(units=1, kernel_initializer='uniform', activation='sigmoid'))\n",
    "\n",
    "classifier.compile(loss=tf.keras.losses.BinaryCrossentropy(reduction='none'), optimizer=tf.keras.optimizers.Adam(learning_rate=1e-3), metrics=['accuracy'])\n",
    "\n",
    "history = classifier.fit(X_train, y_train, batch_size=800, epochs=70, verbose=0, validation_data=(X_test, y_test), shuffle=True, callbacks=[history])\n",
    "\n",
    "train_score = classifier.evaluate(X_train, y_train, verbose=1)\n",
    "print('Train loss: {}, Train accuracy: {}'.format(train_score[0], train_score[1]))\n",
    "test_score = classifier.evaluate(X_test, y_test, verbose=1)\n",
    "print('Test loss: {}, Test accuracy: {}'.format(test_score[0], test_score[1]))\n",
    "\n",
    "y_test_pred = (classifier.predict(X_test) > 0.5).astype(int)\n",
    "\n",
    "\n",
    "\n",
    "print(classification_report(y_test, y_test_pred))\n",
    "print(confusion_matrix(y_test, y_test_pred, labels=[1,0]))\n",
    "\n",
    "plot_history_acc(history)\n",
    "plot_history_loss(history)"
   ]
  },
  {
   "cell_type": "code",
   "execution_count": null,
   "metadata": {
    "colab": {
     "base_uri": "https://localhost:8080/"
    },
    "id": "UimvPCtEYJKI",
    "outputId": "1a7f6a56-6ba9-4f1e-bf4d-583e127e5ec6"
   },
   "outputs": [],
   "source": [
    "clf = RandomForestClassifier(n_estimators=10000)\n",
    "clf.fit(X_train, y_train)\n",
    "y_test_pred = clf.predict(X_test)\n",
    "print(\"Accuracy on training set is : {}\".format(clf.score(X_train, y_train)))\n",
    "print(\"Accuracy on test set is : {}\".format(clf.score(X_test, y_test)))\n",
    "print(classification_report(y_test, y_test_pred))"
   ]
  },
  {
   "cell_type": "code",
   "execution_count": null,
   "metadata": {
    "colab": {
     "base_uri": "https://localhost:8080/"
    },
    "id": "lHx1ZFnB4ks6",
    "outputId": "b3d86549-b8a0-49fc-b3e8-cf942305ee6e"
   },
   "outputs": [],
   "source": [
    "clf = svm.SVC(kernel='rbf', C=1, random_state=42)\n",
    "clf.fit(X_train, y_train)\n",
    "y_test_pred = clf.predict(X_test)\n",
    "print(\"Accuracy on training set is : {}\".format(clf.score(X_train, y_train)))\n",
    "print(\"Accuracy on test set is : {}\".format(clf.score(X_test, y_test)))\n",
    "print(classification_report(y_test, y_test_pred))"
   ]
  },
  {
   "cell_type": "code",
   "execution_count": null,
   "metadata": {
    "colab": {
     "base_uri": "https://localhost:8080/"
    },
    "id": "xV_mjWWX4pqv",
    "outputId": "9a57ed34-5125-4644-9802-4edff2d1f1c7"
   },
   "outputs": [],
   "source": [
    "cls = GradientBoostingClassifier(n_estimators=2000)\n",
    "cls.fit(X_train, y_train)\n",
    "y_test_pred = clf.predict(X_test)\n",
    "print(\"Accuracy on training set is : {}\".format(clf.score(X_train, y_train)))\n",
    "print(\"Accuracy on test set is : {}\".format(clf.score(X_test, y_test)))\n",
    "print(classification_report(y_test, y_test_pred))"
   ]
  },
  {
   "cell_type": "code",
   "execution_count": null,
   "metadata": {
    "colab": {
     "base_uri": "https://localhost:8080/"
    },
    "id": "yu0PhMUs6L8f",
    "outputId": "8331b7ed-660c-4c42-bb29-1cb5457b399d"
   },
   "outputs": [],
   "source": [
    "cls = GradientBoostingClassifier(n_estimators=5000, \n",
    "                                 learning_rate = 0.01, \n",
    "                                 criterion = 'friedman_mse')\n",
    "cls.fit(X_train, y_train)\n",
    "y_test_pred = clf.predict(X_test)\n",
    "print(\"Accuracy on training set is : {}\".format(clf.score(X_train, y_train)))\n",
    "print(\"Accuracy on test set is : {}\".format(clf.score(X_test, y_test)))\n",
    "print(classification_report(y_test, y_test_pred))"
   ]
  },
  {
   "cell_type": "code",
   "execution_count": null,
   "metadata": {
    "id": "JzqbownmmGoo"
   },
   "outputs": [],
   "source": [
    "# Normalization\n",
    "peaks_features_ERN_norm = preprocessing.normalize(peaks_features_ERN)\n",
    "cwt_features_ERN_norm   = np.array(cwt_features_ERN) / np.sqrt(np.sum((np.array(cwt_features_ERN))**2))\n",
    "dwt_features_ERN_norm   = preprocessing.normalize(dwt_features_ERN)\n",
    "\n",
    "peaks_features_P200_norm = preprocessing.normalize(peaks_features_P200)\n",
    "cwt_features_P200_norm   = np.array(cwt_features_P200) / np.sqrt(np.sum((np.array(cwt_features_P200))**2))\n",
    "dwt_features_P200_norm   = preprocessing.normalize(dwt_features_P200)\n",
    "\n",
    "peaks_features_FRN_norm = preprocessing.normalize(peaks_features_FRN)\n",
    "cwt_features_FRN_norm   = np.array(cwt_features_FRN) / np.sqrt(np.sum((np.array(cwt_features_FRN))**2))\n",
    "dwt_features_FRN_norm   = preprocessing.normalize(dwt_features_FRN)\n",
    "\n",
    "peaks_features_P300_norm = preprocessing.normalize(peaks_features_P300)\n",
    "cwt_features_P300_norm   = np.array(cwt_features_P300) / np.sqrt(np.sum((np.array(cwt_features_P300))**2))\n",
    "dwt_features_P300_norm   = preprocessing.normalize(dwt_features_P300)\n",
    "\n",
    "peaks_features_N500_norm = preprocessing.normalize(peaks_features_N500)\n",
    "cwt_features_N500_norm   = np.array(cwt_features_N500) / np.sqrt(np.sum((np.array(cwt_features_N500))**2))\n",
    "dwt_features_N500_norm   = preprocessing.normalize(dwt_features_N500)"
   ]
  },
  {
   "cell_type": "code",
   "execution_count": null,
   "metadata": {
    "colab": {
     "base_uri": "https://localhost:8080/"
    },
    "id": "3ECbhA1r-9nv",
    "outputId": "3108833b-f3f8-4943-fc66-0b8ac0a0c5c4"
   },
   "outputs": [],
   "source": [
    "X = np.array(dwt_features_P300_norm)\n",
    "y = np.array(y)\n",
    "\n",
    "# Split the data into training and testing set\n",
    "X_train, X_test, y_train, y_test = train_test_split(X, y, test_size=0.4, random_state=42)\n",
    " \n",
    "# Quick sanity check with the shapes of Training and Testing datasets\n",
    "print(X_train.shape)\n",
    "print(y_train.shape)\n",
    "print(X_test.shape)\n",
    "print(y_test.shape)\n",
    "\n",
    "print('___________________')\n",
    "X_train = np.expand_dims(X_train, axis = -1)\n",
    "X_test = np.expand_dims(X_test, axis = -1)\n",
    "X_train.shape, X_test.shape"
   ]
  },
  {
   "cell_type": "code",
   "execution_count": null,
   "metadata": {
    "colab": {
     "base_uri": "https://localhost:8080/",
     "height": 767
    },
    "id": "-pEitzpC-9wq",
    "outputId": "0cefa07d-ab2e-4d56-8db8-e11025eb7e06"
   },
   "outputs": [],
   "source": [
    "# with NORM function\n",
    "history = History()\n",
    "\n",
    "img_x = 165\n",
    "img_y = 1\n",
    "\n",
    "input_shape = (img_x, img_y)\n",
    "\n",
    "num_classes = 2\n",
    "batch_size = 800\n",
    "epochs = 100\n",
    " \n",
    "X_train = X_train.astype('float32')\n",
    "X_test = X_test.astype('float32')\n",
    " \n",
    "y_train = tf.keras.utils.to_categorical(y_train, num_classes)\n",
    "y_test = tf.keras.utils.to_categorical(y_test, num_classes)\n",
    " \n",
    "model = Sequential()\n",
    "model.add(Conv1D(32, kernel_size=5, strides=1,\n",
    "                 activation='relu',\n",
    "                 input_shape=input_shape))\n",
    "model.add(MaxPooling1D(pool_size=2, strides=2))\n",
    "\n",
    "model.add(Conv1D(64, 5, activation='relu'))\n",
    "model.add(SpatialDropout1D(0.6))\n",
    "\n",
    "model.add(Conv1D(64, 5, activation='relu'))\n",
    "model.add(SpatialDropout1D(0.6))\n",
    "\n",
    "\n",
    "\n",
    "model.add(MaxPooling1D(pool_size=2))\n",
    "\n",
    "model.add(Flatten())\n",
    "\n",
    "\n",
    "\n",
    "model.add(Dense(1000, activation='relu'))\n",
    "model.add(Dense(num_classes, activation='softmax'))\n",
    " \n",
    "model.compile(loss=tf.keras.losses.BinaryCrossentropy(reduction='none'), \n",
    "              optimizer=tf.keras.optimizers.Adam(learning_rate=0.001), \n",
    "              metrics=['accuracy'])\n",
    "\n",
    "model.fit(X_train, y_train,\n",
    "          batch_size=batch_size,\n",
    "          epochs=epochs,\n",
    "          verbose=0,\n",
    "          validation_data=(X_test, y_test), \n",
    "          shuffle=True, \n",
    "          callbacks=[history])\n",
    " \n",
    "train_score = model.evaluate(X_train, y_train, verbose=0)\n",
    "print('Train loss: {}, Train accuracy: {}'.format(train_score[0], train_score[1]))\n",
    "test_score = model.evaluate(X_test, y_test, verbose=0)\n",
    "print('Test loss: {}, Test accuracy: {}'.format(test_score[0], test_score[1]))\n",
    "y_test_pred = (model.predict(X_test) > 0.5).astype(int)\n",
    "print(classification_report(y_test, y_test_pred))\n",
    "\n",
    "plot_history_acc(history)\n",
    "plot_history_loss(history)"
   ]
  },
  {
   "cell_type": "code",
   "execution_count": null,
   "metadata": {
    "colab": {
     "base_uri": "https://localhost:8080/"
    },
    "id": "N16Wbxa97hcI",
    "outputId": "5bc24f54-7c0c-4d89-dbaf-0b6e8658a3ce"
   },
   "outputs": [],
   "source": [
    "# CWT, 3D array\n",
    "\n",
    "X = np.array(cwt_features_P300_norm)\n",
    "y = np.array(y)\n",
    " \n",
    "# Split the data into training and testing set\n",
    "X_train, X_test, y_train, y_test = train_test_split(X, y, test_size=0.4, random_state=42)\n",
    " \n",
    "# Quick sanity check with the shapes of Training and Testing datasets\n",
    "print(X_train.shape)\n",
    "print(y_train.shape)\n",
    "print(X_test.shape)\n",
    "print(y_test.shape)\n",
    "\n",
    "print('___________________')\n",
    "X_train = np.expand_dims(X_train, axis = -1)\n",
    "X_test = np.expand_dims(X_test, axis = -1)\n",
    "X_train.shape, X_test.shape"
   ]
  },
  {
   "cell_type": "code",
   "execution_count": null,
   "metadata": {
    "id": "Hfxz2wLBLEsG"
   },
   "outputs": [],
   "source": [
    "history = History()\n",
    " \n",
    "img_x = 128\n",
    "img_y = 221\n",
    "img_z = 1\n",
    "input_shape = (img_x, img_y, img_z)\n",
    " \n",
    "num_classes = 2\n",
    "batch_size = 800\n",
    "epochs = 70\n",
    " \n",
    "X_train = X_train.astype('float32')\n",
    "X_test = X_test.astype('float32')\n",
    " \n",
    "y_train = tf.keras.utils.to_categorical(y_train, num_classes)\n",
    "y_test = tf.keras.utils.to_categorical(y_test, num_classes)\n",
    "    \n",
    "model = Sequential()\n",
    "model.add(Conv2D(32, kernel_size=(5, 5), strides=(1, 1),\n",
    "                 activation='relu',\n",
    "                 input_shape=input_shape))\n",
    "\n",
    "\n",
    "\n",
    "\n",
    "model.add(Conv2D(32, kernel_size=(5, 5), strides=(1, 1),\n",
    "                 activation='relu',\n",
    "                 input_shape=input_shape))\n",
    "\n",
    "\n",
    "model.add(MaxPooling2D(pool_size=(2, 2), strides=(2, 2)))\n",
    "model.add(Conv2D(64, (5, 5), activation='relu'))\n",
    "model.add(Conv2D(64, (5, 5), activation='relu'))\n",
    "\n",
    "\n",
    "model.add(Flatten())\n",
    "\n",
    "model.add(Dense(1000, activation='relu'))\n",
    "model.add(Dense(2, activation='sigmoid'))\n",
    " \n",
    "model.compile(loss=tf.keras.losses.binary_crossentropy,\n",
    "              optimizer=tf.keras.optimizers.Adam(learning_rate=1e-5),\n",
    "              metrics=['accuracy'])\n",
    "\n",
    "model.fit(X_train, y_train,\n",
    "          batch_size=batch_size,\n",
    "          epochs=epochs,\n",
    "          verbose=1,\n",
    "          validation_data=(X_test, y_test),\n",
    "          callbacks=[history])\n",
    " \n",
    "train_score = model.evaluate(X_train, y_train, verbose=0)\n",
    "print('Train loss: {}, Train accuracy: {}'.format(train_score[0], train_score[1]))\n",
    "test_score = model.evaluate(X_test, y_test, verbose=0)\n",
    "print('Test loss: {}, Test accuracy: {}'.format(test_score[0], test_score[1]))\n",
    "y_test_pred = (model.predict(X_test) > 0.5).astype(int)\n",
    "print(classification_report(y_test, y_test_pred))\n",
    "\n",
    "plot_history_acc(history)\n",
    "plot_history_loss(history)"
   ]
  },
  {
   "cell_type": "code",
   "execution_count": null,
   "metadata": {
    "id": "zsS1WFYc9aV0"
   },
   "outputs": [],
   "source": [
    "history = History()\n",
    " \n",
    "img_x = 128\n",
    "img_y = 221\n",
    "img_z = 1\n",
    "input_shape = (img_x, img_y, img_z)\n",
    " \n",
    "num_classes = 2\n",
    "batch_size = 800\n",
    "epochs = 70\n",
    " \n",
    "X_train = X_train.astype('float32')\n",
    "X_test = X_test.astype('float32')\n",
    "\n",
    "y_train = tf.keras.utils.to_categorical(y_train, num_classes)\n",
    "y_test = tf.keras.utils.to_categorical(y_test, num_classes)\n",
    " \n",
    "model = Sequential()\n",
    "model.add(Conv2D(32, kernel_size=(5, 5), strides=(1, 1),\n",
    "                 activation='relu',\n",
    "                 input_shape=input_shape))\n",
    "model.add(MaxPooling2D(pool_size=(2, 2), strides=(2, 2)))\n",
    "model.add(Conv2D(64, (5, 5), activation='relu'))\n",
    "model.add(MaxPooling2D(pool_size=(2, 2)))\n",
    "model.add(Flatten())\n",
    "\n",
    "model.add(Dense(1000, activation='relu'))\n",
    "model.add(Dense(num_classes, activation='softmax'))\n",
    " \n",
    "model.compile(loss=tf.keras.losses.binary_crossentropy,\n",
    "              optimizer=tf.keras.optimizers.Adam(learning_rate=1e-5),\n",
    "              metrics=['accuracy'])\n",
    "\n",
    "model.fit(X_train, y_train,\n",
    "          batch_size=batch_size,\n",
    "          epochs=epochs,\n",
    "          verbose=1,\n",
    "          validation_data=(X_test, y_test),\n",
    "          callbacks=[history])\n",
    " \n",
    "train_score = model.evaluate(X_train, y_train, verbose=0)\n",
    "print('Train loss: {}, Train accuracy: {}'.format(train_score[0], train_score[1]))\n",
    "test_score = model.evaluate(X_test, y_test, verbose=0)\n",
    "print('Test loss: {}, Test accuracy: {}'.format(test_score[0], test_score[1]))\n",
    "y_test_pred = (model.predict(X_test) > 0.5).astype(int)\n",
    "print(classification_report(y_test, y_test_pred))\n",
    "\n",
    "plot_history_acc(history)\n",
    "plot_history_loss(history)"
   ]
  },
  {
   "cell_type": "code",
   "execution_count": null,
   "metadata": {
    "scrolled": true
   },
   "outputs": [],
   "source": [
    "raw = mne.io.read_raw_edf('./S01.edf')\n",
    "raw\n",
    "raw.plot()"
   ]
  },
  {
   "cell_type": "code",
   "execution_count": null,
   "metadata": {
    "scrolled": true
   },
   "outputs": [],
   "source": [
    "raw.plot()"
   ]
  },
  {
   "cell_type": "code",
   "execution_count": null,
   "metadata": {},
   "outputs": [],
   "source": [
    "raw_drop = raw.drop_channels(['IO', 'FT9', 'FT7', 'T7', 'TP7', 'TP9', 'FC5', 'CP5', 'FT10', 'FT8', 'T8', 'TP8', 'TP10', 'FC6', 'CP6'])\n",
    "raw_drop"
   ]
  },
  {
   "cell_type": "code",
   "execution_count": null,
   "metadata": {},
   "outputs": [],
   "source": [
    "builtin_montages = mne.channels.get_builtin_montages()\n",
    "easycap_montage = mne.channels.make_standard_montage('easycap-M1')"
   ]
  },
  {
   "cell_type": "code",
   "execution_count": null,
   "metadata": {},
   "outputs": [],
   "source": [
    "raw_digit = raw_drop.set_channel_types({'Fp1': 'eeg'})\n",
    "raw_digit = raw_drop.set_montage(easycap_montage)\n",
    "raw_digit"
   ]
  },
  {
   "cell_type": "code",
   "execution_count": null,
   "metadata": {},
   "outputs": [],
   "source": [
    "raw_digit.load_data()\n",
    "\n",
    "# Filtering: low-pass 0.1Hz, High-pass 40Hz\n",
    "raw_digit_notch = raw_digit.copy().notch_filter(50, verbose='warning')  # notch filter 50 Hz\n",
    "raw_digit_filt = raw_digit_notch.filter(l_freq=0.1, h_freq=40, fir_design='firwin', skip_by_annotation='edge', verbose='warning') # FIR filter\n",
    "\n",
    "raw_digit_filt.plot()"
   ]
  },
  {
   "cell_type": "code",
   "execution_count": null,
   "metadata": {},
   "outputs": [],
   "source": [
    "raw_digit.load_data()\n",
    "\n",
    "# Filtering: low-pass 1Hz, High-pass 40Hz\n",
    "raw_digit_filt_ica = raw_digit.filter(l_freq=1, h_freq=40, fir_design='firwin', skip_by_annotation='edge', verbose='warning') # FIR filter"
   ]
  },
  {
   "cell_type": "code",
   "execution_count": null,
   "metadata": {},
   "outputs": [],
   "source": [
    "def REJECT(file_eeg_filt_ica):\n",
    "  tstep = 1.0         # Break raw data into 1 s epochs\n",
    "  events_ica = mne.make_fixed_length_events(file_eeg_filt_ica, duration=tstep)\n",
    "  epochs_ica = mne.Epochs(file_eeg_filt_ica, events_ica,\n",
    "                        tmin=0.0, tmax=tstep,\n",
    "                        baseline=None,\n",
    "                        preload=True)\n",
    "\n",
    "  return epochs_ica"
   ]
  },
  {
   "cell_type": "code",
   "execution_count": null,
   "metadata": {},
   "outputs": [],
   "source": [
    "def ICA_REJECT_99(epochs_ica):\n",
    "  reject_thr = get_rejection_threshold(epochs_ica)\n",
    "  print('rejection threshold: ', reject_thr)\n",
    "  ica = ICA(n_components=0.99, max_iter='auto', random_state=97, method='fastica')\n",
    "  ica.fit(epochs_ica, reject=reject_thr, tstep=1.0)\n",
    "\n",
    "  return ica"
   ]
  },
  {
   "cell_type": "code",
   "execution_count": null,
   "metadata": {},
   "outputs": [],
   "source": [
    "epochs_ica = REJECT(raw_digit_filt_ica)"
   ]
  },
  {
   "cell_type": "code",
   "execution_count": null,
   "metadata": {},
   "outputs": [],
   "source": [
    "ica = ICA_REJECT_99(epochs_ica)"
   ]
  },
  {
   "cell_type": "code",
   "execution_count": null,
   "metadata": {},
   "outputs": [],
   "source": [
    "ica.plot_components()"
   ]
  },
  {
   "cell_type": "code",
   "execution_count": null,
   "metadata": {},
   "outputs": [],
   "source": [
    "# muscle artifacts\n",
    "\n",
    "muscle_idx, scores = ica.find_bads_muscle(raw_digit_filt)\n",
    "ica.plot_scores(muscle_idx, exclude=muscle_idx)\n",
    "print(f'Automatically found muscle artifact ICA components: {muscle_idx}')\n"
   ]
  },
  {
   "cell_type": "code",
   "execution_count": null,
   "metadata": {},
   "outputs": [],
   "source": []
  },
  {
   "cell_type": "code",
   "execution_count": null,
   "metadata": {
    "scrolled": true
   },
   "outputs": [],
   "source": [
    "# eog artifacts\n",
    "eog_idx, eog_scores = ica.find_bads_eog(raw_digit_filt, ch_name=['Fp1', 'F8'], verbose='warning')\n",
    "ica.plot_scores(eog_scores)\n",
    "print(f'Automatically found EOG artifact ICA components: {eog_idx}')"
   ]
  },
  {
   "cell_type": "code",
   "execution_count": null,
   "metadata": {},
   "outputs": [],
   "source": [
    "# ecg artifacts\n",
    "ecg_indices, ecg_scores = ica.find_bads_ecg(raw_digit_filt, method='correlation', threshold='auto', ch_name='Cz', verbose='warning')\n",
    "ica.plot_scores(ecg_scores)\n",
    "print(f'Automatically found ECG artifact ICA components: {ecg_indices}')"
   ]
  },
  {
   "cell_type": "code",
   "execution_count": null,
   "metadata": {},
   "outputs": [],
   "source": [
    " # ecg artifacts\n",
    "ecg_idx = [0, 1, 2]  "
   ]
  },
  {
   "cell_type": "code",
   "execution_count": null,
   "metadata": {},
   "outputs": [],
   "source": [
    "file_eeg_filt_clean = ica.apply(raw_digit_filt, exclude = eog_idx + ecg_idx + muscle_idx)\n",
    "file_eeg_filt_clean.plot()"
   ]
  },
  {
   "cell_type": "code",
   "execution_count": null,
   "metadata": {},
   "outputs": [],
   "source": [
    "igt = pd.read_csv('S01.edf.mrk')"
   ]
  },
  {
   "cell_type": "code",
   "execution_count": null,
   "metadata": {},
   "outputs": [],
   "source": [
    "events = EVENTS(igt)"
   ]
  },
  {
   "cell_type": "code",
   "execution_count": null,
   "metadata": {},
   "outputs": [],
   "source": [
    "file_eeg_filt_reject_ica_clean_frame = FRAME(file_eeg_filt_clean)\n",
    "EEGdata = EEG(file_eeg_filt_reject_ica_clean_frame, events) \n",
    "EEGdata_avg = TOTAL(EEGdata)\n",
    "EEG_PLOT(EEGdata_avg)"
   ]
  },
  {
   "cell_type": "code",
   "execution_count": null,
   "metadata": {},
   "outputs": [],
   "source": [
    "# S01, FRN signal:\n",
    "signal  = EEGdata_avg.iloc[280:381, ]"
   ]
  },
  {
   "cell_type": "code",
   "execution_count": null,
   "metadata": {},
   "outputs": [],
   "source": [
    "from scipy.fftpack import fft"
   ]
  },
  {
   "cell_type": "code",
   "execution_count": null,
   "metadata": {},
   "outputs": [],
   "source": [
    "signal"
   ]
  },
  {
   "cell_type": "code",
   "execution_count": null,
   "metadata": {},
   "outputs": [],
   "source": [
    "t_n = 1\n",
    "N = len(signal)\n",
    "T = t_n / N\n",
    "f_s = 1/T "
   ]
  },
  {
   "cell_type": "code",
   "execution_count": null,
   "metadata": {},
   "outputs": [],
   "source": [
    "f_values = np.linspace(0.0, 1.0/(2.0*T), N//2)"
   ]
  },
  {
   "cell_type": "code",
   "execution_count": null,
   "metadata": {},
   "outputs": [],
   "source": [
    "fft_values_ = fft(signal.values)"
   ]
  },
  {
   "cell_type": "code",
   "execution_count": null,
   "metadata": {},
   "outputs": [],
   "source": [
    "fft_values = 2.0/N * np.abs(fft_values_[0:N//2])"
   ]
  },
  {
   "cell_type": "code",
   "execution_count": null,
   "metadata": {},
   "outputs": [],
   "source": [
    "plt.plot(f_values, fft_values, linestyle='-', color='blue')\n",
    "plt.xlabel('Frequency [Hz]', fontsize=16)\n",
    "plt.ylabel('Amplitude', fontsize=16)\n",
    "plt.title(\"FFT Function\", fontsize=16)\n",
    "plt.show()\n",
    "\n",
    "print(f_values.shape, fft_values.shape)"
   ]
  },
  {
   "cell_type": "code",
   "execution_count": null,
   "metadata": {},
   "outputs": [],
   "source": [
    "f_values, psd_values = welch(signal, fs=f_s)"
   ]
  },
  {
   "cell_type": "code",
   "execution_count": null,
   "metadata": {},
   "outputs": [],
   "source": [
    "plt.plot(f_values, psd_values, linestyle='-', color='blue')\n",
    "plt.xlabel('Frequency [Hz]', fontsize=16)\n",
    "plt.ylabel('Amplitude', fontsize=16)\n",
    "plt.title(\"PSD Function\", fontsize=16)\n",
    "plt.show()"
   ]
  },
  {
   "cell_type": "code",
   "execution_count": null,
   "metadata": {},
   "outputs": [],
   "source": [
    "def autocorr(x):\n",
    "    result = np.correlate(x, x, mode='full')\n",
    "    return result[len(result)//2:]"
   ]
  },
  {
   "cell_type": "code",
   "execution_count": null,
   "metadata": {},
   "outputs": [],
   "source": [
    "def get_autocorr_values(y_values, T, N, f_s):\n",
    "    autocorr_values = autocorr(y_values)\n",
    "    x_values = np.array([T * jj for jj in range(0, N)])\n",
    "    return x_values, autocorr_values"
   ]
  },
  {
   "cell_type": "code",
   "execution_count": null,
   "metadata": {},
   "outputs": [],
   "source": [
    "t_n = 1\n",
    "N = len(signal)\n",
    "T = t_n / N\n",
    "f_s = 1/T\n",
    "\n",
    "t_values, autocorr_values = get_autocorr_values(signal, T, N, f_s)"
   ]
  },
  {
   "cell_type": "code",
   "execution_count": null,
   "metadata": {},
   "outputs": [],
   "source": [
    "plt.plot(t_values, autocorr_values, linestyle='-', color='blue')\n",
    "plt.xlabel('Time delay [s]', fontsize=16)\n",
    "plt.ylabel('Amplitude', fontsize=16)\n",
    "plt.title(\"ACF Function\", fontsize=16)\n",
    "plt.show()"
   ]
  },
  {
   "cell_type": "code",
   "execution_count": null,
   "metadata": {},
   "outputs": [],
   "source": [
    "max_peak_height = 0.01 * np.nanmax(fft_values)\n",
    "ind = detect_peaks(fft_values, show=True, mph=max_peak_height)\n",
    "ind.shape"
   ]
  },
  {
   "cell_type": "code",
   "execution_count": null,
   "metadata": {},
   "outputs": [],
   "source": [
    "max_peak_height = 0.01 * np.nanmax(psd_values)\n",
    "ind = detect_peaks(psd_values, show=True, mph=max_peak_height)\n",
    "ind.shape"
   ]
  },
  {
   "cell_type": "code",
   "execution_count": null,
   "metadata": {},
   "outputs": [],
   "source": [
    "max_peak_height = 0.01 * np.nanmax(autocorr_values)\n",
    "ind = detect_peaks(autocorr_values, show=True, mph=max_peak_height)"
   ]
  },
  {
   "cell_type": "code",
   "execution_count": null,
   "metadata": {},
   "outputs": [],
   "source": []
  }
 ],
 "metadata": {
  "colab": {
   "provenance": []
  },
  "kernelspec": {
   "display_name": "Python 3",
   "language": "python",
   "name": "python3"
  },
  "language_info": {
   "codemirror_mode": {
    "name": "ipython",
    "version": 3
   },
   "file_extension": ".py",
   "mimetype": "text/x-python",
   "name": "python",
   "nbconvert_exporter": "python",
   "pygments_lexer": "ipython3",
   "version": "3.8.8"
  }
 },
 "nbformat": 4,
 "nbformat_minor": 1
}
