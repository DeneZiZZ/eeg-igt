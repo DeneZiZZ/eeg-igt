{
 "cells": [
  {
   "cell_type": "code",
   "execution_count": 19,
   "id": "f2bb25f5",
   "metadata": {},
   "outputs": [
    {
     "name": "stdout",
     "output_type": "stream",
     "text": [
      "Requirement already satisfied: detecta in c:\\users\\dkornev\\anaconda3\\lib\\site-packages (0.0.5)\n"
     ]
    }
   ],
   "source": [
    "import os\n",
    "import numpy as np\n",
    "import pandas as pd\n",
    "import matplotlib.pyplot as plt\n",
    "import mne\n",
    "import pywt\n",
    "\n",
    "import scipy\n",
    "from scipy.fft import fft\n",
    "from scipy.signal import welch\n",
    "\n",
    "from collections import Counter\n",
    "\n",
    "import sklearn\n",
    "from sklearn import preprocessing\n",
    "from sklearn.model_selection import train_test_split\n",
    "from sklearn import svm\n",
    "from sklearn.model_selection import cross_val_score\n",
    "from sklearn.ensemble import GradientBoostingClassifier\n",
    "from sklearn.model_selection import train_test_split\n",
    "from sklearn.ensemble import RandomForestClassifier\n",
    "from sklearn.metrics import classification_report\n",
    "from sklearn.metrics import confusion_matrix\n",
    "from sklearn.metrics import mean_squared_error\n",
    "from sklearn.metrics import mean_absolute_error\n",
    "\n",
    "import tensorflow as tf\n",
    "from tensorflow.keras.layers import Dense, Flatten\n",
    "from tensorflow.keras.layers import Conv2D, MaxPooling2D\n",
    "from tensorflow.keras.layers import Dropout, SpatialDropout1D, BatchNormalization, Embedding, Activation, Input, concatenate\n",
    "from tensorflow.keras.layers import SimpleRNN, GRU, LSTM, Bidirectional, Conv1D, MaxPooling1D, GlobalMaxPooling1D, SpatialDropout2D\n",
    "\n",
    "from tensorflow.keras.optimizers import Adam, Adadelta, SGD, Adagrad, RMSprop\n",
    "from tensorflow.keras.models import Sequential\n",
    "from tensorflow.keras.callbacks import History \n",
    "\n",
    "!pip install detecta\n",
    "from detecta import detect_peaks"
   ]
  },
  {
   "cell_type": "code",
   "execution_count": 2,
   "id": "5b7c108a",
   "metadata": {},
   "outputs": [
    {
     "data": {
      "text/plain": [
       "'C:\\\\Users\\\\dkornev\\\\Desktop\\\\Work Folder\\\\My Folders\\\\Harrisburg University\\\\ISEM 780-52-A-2021 Fall - Doctoral Research Seminar\\\\Experiment'"
      ]
     },
     "execution_count": 2,
     "metadata": {},
     "output_type": "execute_result"
    }
   ],
   "source": [
    "os.chdir('C:/Users/dkornev/Desktop/Work Folder/My Folders/Harrisburg University/ISEM 780-52-A-2021 Fall - Doctoral Research Seminar/Experiment')\n",
    "os.getcwd()"
   ]
  },
  {
   "cell_type": "code",
   "execution_count": 3,
   "id": "0f458105",
   "metadata": {},
   "outputs": [],
   "source": [
    "#####################################\n",
    "#####################################\n",
    "# IGT function creation\n",
    "def IGT(a):\n",
    "    a = a.TL02.str.split(r'\\t', expand=True) # dividing by columns; !!!the whole dataset is more than 200 trials (201)!!!\n",
    "    a.columns = ['Time', 'Time1', 'Mark'] # rename columns\n",
    "    a.drop('Time1', axis = 1, inplace = True) # drop colunm \"0\"\n",
    "\n",
    "    # Sort decision time points (DTP) only and dividing by 10 Blocks\n",
    "    igt1 = a[(a.Mark == '\"PP 1\"') | (a.Mark == '\"PP 2\"') | (a.Mark == '\"PP 3\"') | (a.Mark == '\"PP 4\"')]\n",
    "    igt1.columns = ['DTP', 'Deck']\n",
    "    igt1 = igt1.reset_index(drop = True)\n",
    "    igt1['Block'] = pd.DataFrame(np.repeat(np.arange(0, 10), 20))\n",
    "    igt1 = igt1.dropna(axis=0, how='any') # erasing NaN rows\n",
    "\n",
    "    # Sort reaction time points (RTP)\n",
    "    # PP9 - win\n",
    "    # PP10 - loss\n",
    "    igt2 = a[(a.Mark == '\"PP 9\"') | (a.Mark == '\"PP 10\"')]\n",
    "    igt2.columns = ['RTP', 'Result']\n",
    "    igt2 = igt2.reset_index(drop = True)\n",
    "\n",
    "    # The whole IGT dataset\n",
    "    igt = igt1.join(igt2)\n",
    "    igt = igt.fillna(method='ffill')\n",
    "\n",
    "    # Rename decks and results\n",
    "    igt['RTP'] = igt['RTP'].astype(str).astype(int)\n",
    "    igt['DTP'] = igt['DTP'].astype(str).astype(int)\n",
    "    igt.loc[(igt.Deck == '\"PP 1\"'), 'Deck'] = 'A'\n",
    "    igt.loc[(igt.Deck == '\"PP 2\"'), 'Deck'] = 'B'\n",
    "    igt.loc[(igt.Deck == '\"PP 3\"'), 'Deck'] = 'C' \n",
    "    igt.loc[(igt.Deck == '\"PP 4\"'), 'Deck'] = 'D'\n",
    "    igt.loc[(igt.Result == '\"PP 9\"'), 'Result'] = '1' \n",
    "    igt.loc[(igt.Result == '\"PP 10\"'), 'Result'] = '0'\n",
    "    \n",
    "    # Dividing by IGT blocks\n",
    "    igtBlock1 = igt[0:20]\n",
    "    igtBlock2 = igt[20:40]\n",
    "    igtBlock3 = igt[40:60]\n",
    "    igtBlock4 = igt[60:80]\n",
    "    igtBlock5 = igt[80:100]\n",
    "    igtBlock6 = igt[100:120]\n",
    "    igtBlock7 = igt[120:140]\n",
    "    igtBlock8 = igt[140:160]\n",
    "    igtBlock9 = igt[160:180]\n",
    "    igtBlock10 = igt[180:200]\n",
    "\n",
    "    # IGT Score calculation\n",
    "\n",
    "    igtBlock1A = igtBlock1[(igtBlock1.Deck == 'A')]\n",
    "    igtBlock1B = igtBlock1[(igtBlock1.Deck == 'B')]\n",
    "    igtBlock1C = igtBlock1[(igtBlock1.Deck == 'C')]\n",
    "    igtBlock1D = igtBlock1[(igtBlock1.Deck == 'D')]\n",
    "\n",
    "    igtBlock2A = igtBlock2[(igtBlock2.Deck == 'A')]\n",
    "    igtBlock2B = igtBlock2[(igtBlock2.Deck == 'B')]\n",
    "    igtBlock2C = igtBlock2[(igtBlock2.Deck == 'C')]\n",
    "    igtBlock2D = igtBlock2[(igtBlock2.Deck == 'D')]\n",
    "\n",
    "    igtBlock3A = igtBlock3[(igtBlock3.Deck == 'A')]\n",
    "    igtBlock3B = igtBlock3[(igtBlock3.Deck == 'B')]\n",
    "    igtBlock3C = igtBlock3[(igtBlock3.Deck == 'C')]\n",
    "    igtBlock3D = igtBlock3[(igtBlock3.Deck == 'D')]\n",
    "\n",
    "    igtBlock4A = igtBlock4[(igtBlock4.Deck == 'A')]\n",
    "    igtBlock4B = igtBlock4[(igtBlock4.Deck == 'B')]\n",
    "    igtBlock4C = igtBlock4[(igtBlock4.Deck == 'C')]\n",
    "    igtBlock4D = igtBlock4[(igtBlock4.Deck == 'D')]\n",
    "\n",
    "    igtBlock5A = igtBlock5[(igtBlock5.Deck == 'A')]\n",
    "    igtBlock5B = igtBlock5[(igtBlock5.Deck == 'B')]\n",
    "    igtBlock5C = igtBlock5[(igtBlock5.Deck == 'C')]\n",
    "    igtBlock5D = igtBlock5[(igtBlock5.Deck == 'D')]\n",
    "    \n",
    "    igtBlock6A = igtBlock6[(igtBlock6.Deck == 'A')]\n",
    "    igtBlock6B = igtBlock6[(igtBlock6.Deck == 'B')]\n",
    "    igtBlock6C = igtBlock6[(igtBlock6.Deck == 'C')]\n",
    "    igtBlock6D = igtBlock6[(igtBlock6.Deck == 'D')]\n",
    "    \n",
    "    igtBlock7A = igtBlock7[(igtBlock7.Deck == 'A')]\n",
    "    igtBlock7B = igtBlock7[(igtBlock7.Deck == 'B')]\n",
    "    igtBlock7C = igtBlock7[(igtBlock7.Deck == 'C')]\n",
    "    igtBlock7D = igtBlock7[(igtBlock7.Deck == 'D')]\n",
    "\n",
    "    igtBlock8A = igtBlock8[(igtBlock8.Deck == 'A')]\n",
    "    igtBlock8B = igtBlock8[(igtBlock8.Deck == 'B')]\n",
    "    igtBlock8C = igtBlock8[(igtBlock8.Deck == 'C')]\n",
    "    igtBlock8D = igtBlock8[(igtBlock8.Deck == 'D')]\n",
    "\n",
    "    igtBlock9A = igtBlock9[(igtBlock9.Deck == 'A')]\n",
    "    igtBlock9B = igtBlock9[(igtBlock9.Deck == 'B')]\n",
    "    igtBlock9C = igtBlock9[(igtBlock9.Deck == 'C')]\n",
    "    igtBlock9D = igtBlock9[(igtBlock9.Deck == 'D')]\n",
    "\n",
    "    igtBlock10A = igtBlock10[(igtBlock10.Deck == 'A')]\n",
    "    igtBlock10B = igtBlock10[(igtBlock10.Deck == 'B')]\n",
    "    igtBlock10C = igtBlock10[(igtBlock10.Deck == 'C')]\n",
    "    igtBlock10D = igtBlock10[(igtBlock10.Deck == 'D')]\n",
    "    \n",
    "    # IGTscore = sum(C) + sum(D) - sum(A) - sum(B) by blocks\n",
    "    igtBlock1Score = igtBlock1C.shape[0] + igtBlock1D.shape[0] - igtBlock1A.shape[0] - igtBlock1B.shape[0]\n",
    "    igtBlock2Score = igtBlock2C.shape[0] + igtBlock2D.shape[0] - igtBlock2A.shape[0] - igtBlock2B.shape[0]\n",
    "    igtBlock3Score = igtBlock3C.shape[0] + igtBlock3D.shape[0] - igtBlock3A.shape[0] - igtBlock3B.shape[0]\n",
    "    igtBlock4Score = igtBlock4C.shape[0] + igtBlock4D.shape[0] - igtBlock4A.shape[0] - igtBlock4B.shape[0]\n",
    "    igtBlock5Score = igtBlock5C.shape[0] + igtBlock5D.shape[0] - igtBlock5A.shape[0] - igtBlock5B.shape[0]\n",
    "    igtBlock6Score = igtBlock6C.shape[0] + igtBlock6D.shape[0] - igtBlock6A.shape[0] - igtBlock6B.shape[0]\n",
    "    igtBlock7Score = igtBlock7C.shape[0] + igtBlock7D.shape[0] - igtBlock7A.shape[0] - igtBlock7B.shape[0]\n",
    "    igtBlock8Score = igtBlock8C.shape[0] + igtBlock8D.shape[0] - igtBlock8A.shape[0] - igtBlock8B.shape[0]\n",
    "    igtBlock9Score = igtBlock9C.shape[0] + igtBlock9D.shape[0] - igtBlock9A.shape[0] - igtBlock9B.shape[0]\n",
    "    igtBlock10Score = igtBlock10C.shape[0] + igtBlock10D.shape[0] - igtBlock10A.shape[0] - igtBlock10B.shape[0]\n",
    "\n",
    "    # Collect IGTscore in one row\n",
    "    IGTScore = [igtBlock1Score, igtBlock2Score, igtBlock3Score, igtBlock4Score, igtBlock5Score, igtBlock6Score, igtBlock7Score, igtBlock8Score, igtBlock9Score, igtBlock10Score]\n",
    "    IGTScore = pd.DataFrame(IGTScore)\n",
    "    \n",
    "    return IGTScore"
   ]
  },
  {
   "cell_type": "code",
   "execution_count": 4,
   "id": "70088d5e",
   "metadata": {},
   "outputs": [],
   "source": [
    "#####################################\n",
    "#####################################\n",
    "# Trigger-Events function creation\n",
    "def EVENTS(a):\n",
    "    a = a.TL02.str.split(r'\\t', expand=True) # dividing by columns; !!!the whole dataset is more than 200 trials (201)!!!\n",
    "    a.columns = ['Time', 'Time1', 'Mark'] # rename columns\n",
    "    a.drop('Time1', axis = 1, inplace = True) # drop colunm \"0\"\n",
    "\n",
    "    # Sort decision time points (DTP) only and dividing by 10 Blocks\n",
    "    igt1 = a[(a.Mark == '\"PP 1\"') | (a.Mark == '\"PP 2\"') | (a.Mark == '\"PP 3\"') | (a.Mark == '\"PP 4\"')]\n",
    "    igt1.columns = ['DTP', 'Deck']\n",
    "    igt1 = igt1.reset_index(drop = True)\n",
    "    igt1['Block'] = pd.DataFrame(np.repeat(np.arange(0, 10), 20))\n",
    "    \n",
    "    # Sort reaction time points (RTP)\n",
    "    # PP9 - win\n",
    "    # PP10 - loss\n",
    "    igt2 = a[(a.Mark == '\"PP 9\"') | (a.Mark == '\"PP 10\"')]\n",
    "    igt2.columns = ['RTP', 'Result']\n",
    "    igt2 = igt2.reset_index(drop = True)\n",
    "\n",
    "    # The whole IGT dataset\n",
    "    igt = igt1.join(igt2)\n",
    "    igt = igt.dropna(axis=0, how='any') # erasing NaN rows\n",
    "    igt = igt.drop_duplicates(keep='first', subset='RTP') # duplicates in rows deliting\n",
    "\n",
    "    # Rename decks and results\n",
    "    igt['RTP'] = igt['RTP'].astype(str).astype(int)\n",
    "    igt['DTP'] = igt['DTP'].astype(str).astype(int)\n",
    "    igt.loc[(igt.Deck == '\"PP 1\"'), 'Deck'] = 'A'\n",
    "    igt.loc[(igt.Deck == '\"PP 2\"'), 'Deck'] = 'B'\n",
    "    igt.loc[(igt.Deck == '\"PP 3\"'), 'Deck'] = 'C' \n",
    "    igt.loc[(igt.Deck == '\"PP 4\"'), 'Deck'] = 'D'\n",
    "    igt.loc[(igt.Result == '\"PP 9\"'), 'Result'] = '1' \n",
    "    igt.loc[(igt.Result == '\"PP 10\"'), 'Result'] = '0'\n",
    "    \n",
    "    # Events (triggers) list creation\n",
    "    igt['Tmax'] = igt['RTP'] + 800 # RTP is 0 point of trigger event, Tmax is the END point of the trigger event\n",
    "    igt['Tmin'] = igt['RTP'] - 200 # RTP is 0 point of trigger event, Tmin is the START point of the trigger event\n",
    "    events = igt[['Deck', 'Tmin', 'Tmax']]\n",
    "    events = events.melt(id_vars=['Deck'], value_vars=['Tmin', 'Tmax'])\n",
    "    events.drop('Deck', axis = 1, inplace = True)\n",
    "    events.columns = ['point', 'time']\n",
    "    events = events.sort_values(by=['time'])\n",
    "    \n",
    "    Tmin = events[(events.point == 'Tmin')]\n",
    "    Tmax = events[(events.point == 'Tmax')]\n",
    "    Tmax = Tmax.reset_index(drop = True)\n",
    "    Tmin['index'] = pd.DataFrame(np.arange(1001, 2001))\n",
    "    Tmax['index'] = pd.DataFrame(np.arange(2001, 3001))\n",
    "    events = pd.concat([Tmin, Tmax])\n",
    "    events = events.reset_index(drop = True)\n",
    "    events = events.sort_values(by=['time'])   \n",
    "    # For following synchronization with EEG dataset EVENTS data should be adjusted by adding an appropriate columns\n",
    "    \n",
    "    # Set of triggers events (time window intervals) creation: 200 card selections by 1001 time points, total 200200 rows     \n",
    "    intervals = pd.concat([pd.DataFrame([i], columns=['point']) for i in range(1001)]*200, ignore_index=True)\n",
    "    intervals.loc[intervals.point == 0, 'point'] = '01Tmin'\n",
    "    intervals.loc[intervals.point == 1000, 'point'] = '02Tmax'\n",
    "    intervals['int'] = pd.DataFrame(np.arange(0, 200200)) \n",
    "    \n",
    "    # Rename Tmin and Tmax points for following sorting\n",
    "    intervals['point'] = intervals['point'].astype(str)\n",
    "    \n",
    "    # now we have the first 200 rows of Tmin (01Tmin) and the second 200 rows of Tmax (02Tmax) \n",
    "    # for following numbering simplification\n",
    "    intervals = intervals.sort_values(by=['point', 'int'])\n",
    "    intervals = intervals.reset_index(drop = True)\n",
    "    \n",
    "    # Adding new column \"index\" for numbering Tmin and Tmax\n",
    "    A = [np.arange(1001, 1201)]\n",
    "    B = [np.arange(2001, 2201)]\n",
    "    AA = pd.DataFrame(A).T\n",
    "    BB = pd.DataFrame(B).T\n",
    "    C = pd.concat([AA, BB])\n",
    "    C = C.reset_index(drop = True)\n",
    "    intervals = intervals.join(C)\n",
    "    intervals.columns = ['point', 'int', 'index']\n",
    "    intervals = intervals.fillna(0)\n",
    "    # Now we have individual indexes for each Tmin and Tmax\n",
    "    \n",
    "    # Sort back to 1 - 200200 by \"int\" column\n",
    "    intervals = intervals.sort_values(by=['int'])\n",
    "    intervals['index'] = intervals['index'].astype(int)\n",
    "    \n",
    "    # Rename points back\n",
    "    intervals.loc[(intervals.point == '01Tmin'), 'point'] = 'Tmin' \n",
    "    intervals.loc[(intervals.point == '02Tmax'), 'point'] = 'Tmax'\n",
    "    \n",
    "     # Creation trigger events dataset\n",
    "    \n",
    "    events_triggers = intervals.merge(events, how = 'left', on = 'index') # merge EVENTS and INTERVALS\n",
    "    \n",
    "    events_triggers = events_triggers.reset_index(drop = True)\n",
    "    events_triggers = events_triggers[['point_x', 'time']] # taking just two columns\n",
    "    events_triggers.columns = ['intervals', 'time'] # renaming columns to \"INTARVALS\" and \"TIME\"\n",
    "\n",
    "    events_triggers['time3'] = events_triggers['time']\n",
    "    events_triggers['time3'].fillna(method='bfill', inplace=True) # filling NaN as the lower  number\n",
    "\n",
    "    events_triggers = events_triggers.dropna(subset=['time3'])# drop NaN by the column\n",
    "\n",
    "    events_triggers['time4'] = events_triggers['time']\n",
    "\n",
    "    events_triggers = events_triggers.fillna(method='ffill') # filling NaN as the upper number\n",
    "\n",
    "    events_triggers['intervals2'] = events_triggers['intervals']\n",
    "    events_triggers.loc[(events_triggers.intervals2 == 'Tmin'), 'intervals2'] = '0' \n",
    "    events_triggers.loc[(events_triggers.intervals2 == 'Tmax'), 'intervals2'] = '0' \n",
    "    events_triggers['intervals2'] = events_triggers['intervals2'].astype(int)\n",
    "\n",
    "    events_triggers['time5'] = events_triggers['time4'] + events_triggers['intervals2']\n",
    "    events_triggers = events_triggers[['intervals', 'time5']]\n",
    "    events_triggers.columns = ['intervals', 'time']\n",
    " \n",
    "    return events_triggers"
   ]
  },
  {
   "cell_type": "code",
   "execution_count": 5,
   "id": "feab2e8c",
   "metadata": {},
   "outputs": [],
   "source": [
    "#####################################\n",
    "#####################################\n",
    "# EEG filtering function creation\n",
    "def EEG(a, b):                   \n",
    "    # EEG dataset creation with MEAN values by all columns. Filtering: low-pass 1Hz, High-pass 50Hz\n",
    "    raw_df = a.to_data_frame()\n",
    "    \n",
    "    sfreq = a.info['sfreq'] # frequency setting: 1000Hz\n",
    "    a.load_data()\n",
    "\n",
    "    # Filtering: low-pass 1Hz, High-pass 43Hz\n",
    "    raw_f = a.notch_filter(50)  # notch filter 50 Hz\n",
    "    raw_f = a.filter(1., 43., fir_design='firwin', skip_by_annotation='edge') # FIR filter\n",
    "    raw_df_f = raw_f.to_data_frame()\n",
    "    raw_df_f.drop('time', axis = 1, inplace = True)\n",
    "                         \n",
    "    mask = ((raw_df <= 50) & (raw_df >= -50)) # removing data below -50uV and above 50uV\n",
    "    raw_df_f = raw_df_f[mask]\n",
    "    raw_df_f = raw_df_f.fillna(method='ffill')\n",
    "    raw_df_f = raw_df_f.fillna(method='bfill')\n",
    "                                            \n",
    "    # Signal averaging by channels\n",
    "    raw_df_f['level'] = raw_df_f.mean(axis=1)\n",
    "    raw_df_f_mean = raw_df_f['level']\n",
    "    raw_df_f_mean = raw_df_f_mean.to_frame()\n",
    "    raw_df_f_mean['time'] = raw_df_f_mean.index\n",
    "\n",
    "    # The whole dataset creation connecting trigger events with eeg levels by time points\n",
    "    S = raw_df_f_mean.join(b.set_index('time'), on='time')\n",
    "    S = S.dropna(axis=0, how='any') # erasing NaN rows\n",
    "    S = S.reset_index(drop = True)\n",
    "    \n",
    "    # preparing dataset for following PIVOT function application\n",
    "    # adding 'EPOCHS' column that reflects 200 epochs (each for each card choice) with 1001 time points\n",
    "    S['epochs'] = pd.DataFrame(np.repeat(np.arange(0, 200), 1001))\n",
    "    S.loc[(S.intervals == 'Tmin'), 'intervals'] = '0' \n",
    "    S.loc[(S.intervals == 'Tmax'), 'intervals'] = '1000' \n",
    "    S['intervals'] = S['intervals'].astype(int)\n",
    "\n",
    "    # Dataset transformation, matching (Tmin, -199, -198, ..., -1, RTP(0), 1, 2,3, ....., 788, 789, Tmax) points\n",
    "    S = S.pivot(index='epochs', columns='intervals', values='level')\n",
    "    S = S.reset_index(drop = True)\n",
    "    S_T = S.T\n",
    "    S_T = S_T.reset_index(drop = True)\n",
    "    S_T_T = S_T.T\n",
    "    S_T_T = S_T_T.reset_index(drop = True)\n",
    "    S_T_T_T = S_T_T.T\n",
    "    \n",
    "    return S_T_T_T"
   ]
  },
  {
   "cell_type": "code",
   "execution_count": 6,
   "id": "77ccabc7",
   "metadata": {},
   "outputs": [],
   "source": [
    "#####################################\n",
    "#####################################\n",
    "# Features extraction\n",
    "\n",
    "def get_fft_values(signal, T, N, f_s):\n",
    "    f_values = np.linspace(0.0, 1.0/(2.0*T), N//2)\n",
    "    fft_values_ = fft(signal)\n",
    "    fft_values = 2.0/N * np.abs(fft_values_[0:N//2])\n",
    "    return f_values, fft_values\n",
    "      \n",
    "def get_psd_values(signal, T, N, f_s):\n",
    "    f_values, psd_values = welch(signal, fs=f_s)\n",
    "    return f_values, psd_values\n",
    "\n",
    "def acf(x):\n",
    "    result = np.correlate(x, x, mode='full')\n",
    "    return result[len(result)//2:]\n",
    "\n",
    "def get_acf_values(signal, T, N, f_s):\n",
    "    acf_values = acf(signal)\n",
    "    x_values = np.array([T * jj for jj in range(0, N)])\n",
    "    return x_values, acf_values\n",
    "    \n",
    "def get_first_n_peaks(x, y, n_peaks): \n",
    "    x_, y_ = list(x), list(y)\n",
    "    if len(x_) >= n_peaks:\n",
    "        return x_[:n_peaks], y_[:n_peaks]\n",
    "    else:\n",
    "        missing_n_peaks = n_peaks-len(x_)\n",
    "        return x_ + [0]*missing_n_peaks, y_ + [0]*missing_n_peaks \n",
    "    \n",
    "def get_features_peaks(x_values, y_values, mph, n_peaks):\n",
    "    indices_peaks = detect_peaks(y_values, mph=mph)\n",
    "    peaks_x, peaks_y = get_first_n_peaks(x_values[indices_peaks], y_values[indices_peaks], n_peaks)\n",
    "    return peaks_x + peaks_y\n",
    "\n",
    "def extract_features_signal(signal, percentile, denominator, n_peaks):\n",
    "    t_n = 1\n",
    "    N = len(signal)\n",
    "    T = t_n / N\n",
    "    f_s = 1/T \n",
    "    \n",
    "    cwt_waveletname = 'morl' \n",
    "    dwt_waveletname = 'db4' \n",
    "    denominator = 10 \n",
    "    percentile = 5 \n",
    "    n_peaks = 3\n",
    "        \n",
    "    features = []\n",
    "    signal_min = np.nanpercentile(signal, percentile)\n",
    "    signal_max = np.nanpercentile(signal, 100-percentile)\n",
    "    mph = signal_min + (signal_max - signal_min)/denominator\n",
    "\n",
    "    features += get_features_peaks(*get_fft_values(signal, T, N, f_s), mph, n_peaks)\n",
    "    features += get_features_peaks(*get_psd_values(signal, T, N, f_s), mph, n_peaks)\n",
    "    features += get_features_peaks(*get_acf_values(signal, T, N, f_s), mph, n_peaks)\n",
    "    return features\n",
    "\n",
    "def calculate_entropy(signal):\n",
    "    counter_values = Counter(signal).most_common()\n",
    "    probabilities = [elem[1]/len(signal) for elem in counter_values]\n",
    "    entropy = scipy.stats.entropy(probabilities)\n",
    "    return entropy\n",
    "\n",
    "def calculate_statistics(signal):\n",
    "    n5 = np.nanpercentile(signal, 5)\n",
    "    n25 = np.nanpercentile(signal, 25)\n",
    "    n75 = np.nanpercentile(signal, 75)\n",
    "    n95 = np.nanpercentile(signal, 95)\n",
    "    min_ = np.nanmin(signal)\n",
    "    max_ = np.nanmax(signal)\n",
    "    median = np.nanpercentile(signal, 50)\n",
    "    mean = np.nanmean(signal)\n",
    "    std = np.nanstd(signal)\n",
    "    var = np.nanvar(signal)\n",
    "    rms = np.nanmean(np.sqrt(signal**2))\n",
    "    return [n5, n25, n75, n95, min_, max_, median, mean, std, var, rms]\n",
    "\n",
    "def calculate_crossings(signal):\n",
    "    zero_crossing_indices = np.nonzero(np.diff(np.array(signal) > 0))[0]\n",
    "    no_zero_crossings = len(zero_crossing_indices)\n",
    "    mean_crossing_indices = np.nonzero(np.diff(np.array(signal) > np.nanmean(signal)))[0]\n",
    "    no_mean_crossings = len(mean_crossing_indices)\n",
    "    return [no_zero_crossings, no_mean_crossings]\n",
    "\n",
    "def get_features_dwt(signal):\n",
    "    entropy = calculate_entropy(signal)\n",
    "    statistics = calculate_statistics(signal)\n",
    "    crossings = calculate_crossings(signal)\n",
    "    return [entropy] + statistics + crossings \n",
    "\n",
    "def get_eeg_features(signal, waveletname):\n",
    "    list_features = []\n",
    "    list_coeff = pywt.wavedec(signal, waveletname)\n",
    "    features = []\n",
    "    for coeff in list_coeff:\n",
    "         features += get_features_dwt(coeff)\n",
    "    list_features += features\n",
    "    return list_features"
   ]
  },
  {
   "cell_type": "code",
   "execution_count": 7,
   "id": "5e509195",
   "metadata": {},
   "outputs": [],
   "source": [
    "#####################################\n",
    "#####################################\n",
    "# Dataset loading\n",
    "\n",
    "def get_dataset(file_igt, file_eeg):\n",
    "    igt = pd.read_csv(file_igt)          # reading IGT data\n",
    "    eeg = mne.io.read_raw_edf(file_eeg)  # reading EEG data\n",
    "    IGTScore = IGT(igt)                  # IGT score file creation\n",
    "    events = EVENTS(igt)                 # trigger-events file creation\n",
    "    EEGdata = EEG(eeg, events)           # EEG and EVENTS synchronization\n",
    "    \n",
    "    return EEGdata"
   ]
  },
  {
   "cell_type": "code",
   "execution_count": 8,
   "id": "5824d5f4",
   "metadata": {},
   "outputs": [
    {
     "name": "stdout",
     "output_type": "stream",
     "text": [
      "Creating RawArray with float64 data, n_channels=64, n_times=1\n",
      "    Range : 0 ... 0 =      0.000 ...     0.000 secs\n",
      "Ready.\n"
     ]
    },
    {
     "data": {
      "image/png": "[encoded data removed]",
      "text/plain": [
       "<Figure size 432x432 with 1 Axes>"
      ]
     },
     "metadata": {
      "needs_background": "light"
     },
     "output_type": "display_data"
    },
    {
     "name": "stdout",
     "output_type": "stream",
     "text": [
      "Creating RawArray with float64 data, n_channels=64, n_times=1\n",
      "    Range : 0 ... 0 =      0.000 ...     0.000 secs\n",
      "Ready.\n"
     ]
    },
    {
     "data": {
      "image/png": "[encoded data removed]",
      "text/plain": [
       "<Figure size 432x432 with 1 Axes>"
      ]
     },
     "metadata": {
      "needs_background": "light"
     },
     "output_type": "display_data"
    }
   ],
   "source": [
    "biosemi_montage = mne.channels.make_standard_montage('biosemi64')\n",
    "biosemi_montage.plot(sphere=(0, 0, 0.035, 0.094))\n",
    "\n",
    "fig = biosemi_montage.plot(kind='3d', scale_factor=2, show=True)\n",
    "fig.gca().view_init(azim=70, elev=10)  # set view angle"
   ]
  },
  {
   "cell_type": "code",
   "execution_count": 9,
   "id": "be6c15a3",
   "metadata": {},
   "outputs": [],
   "source": [
    "def get_signal_features(data_dir = './', cwt_waveletname = 'morl', dwt_waveletname = 'db4', \n",
    "                     denominator = 10, percentile = 5, n_peaks = 3):\n",
    "    files_list = os.listdir(data_dir)\n",
    "    files_igt =   [i for i in files_list if i.split('.')[-1] == 'mrk']\n",
    "    files_eeg =   [i for i in files_list if i.split('.')[-1] == 'edf']\n",
    "    files_index = [i for i in files_list if 'Index' in i]\n",
    "    y_index = pd.read_csv(files_index[0], header = None)\n",
    "\n",
    "    peaks_features_ERN =  []\n",
    "    peaks_features_P200 = []\n",
    "    peaks_features_FRN =  []\n",
    "    peaks_features_P300 = []\n",
    "    peaks_features_N500 = []\n",
    "\n",
    "    dwt_features_ERN =  []\n",
    "    dwt_features_P200 = []\n",
    "    dwt_features_FRN =  []\n",
    "    dwt_features_P300 = []\n",
    "    dwt_features_N500 = []\n",
    "\n",
    "    cwt_features_ERN =  []\n",
    "    cwt_features_P200 = []\n",
    "    cwt_features_FRN =  []\n",
    "    cwt_features_P300 = []\n",
    "    cwt_features_N500 = []\n",
    "\n",
    "    y = []\n",
    "    \n",
    "    for file_eeg in files_eeg:\n",
    "        df = get_dataset(files_igt[files_igt.index(file_eeg+'.mrk')], file_eeg)\n",
    "        print('Files Loading: ', files_igt[files_igt.index(file_eeg+'.mrk')], file_eeg)\n",
    "        print('Events number in record: ', len(df.columns))\n",
    "        print('Columns Name: ', df.columns)\n",
    "        \n",
    "        for i in range(0, len(df.columns)): # Event range\n",
    "            # ERP intervals:\n",
    "            signal_ERN  = df[i].values[280:381]\n",
    "            signal_P200 = df[i].values[380:481]\n",
    "            signal_FRN  = df[i].values[480:561]\n",
    "            signal_P300 = df[i].values[560:781]\n",
    "            signal_N500 = df[i].values[780:801]\n",
    "\n",
    "            # Extracting features as peaks from FFT, PSD, and ACF\n",
    "            peaks_features_ERN.append (extract_features_signal(signal_ERN,  percentile, denominator, n_peaks))\n",
    "            peaks_features_P200.append(extract_features_signal(signal_P200, percentile, denominator, n_peaks))\n",
    "            peaks_features_FRN.append (extract_features_signal(signal_FRN,  percentile, denominator, n_peaks))\n",
    "            peaks_features_P300.append(extract_features_signal(signal_P300, percentile, denominator, n_peaks))\n",
    "            peaks_features_N500.append(extract_features_signal(signal_N500, percentile, denominator, n_peaks))\n",
    "\n",
    "            # Extracting features as the result of application DWT to the signal sub-bands\n",
    "            dwt_features_ERN.append (get_eeg_features(signal_ERN,  dwt_waveletname))\n",
    "            dwt_features_P200.append(get_eeg_features(signal_P200, dwt_waveletname))\n",
    "            dwt_features_FRN.append (get_eeg_features(signal_FRN,  dwt_waveletname))\n",
    "            dwt_features_P300.append(get_eeg_features(signal_P300, dwt_waveletname))\n",
    "            dwt_features_N500.append(get_eeg_features(signal_N500, dwt_waveletname))\n",
    "\n",
    "            # Extracting features as the result of application CWT to the signal\n",
    "            scales = np.arange(0.1, 128)\n",
    "            cwt_features_ERN.append (pywt.cwt(signal_ERN,  scales, cwt_waveletname, 1)[0])\n",
    "            cwt_features_P200.append(pywt.cwt(signal_P200, scales, cwt_waveletname, 1)[0])\n",
    "            cwt_features_FRN.append (pywt.cwt(signal_FRN,  scales, cwt_waveletname, 1)[0])\n",
    "            cwt_features_P300.append(pywt.cwt(signal_P300, scales, cwt_waveletname, 1)[0])\n",
    "            cwt_features_N500.append(pywt.cwt(signal_N500, scales, cwt_waveletname, 1)[0])\n",
    "\n",
    "            # Label adding to each event\n",
    "            y.append(int(y_index[0][int(file_eeg.split('.')[0][1:])]))\n",
    "\n",
    "    return peaks_features_ERN, peaks_features_P200, peaks_features_FRN, peaks_features_P300, peaks_features_N500, \\\n",
    "             dwt_features_ERN,   dwt_features_P200,   dwt_features_FRN,   dwt_features_P300,   dwt_features_N500, \\\n",
    "             cwt_features_ERN,   cwt_features_P200,   cwt_features_FRN,   cwt_features_P300,   cwt_features_N500, \\\n",
    "             y"
   ]
  },
  {
   "cell_type": "code",
   "execution_count": 10,
   "id": "b2885d7c",
   "metadata": {
    "scrolled": true
   },
   "outputs": [
    {
     "name": "stdout",
     "output_type": "stream",
     "text": [
      "Extracting EDF parameters from C:\\Users\\dkornev\\Desktop\\Work Folder\\My Folders\\Harrisburg University\\ISEM 780-52-A-2021 Fall - Doctoral Research Seminar\\Experiment\\S01.edf...\n",
      "EDF file detected\n",
      "Setting channel info structure...\n",
      "Creating raw.info structure...\n"
     ]
    },
    {
     "name": "stderr",
     "output_type": "stream",
     "text": [
      "<ipython-input-4-000d69b9f050>:49: SettingWithCopyWarning: \n",
      "A value is trying to be set on a copy of a slice from a DataFrame.\n",
      "Try using .loc[row_indexer,col_indexer] = value instead\n",
      "\n",
      "See the caveats in the documentation: https://pandas.pydata.org/pandas-docs/stable/user_guide/indexing.html#returning-a-view-versus-a-copy\n",
      "  Tmin['index'] = pd.DataFrame(np.arange(1001, 2001))\n"
     ]
    },
    {
     "name": "stdout",
     "output_type": "stream",
     "text": [
      "Reading 0 ... 1843999  =      0.000 ...  1843.999 secs...\n",
      "Setting up band-stop filter from 49 - 51 Hz\n",
      "\n",
      "FIR filter parameters\n",
      "---------------------\n",
      "Designing a one-pass, zero-phase, non-causal bandstop filter:\n",
      "- Windowed time-domain design (firwin) method\n",
      "- Hamming window with 0.0194 passband ripple and 53 dB stopband attenuation\n",
      "- Lower passband edge: 49.38\n",
      "- Lower transition bandwidth: 0.50 Hz (-6 dB cutoff frequency: 49.12 Hz)\n",
      "- Upper passband edge: 50.62 Hz\n",
      "- Upper transition bandwidth: 0.50 Hz (-6 dB cutoff frequency: 50.88 Hz)\n",
      "- Filter length: 6601 samples (6.601 sec)\n",
      "\n",
      "Filtering raw data in 1 contiguous segment\n",
      "Setting up band-pass filter from 1 - 43 Hz\n",
      "\n",
      "FIR filter parameters\n",
      "---------------------\n",
      "Designing a one-pass, zero-phase, non-causal bandpass filter:\n",
      "- Windowed time-domain design (firwin) method\n",
      "- Hamming window with 0.0194 passband ripple and 53 dB stopband attenuation\n",
      "- Lower passband edge: 1.00\n",
      "- Lower transition bandwidth: 1.00 Hz (-6 dB cutoff frequency: 0.50 Hz)\n",
      "- Upper passband edge: 43.00 Hz\n",
      "- Upper transition bandwidth: 10.75 Hz (-6 dB cutoff frequency: 48.38 Hz)\n",
      "- Filter length: 3301 samples (3.301 sec)\n",
      "\n",
      "Files Loading:  S01.edf.mrk S01.edf\n",
      "Events number in record:  200\n",
      "Columns Name:  RangeIndex(start=0, stop=200, step=1)\n"
     ]
    },
    {
     "name": "stderr",
     "output_type": "stream",
     "text": [
      "C:\\Users\\dkornev\\Anaconda3\\lib\\site-packages\\scipy\\signal\\spectral.py:1961: UserWarning: nperseg = 256 is greater than input length  = 101, using nperseg = 101\n",
      "  warnings.warn('nperseg = {0:d} is greater than input length '\n",
      "C:\\Users\\dkornev\\Anaconda3\\lib\\site-packages\\scipy\\signal\\spectral.py:1961: UserWarning: nperseg = 256 is greater than input length  = 81, using nperseg = 81\n",
      "  warnings.warn('nperseg = {0:d} is greater than input length '\n",
      "C:\\Users\\dkornev\\Anaconda3\\lib\\site-packages\\scipy\\signal\\spectral.py:1961: UserWarning: nperseg = 256 is greater than input length  = 221, using nperseg = 221\n",
      "  warnings.warn('nperseg = {0:d} is greater than input length '\n",
      "C:\\Users\\dkornev\\Anaconda3\\lib\\site-packages\\scipy\\signal\\spectral.py:1961: UserWarning: nperseg = 256 is greater than input length  = 21, using nperseg = 21\n",
      "  warnings.warn('nperseg = {0:d} is greater than input length '\n"
     ]
    },
    {
     "name": "stdout",
     "output_type": "stream",
     "text": [
      "Extracting EDF parameters from C:\\Users\\dkornev\\Desktop\\Work Folder\\My Folders\\Harrisburg University\\ISEM 780-52-A-2021 Fall - Doctoral Research Seminar\\Experiment\\S02.edf...\n",
      "EDF file detected\n",
      "Setting channel info structure...\n",
      "Creating raw.info structure...\n"
     ]
    },
    {
     "name": "stderr",
     "output_type": "stream",
     "text": [
      "<ipython-input-4-000d69b9f050>:49: SettingWithCopyWarning: \n",
      "A value is trying to be set on a copy of a slice from a DataFrame.\n",
      "Try using .loc[row_indexer,col_indexer] = value instead\n",
      "\n",
      "See the caveats in the documentation: https://pandas.pydata.org/pandas-docs/stable/user_guide/indexing.html#returning-a-view-versus-a-copy\n",
      "  Tmin['index'] = pd.DataFrame(np.arange(1001, 2001))\n"
     ]
    },
    {
     "name": "stdout",
     "output_type": "stream",
     "text": [
      "Reading 0 ... 2357999  =      0.000 ...  2357.999 secs...\n",
      "Setting up band-stop filter from 49 - 51 Hz\n",
      "\n",
      "FIR filter parameters\n",
      "---------------------\n",
      "Designing a one-pass, zero-phase, non-causal bandstop filter:\n",
      "- Windowed time-domain design (firwin) method\n",
      "- Hamming window with 0.0194 passband ripple and 53 dB stopband attenuation\n",
      "- Lower passband edge: 49.38\n",
      "- Lower transition bandwidth: 0.50 Hz (-6 dB cutoff frequency: 49.12 Hz)\n",
      "- Upper passband edge: 50.62 Hz\n",
      "- Upper transition bandwidth: 0.50 Hz (-6 dB cutoff frequency: 50.88 Hz)\n",
      "- Filter length: 6601 samples (6.601 sec)\n",
      "\n",
      "Filtering raw data in 1 contiguous segment\n",
      "Setting up band-pass filter from 1 - 43 Hz\n",
      "\n",
      "FIR filter parameters\n",
      "---------------------\n",
      "Designing a one-pass, zero-phase, non-causal bandpass filter:\n",
      "- Windowed time-domain design (firwin) method\n",
      "- Hamming window with 0.0194 passband ripple and 53 dB stopband attenuation\n",
      "- Lower passband edge: 1.00\n",
      "- Lower transition bandwidth: 1.00 Hz (-6 dB cutoff frequency: 0.50 Hz)\n",
      "- Upper passband edge: 43.00 Hz\n",
      "- Upper transition bandwidth: 10.75 Hz (-6 dB cutoff frequency: 48.38 Hz)\n",
      "- Filter length: 3301 samples (3.301 sec)\n",
      "\n",
      "Files Loading:  S02.edf.mrk S02.edf\n",
      "Events number in record:  176\n",
      "Columns Name:  RangeIndex(start=0, stop=176, step=1)\n"
     ]
    },
    {
     "name": "stderr",
     "output_type": "stream",
     "text": [
      "C:\\Users\\dkornev\\Anaconda3\\lib\\site-packages\\scipy\\signal\\spectral.py:1961: UserWarning: nperseg = 256 is greater than input length  = 101, using nperseg = 101\n",
      "  warnings.warn('nperseg = {0:d} is greater than input length '\n",
      "C:\\Users\\dkornev\\Anaconda3\\lib\\site-packages\\scipy\\signal\\spectral.py:1961: UserWarning: nperseg = 256 is greater than input length  = 81, using nperseg = 81\n",
      "  warnings.warn('nperseg = {0:d} is greater than input length '\n",
      "C:\\Users\\dkornev\\Anaconda3\\lib\\site-packages\\scipy\\signal\\spectral.py:1961: UserWarning: nperseg = 256 is greater than input length  = 221, using nperseg = 221\n",
      "  warnings.warn('nperseg = {0:d} is greater than input length '\n",
      "C:\\Users\\dkornev\\Anaconda3\\lib\\site-packages\\scipy\\signal\\spectral.py:1961: UserWarning: nperseg = 256 is greater than input length  = 21, using nperseg = 21\n",
      "  warnings.warn('nperseg = {0:d} is greater than input length '\n"
     ]
    },
    {
     "name": "stdout",
     "output_type": "stream",
     "text": [
      "Extracting EDF parameters from C:\\Users\\dkornev\\Desktop\\Work Folder\\My Folders\\Harrisburg University\\ISEM 780-52-A-2021 Fall - Doctoral Research Seminar\\Experiment\\S03.edf...\n",
      "EDF file detected\n",
      "Setting channel info structure...\n",
      "Creating raw.info structure...\n"
     ]
    },
    {
     "name": "stderr",
     "output_type": "stream",
     "text": [
      "<ipython-input-4-000d69b9f050>:49: SettingWithCopyWarning: \n",
      "A value is trying to be set on a copy of a slice from a DataFrame.\n",
      "Try using .loc[row_indexer,col_indexer] = value instead\n",
      "\n",
      "See the caveats in the documentation: https://pandas.pydata.org/pandas-docs/stable/user_guide/indexing.html#returning-a-view-versus-a-copy\n",
      "  Tmin['index'] = pd.DataFrame(np.arange(1001, 2001))\n"
     ]
    },
    {
     "name": "stdout",
     "output_type": "stream",
     "text": [
      "Reading 0 ... 1855999  =      0.000 ...  1855.999 secs...\n",
      "Setting up band-stop filter from 49 - 51 Hz\n",
      "\n",
      "FIR filter parameters\n",
      "---------------------\n",
      "Designing a one-pass, zero-phase, non-causal bandstop filter:\n",
      "- Windowed time-domain design (firwin) method\n",
      "- Hamming window with 0.0194 passband ripple and 53 dB stopband attenuation\n",
      "- Lower passband edge: 49.38\n",
      "- Lower transition bandwidth: 0.50 Hz (-6 dB cutoff frequency: 49.12 Hz)\n",
      "- Upper passband edge: 50.62 Hz\n",
      "- Upper transition bandwidth: 0.50 Hz (-6 dB cutoff frequency: 50.88 Hz)\n",
      "- Filter length: 6601 samples (6.601 sec)\n",
      "\n",
      "Filtering raw data in 1 contiguous segment\n",
      "Setting up band-pass filter from 1 - 43 Hz\n",
      "\n",
      "FIR filter parameters\n",
      "---------------------\n",
      "Designing a one-pass, zero-phase, non-causal bandpass filter:\n",
      "- Windowed time-domain design (firwin) method\n",
      "- Hamming window with 0.0194 passband ripple and 53 dB stopband attenuation\n",
      "- Lower passband edge: 1.00\n",
      "- Lower transition bandwidth: 1.00 Hz (-6 dB cutoff frequency: 0.50 Hz)\n",
      "- Upper passband edge: 43.00 Hz\n",
      "- Upper transition bandwidth: 10.75 Hz (-6 dB cutoff frequency: 48.38 Hz)\n",
      "- Filter length: 3301 samples (3.301 sec)\n",
      "\n",
      "Files Loading:  S03.edf.mrk S03.edf\n",
      "Events number in record:  200\n",
      "Columns Name:  RangeIndex(start=0, stop=200, step=1)\n"
     ]
    },
    {
     "name": "stderr",
     "output_type": "stream",
     "text": [
      "C:\\Users\\dkornev\\Anaconda3\\lib\\site-packages\\scipy\\signal\\spectral.py:1961: UserWarning: nperseg = 256 is greater than input length  = 101, using nperseg = 101\n",
      "  warnings.warn('nperseg = {0:d} is greater than input length '\n",
      "C:\\Users\\dkornev\\Anaconda3\\lib\\site-packages\\scipy\\signal\\spectral.py:1961: UserWarning: nperseg = 256 is greater than input length  = 81, using nperseg = 81\n",
      "  warnings.warn('nperseg = {0:d} is greater than input length '\n",
      "C:\\Users\\dkornev\\Anaconda3\\lib\\site-packages\\scipy\\signal\\spectral.py:1961: UserWarning: nperseg = 256 is greater than input length  = 221, using nperseg = 221\n",
      "  warnings.warn('nperseg = {0:d} is greater than input length '\n",
      "C:\\Users\\dkornev\\Anaconda3\\lib\\site-packages\\scipy\\signal\\spectral.py:1961: UserWarning: nperseg = 256 is greater than input length  = 21, using nperseg = 21\n",
      "  warnings.warn('nperseg = {0:d} is greater than input length '\n"
     ]
    },
    {
     "name": "stdout",
     "output_type": "stream",
     "text": [
      "Extracting EDF parameters from C:\\Users\\dkornev\\Desktop\\Work Folder\\My Folders\\Harrisburg University\\ISEM 780-52-A-2021 Fall - Doctoral Research Seminar\\Experiment\\S04.edf...\n",
      "EDF file detected\n",
      "Setting channel info structure...\n",
      "Creating raw.info structure...\n"
     ]
    },
    {
     "name": "stderr",
     "output_type": "stream",
     "text": [
      "<ipython-input-4-000d69b9f050>:49: SettingWithCopyWarning: \n",
      "A value is trying to be set on a copy of a slice from a DataFrame.\n",
      "Try using .loc[row_indexer,col_indexer] = value instead\n",
      "\n",
      "See the caveats in the documentation: https://pandas.pydata.org/pandas-docs/stable/user_guide/indexing.html#returning-a-view-versus-a-copy\n",
      "  Tmin['index'] = pd.DataFrame(np.arange(1001, 2001))\n"
     ]
    },
    {
     "name": "stdout",
     "output_type": "stream",
     "text": [
      "Reading 0 ... 1829999  =      0.000 ...  1829.999 secs...\n",
      "Setting up band-stop filter from 49 - 51 Hz\n",
      "\n",
      "FIR filter parameters\n",
      "---------------------\n",
      "Designing a one-pass, zero-phase, non-causal bandstop filter:\n",
      "- Windowed time-domain design (firwin) method\n",
      "- Hamming window with 0.0194 passband ripple and 53 dB stopband attenuation\n",
      "- Lower passband edge: 49.38\n",
      "- Lower transition bandwidth: 0.50 Hz (-6 dB cutoff frequency: 49.12 Hz)\n",
      "- Upper passband edge: 50.62 Hz\n",
      "- Upper transition bandwidth: 0.50 Hz (-6 dB cutoff frequency: 50.88 Hz)\n",
      "- Filter length: 6601 samples (6.601 sec)\n",
      "\n",
      "Filtering raw data in 1 contiguous segment\n",
      "Setting up band-pass filter from 1 - 43 Hz\n",
      "\n",
      "FIR filter parameters\n",
      "---------------------\n",
      "Designing a one-pass, zero-phase, non-causal bandpass filter:\n",
      "- Windowed time-domain design (firwin) method\n",
      "- Hamming window with 0.0194 passband ripple and 53 dB stopband attenuation\n",
      "- Lower passband edge: 1.00\n",
      "- Lower transition bandwidth: 1.00 Hz (-6 dB cutoff frequency: 0.50 Hz)\n",
      "- Upper passband edge: 43.00 Hz\n",
      "- Upper transition bandwidth: 10.75 Hz (-6 dB cutoff frequency: 48.38 Hz)\n",
      "- Filter length: 3301 samples (3.301 sec)\n",
      "\n",
      "Files Loading:  S04.edf.mrk S04.edf\n",
      "Events number in record:  179\n",
      "Columns Name:  RangeIndex(start=0, stop=179, step=1)\n"
     ]
    },
    {
     "name": "stderr",
     "output_type": "stream",
     "text": [
      "C:\\Users\\dkornev\\Anaconda3\\lib\\site-packages\\scipy\\signal\\spectral.py:1961: UserWarning: nperseg = 256 is greater than input length  = 101, using nperseg = 101\n",
      "  warnings.warn('nperseg = {0:d} is greater than input length '\n",
      "C:\\Users\\dkornev\\Anaconda3\\lib\\site-packages\\scipy\\signal\\spectral.py:1961: UserWarning: nperseg = 256 is greater than input length  = 81, using nperseg = 81\n",
      "  warnings.warn('nperseg = {0:d} is greater than input length '\n",
      "C:\\Users\\dkornev\\Anaconda3\\lib\\site-packages\\scipy\\signal\\spectral.py:1961: UserWarning: nperseg = 256 is greater than input length  = 221, using nperseg = 221\n",
      "  warnings.warn('nperseg = {0:d} is greater than input length '\n",
      "C:\\Users\\dkornev\\Anaconda3\\lib\\site-packages\\scipy\\signal\\spectral.py:1961: UserWarning: nperseg = 256 is greater than input length  = 21, using nperseg = 21\n",
      "  warnings.warn('nperseg = {0:d} is greater than input length '\n"
     ]
    },
    {
     "name": "stdout",
     "output_type": "stream",
     "text": [
      "Extracting EDF parameters from C:\\Users\\dkornev\\Desktop\\Work Folder\\My Folders\\Harrisburg University\\ISEM 780-52-A-2021 Fall - Doctoral Research Seminar\\Experiment\\S05.edf...\n",
      "EDF file detected\n",
      "Setting channel info structure...\n",
      "Creating raw.info structure...\n"
     ]
    },
    {
     "name": "stderr",
     "output_type": "stream",
     "text": [
      "<ipython-input-4-000d69b9f050>:49: SettingWithCopyWarning: \n",
      "A value is trying to be set on a copy of a slice from a DataFrame.\n",
      "Try using .loc[row_indexer,col_indexer] = value instead\n",
      "\n",
      "See the caveats in the documentation: https://pandas.pydata.org/pandas-docs/stable/user_guide/indexing.html#returning-a-view-versus-a-copy\n",
      "  Tmin['index'] = pd.DataFrame(np.arange(1001, 2001))\n"
     ]
    },
    {
     "name": "stdout",
     "output_type": "stream",
     "text": [
      "Reading 0 ... 1981999  =      0.000 ...  1981.999 secs...\n",
      "Setting up band-stop filter from 49 - 51 Hz\n",
      "\n",
      "FIR filter parameters\n",
      "---------------------\n",
      "Designing a one-pass, zero-phase, non-causal bandstop filter:\n",
      "- Windowed time-domain design (firwin) method\n",
      "- Hamming window with 0.0194 passband ripple and 53 dB stopband attenuation\n",
      "- Lower passband edge: 49.38\n",
      "- Lower transition bandwidth: 0.50 Hz (-6 dB cutoff frequency: 49.12 Hz)\n",
      "- Upper passband edge: 50.62 Hz\n",
      "- Upper transition bandwidth: 0.50 Hz (-6 dB cutoff frequency: 50.88 Hz)\n",
      "- Filter length: 6601 samples (6.601 sec)\n",
      "\n",
      "Filtering raw data in 1 contiguous segment\n",
      "Setting up band-pass filter from 1 - 43 Hz\n",
      "\n",
      "FIR filter parameters\n",
      "---------------------\n",
      "Designing a one-pass, zero-phase, non-causal bandpass filter:\n",
      "- Windowed time-domain design (firwin) method\n",
      "- Hamming window with 0.0194 passband ripple and 53 dB stopband attenuation\n",
      "- Lower passband edge: 1.00\n",
      "- Lower transition bandwidth: 1.00 Hz (-6 dB cutoff frequency: 0.50 Hz)\n",
      "- Upper passband edge: 43.00 Hz\n",
      "- Upper transition bandwidth: 10.75 Hz (-6 dB cutoff frequency: 48.38 Hz)\n",
      "- Filter length: 3301 samples (3.301 sec)\n",
      "\n",
      "Files Loading:  S05.edf.mrk S05.edf\n",
      "Events number in record:  200\n",
      "Columns Name:  RangeIndex(start=0, stop=200, step=1)\n"
     ]
    },
    {
     "name": "stderr",
     "output_type": "stream",
     "text": [
      "C:\\Users\\dkornev\\Anaconda3\\lib\\site-packages\\scipy\\signal\\spectral.py:1961: UserWarning: nperseg = 256 is greater than input length  = 101, using nperseg = 101\n",
      "  warnings.warn('nperseg = {0:d} is greater than input length '\n",
      "C:\\Users\\dkornev\\Anaconda3\\lib\\site-packages\\scipy\\signal\\spectral.py:1961: UserWarning: nperseg = 256 is greater than input length  = 81, using nperseg = 81\n",
      "  warnings.warn('nperseg = {0:d} is greater than input length '\n",
      "C:\\Users\\dkornev\\Anaconda3\\lib\\site-packages\\scipy\\signal\\spectral.py:1961: UserWarning: nperseg = 256 is greater than input length  = 221, using nperseg = 221\n",
      "  warnings.warn('nperseg = {0:d} is greater than input length '\n",
      "C:\\Users\\dkornev\\Anaconda3\\lib\\site-packages\\scipy\\signal\\spectral.py:1961: UserWarning: nperseg = 256 is greater than input length  = 21, using nperseg = 21\n",
      "  warnings.warn('nperseg = {0:d} is greater than input length '\n"
     ]
    },
    {
     "name": "stdout",
     "output_type": "stream",
     "text": [
      "Extracting EDF parameters from C:\\Users\\dkornev\\Desktop\\Work Folder\\My Folders\\Harrisburg University\\ISEM 780-52-A-2021 Fall - Doctoral Research Seminar\\Experiment\\S06.edf...\n",
      "EDF file detected\n",
      "Setting channel info structure...\n",
      "Creating raw.info structure...\n"
     ]
    },
    {
     "name": "stderr",
     "output_type": "stream",
     "text": [
      "<ipython-input-4-000d69b9f050>:49: SettingWithCopyWarning: \n",
      "A value is trying to be set on a copy of a slice from a DataFrame.\n",
      "Try using .loc[row_indexer,col_indexer] = value instead\n",
      "\n",
      "See the caveats in the documentation: https://pandas.pydata.org/pandas-docs/stable/user_guide/indexing.html#returning-a-view-versus-a-copy\n",
      "  Tmin['index'] = pd.DataFrame(np.arange(1001, 2001))\n"
     ]
    },
    {
     "name": "stdout",
     "output_type": "stream",
     "text": [
      "Reading 0 ... 2379999  =      0.000 ...  2379.999 secs...\n",
      "Setting up band-stop filter from 49 - 51 Hz\n",
      "\n",
      "FIR filter parameters\n",
      "---------------------\n",
      "Designing a one-pass, zero-phase, non-causal bandstop filter:\n",
      "- Windowed time-domain design (firwin) method\n",
      "- Hamming window with 0.0194 passband ripple and 53 dB stopband attenuation\n",
      "- Lower passband edge: 49.38\n",
      "- Lower transition bandwidth: 0.50 Hz (-6 dB cutoff frequency: 49.12 Hz)\n",
      "- Upper passband edge: 50.62 Hz\n",
      "- Upper transition bandwidth: 0.50 Hz (-6 dB cutoff frequency: 50.88 Hz)\n",
      "- Filter length: 6601 samples (6.601 sec)\n",
      "\n",
      "Filtering raw data in 1 contiguous segment\n",
      "Setting up band-pass filter from 1 - 43 Hz\n",
      "\n",
      "FIR filter parameters\n",
      "---------------------\n",
      "Designing a one-pass, zero-phase, non-causal bandpass filter:\n",
      "- Windowed time-domain design (firwin) method\n",
      "- Hamming window with 0.0194 passband ripple and 53 dB stopband attenuation\n",
      "- Lower passband edge: 1.00\n",
      "- Lower transition bandwidth: 1.00 Hz (-6 dB cutoff frequency: 0.50 Hz)\n",
      "- Upper passband edge: 43.00 Hz\n",
      "- Upper transition bandwidth: 10.75 Hz (-6 dB cutoff frequency: 48.38 Hz)\n",
      "- Filter length: 3301 samples (3.301 sec)\n",
      "\n",
      "Files Loading:  S06.edf.mrk S06.edf\n",
      "Events number in record:  179\n",
      "Columns Name:  RangeIndex(start=0, stop=179, step=1)\n"
     ]
    },
    {
     "name": "stderr",
     "output_type": "stream",
     "text": [
      "C:\\Users\\dkornev\\Anaconda3\\lib\\site-packages\\scipy\\signal\\spectral.py:1961: UserWarning: nperseg = 256 is greater than input length  = 101, using nperseg = 101\n",
      "  warnings.warn('nperseg = {0:d} is greater than input length '\n",
      "C:\\Users\\dkornev\\Anaconda3\\lib\\site-packages\\scipy\\signal\\spectral.py:1961: UserWarning: nperseg = 256 is greater than input length  = 81, using nperseg = 81\n",
      "  warnings.warn('nperseg = {0:d} is greater than input length '\n",
      "C:\\Users\\dkornev\\Anaconda3\\lib\\site-packages\\scipy\\signal\\spectral.py:1961: UserWarning: nperseg = 256 is greater than input length  = 221, using nperseg = 221\n",
      "  warnings.warn('nperseg = {0:d} is greater than input length '\n",
      "C:\\Users\\dkornev\\Anaconda3\\lib\\site-packages\\scipy\\signal\\spectral.py:1961: UserWarning: nperseg = 256 is greater than input length  = 21, using nperseg = 21\n",
      "  warnings.warn('nperseg = {0:d} is greater than input length '\n"
     ]
    },
    {
     "name": "stdout",
     "output_type": "stream",
     "text": [
      "Extracting EDF parameters from C:\\Users\\dkornev\\Desktop\\Work Folder\\My Folders\\Harrisburg University\\ISEM 780-52-A-2021 Fall - Doctoral Research Seminar\\Experiment\\S07.edf...\n",
      "EDF file detected\n",
      "Setting channel info structure...\n",
      "Creating raw.info structure...\n"
     ]
    },
    {
     "name": "stderr",
     "output_type": "stream",
     "text": [
      "<ipython-input-4-000d69b9f050>:49: SettingWithCopyWarning: \n",
      "A value is trying to be set on a copy of a slice from a DataFrame.\n",
      "Try using .loc[row_indexer,col_indexer] = value instead\n",
      "\n",
      "See the caveats in the documentation: https://pandas.pydata.org/pandas-docs/stable/user_guide/indexing.html#returning-a-view-versus-a-copy\n",
      "  Tmin['index'] = pd.DataFrame(np.arange(1001, 2001))\n"
     ]
    },
    {
     "name": "stdout",
     "output_type": "stream",
     "text": [
      "Reading 0 ... 1994999  =      0.000 ...  1994.999 secs...\n",
      "Setting up band-stop filter from 49 - 51 Hz\n",
      "\n",
      "FIR filter parameters\n",
      "---------------------\n",
      "Designing a one-pass, zero-phase, non-causal bandstop filter:\n",
      "- Windowed time-domain design (firwin) method\n",
      "- Hamming window with 0.0194 passband ripple and 53 dB stopband attenuation\n",
      "- Lower passband edge: 49.38\n",
      "- Lower transition bandwidth: 0.50 Hz (-6 dB cutoff frequency: 49.12 Hz)\n",
      "- Upper passband edge: 50.62 Hz\n",
      "- Upper transition bandwidth: 0.50 Hz (-6 dB cutoff frequency: 50.88 Hz)\n",
      "- Filter length: 6601 samples (6.601 sec)\n",
      "\n",
      "Filtering raw data in 1 contiguous segment\n",
      "Setting up band-pass filter from 1 - 43 Hz\n",
      "\n",
      "FIR filter parameters\n",
      "---------------------\n",
      "Designing a one-pass, zero-phase, non-causal bandpass filter:\n",
      "- Windowed time-domain design (firwin) method\n",
      "- Hamming window with 0.0194 passband ripple and 53 dB stopband attenuation\n",
      "- Lower passband edge: 1.00\n",
      "- Lower transition bandwidth: 1.00 Hz (-6 dB cutoff frequency: 0.50 Hz)\n",
      "- Upper passband edge: 43.00 Hz\n",
      "- Upper transition bandwidth: 10.75 Hz (-6 dB cutoff frequency: 48.38 Hz)\n",
      "- Filter length: 3301 samples (3.301 sec)\n",
      "\n",
      "Files Loading:  S07.edf.mrk S07.edf\n",
      "Events number in record:  199\n",
      "Columns Name:  RangeIndex(start=0, stop=199, step=1)\n"
     ]
    },
    {
     "name": "stderr",
     "output_type": "stream",
     "text": [
      "C:\\Users\\dkornev\\Anaconda3\\lib\\site-packages\\scipy\\signal\\spectral.py:1961: UserWarning: nperseg = 256 is greater than input length  = 101, using nperseg = 101\n",
      "  warnings.warn('nperseg = {0:d} is greater than input length '\n",
      "C:\\Users\\dkornev\\Anaconda3\\lib\\site-packages\\scipy\\signal\\spectral.py:1961: UserWarning: nperseg = 256 is greater than input length  = 81, using nperseg = 81\n",
      "  warnings.warn('nperseg = {0:d} is greater than input length '\n",
      "C:\\Users\\dkornev\\Anaconda3\\lib\\site-packages\\scipy\\signal\\spectral.py:1961: UserWarning: nperseg = 256 is greater than input length  = 221, using nperseg = 221\n",
      "  warnings.warn('nperseg = {0:d} is greater than input length '\n",
      "C:\\Users\\dkornev\\Anaconda3\\lib\\site-packages\\scipy\\signal\\spectral.py:1961: UserWarning: nperseg = 256 is greater than input length  = 21, using nperseg = 21\n",
      "  warnings.warn('nperseg = {0:d} is greater than input length '\n"
     ]
    },
    {
     "name": "stdout",
     "output_type": "stream",
     "text": [
      "Extracting EDF parameters from C:\\Users\\dkornev\\Desktop\\Work Folder\\My Folders\\Harrisburg University\\ISEM 780-52-A-2021 Fall - Doctoral Research Seminar\\Experiment\\S08.edf...\n",
      "EDF file detected\n",
      "Setting channel info structure...\n",
      "Creating raw.info structure...\n"
     ]
    },
    {
     "name": "stderr",
     "output_type": "stream",
     "text": [
      "<ipython-input-4-000d69b9f050>:49: SettingWithCopyWarning: \n",
      "A value is trying to be set on a copy of a slice from a DataFrame.\n",
      "Try using .loc[row_indexer,col_indexer] = value instead\n",
      "\n",
      "See the caveats in the documentation: https://pandas.pydata.org/pandas-docs/stable/user_guide/indexing.html#returning-a-view-versus-a-copy\n",
      "  Tmin['index'] = pd.DataFrame(np.arange(1001, 2001))\n"
     ]
    },
    {
     "name": "stdout",
     "output_type": "stream",
     "text": [
      "Reading 0 ... 2145999  =      0.000 ...  2145.999 secs...\n",
      "Setting up band-stop filter from 49 - 51 Hz\n",
      "\n",
      "FIR filter parameters\n",
      "---------------------\n",
      "Designing a one-pass, zero-phase, non-causal bandstop filter:\n",
      "- Windowed time-domain design (firwin) method\n",
      "- Hamming window with 0.0194 passband ripple and 53 dB stopband attenuation\n",
      "- Lower passband edge: 49.38\n",
      "- Lower transition bandwidth: 0.50 Hz (-6 dB cutoff frequency: 49.12 Hz)\n",
      "- Upper passband edge: 50.62 Hz\n",
      "- Upper transition bandwidth: 0.50 Hz (-6 dB cutoff frequency: 50.88 Hz)\n",
      "- Filter length: 6601 samples (6.601 sec)\n",
      "\n",
      "Filtering raw data in 1 contiguous segment\n",
      "Setting up band-pass filter from 1 - 43 Hz\n",
      "\n",
      "FIR filter parameters\n",
      "---------------------\n",
      "Designing a one-pass, zero-phase, non-causal bandpass filter:\n",
      "- Windowed time-domain design (firwin) method\n",
      "- Hamming window with 0.0194 passband ripple and 53 dB stopband attenuation\n",
      "- Lower passband edge: 1.00\n",
      "- Lower transition bandwidth: 1.00 Hz (-6 dB cutoff frequency: 0.50 Hz)\n",
      "- Upper passband edge: 43.00 Hz\n",
      "- Upper transition bandwidth: 10.75 Hz (-6 dB cutoff frequency: 48.38 Hz)\n",
      "- Filter length: 3301 samples (3.301 sec)\n",
      "\n",
      "Files Loading:  S08.edf.mrk S08.edf\n",
      "Events number in record:  194\n",
      "Columns Name:  RangeIndex(start=0, stop=194, step=1)\n"
     ]
    },
    {
     "name": "stderr",
     "output_type": "stream",
     "text": [
      "C:\\Users\\dkornev\\Anaconda3\\lib\\site-packages\\scipy\\signal\\spectral.py:1961: UserWarning: nperseg = 256 is greater than input length  = 101, using nperseg = 101\n",
      "  warnings.warn('nperseg = {0:d} is greater than input length '\n",
      "C:\\Users\\dkornev\\Anaconda3\\lib\\site-packages\\scipy\\signal\\spectral.py:1961: UserWarning: nperseg = 256 is greater than input length  = 81, using nperseg = 81\n",
      "  warnings.warn('nperseg = {0:d} is greater than input length '\n",
      "C:\\Users\\dkornev\\Anaconda3\\lib\\site-packages\\scipy\\signal\\spectral.py:1961: UserWarning: nperseg = 256 is greater than input length  = 221, using nperseg = 221\n",
      "  warnings.warn('nperseg = {0:d} is greater than input length '\n",
      "C:\\Users\\dkornev\\Anaconda3\\lib\\site-packages\\scipy\\signal\\spectral.py:1961: UserWarning: nperseg = 256 is greater than input length  = 21, using nperseg = 21\n",
      "  warnings.warn('nperseg = {0:d} is greater than input length '\n"
     ]
    },
    {
     "name": "stdout",
     "output_type": "stream",
     "text": [
      "Extracting EDF parameters from C:\\Users\\dkornev\\Desktop\\Work Folder\\My Folders\\Harrisburg University\\ISEM 780-52-A-2021 Fall - Doctoral Research Seminar\\Experiment\\S09.edf...\n",
      "EDF file detected\n",
      "Setting channel info structure...\n",
      "Creating raw.info structure...\n"
     ]
    },
    {
     "name": "stderr",
     "output_type": "stream",
     "text": [
      "<ipython-input-4-000d69b9f050>:49: SettingWithCopyWarning: \n",
      "A value is trying to be set on a copy of a slice from a DataFrame.\n",
      "Try using .loc[row_indexer,col_indexer] = value instead\n",
      "\n",
      "See the caveats in the documentation: https://pandas.pydata.org/pandas-docs/stable/user_guide/indexing.html#returning-a-view-versus-a-copy\n",
      "  Tmin['index'] = pd.DataFrame(np.arange(1001, 2001))\n"
     ]
    },
    {
     "name": "stdout",
     "output_type": "stream",
     "text": [
      "Reading 0 ... 1850999  =      0.000 ...  1850.999 secs...\n",
      "Setting up band-stop filter from 49 - 51 Hz\n",
      "\n",
      "FIR filter parameters\n",
      "---------------------\n",
      "Designing a one-pass, zero-phase, non-causal bandstop filter:\n",
      "- Windowed time-domain design (firwin) method\n",
      "- Hamming window with 0.0194 passband ripple and 53 dB stopband attenuation\n",
      "- Lower passband edge: 49.38\n",
      "- Lower transition bandwidth: 0.50 Hz (-6 dB cutoff frequency: 49.12 Hz)\n",
      "- Upper passband edge: 50.62 Hz\n",
      "- Upper transition bandwidth: 0.50 Hz (-6 dB cutoff frequency: 50.88 Hz)\n",
      "- Filter length: 6601 samples (6.601 sec)\n",
      "\n",
      "Filtering raw data in 1 contiguous segment\n",
      "Setting up band-pass filter from 1 - 43 Hz\n",
      "\n",
      "FIR filter parameters\n",
      "---------------------\n",
      "Designing a one-pass, zero-phase, non-causal bandpass filter:\n",
      "- Windowed time-domain design (firwin) method\n",
      "- Hamming window with 0.0194 passband ripple and 53 dB stopband attenuation\n",
      "- Lower passband edge: 1.00\n",
      "- Lower transition bandwidth: 1.00 Hz (-6 dB cutoff frequency: 0.50 Hz)\n",
      "- Upper passband edge: 43.00 Hz\n",
      "- Upper transition bandwidth: 10.75 Hz (-6 dB cutoff frequency: 48.38 Hz)\n",
      "- Filter length: 3301 samples (3.301 sec)\n",
      "\n",
      "Files Loading:  S09.edf.mrk S09.edf\n",
      "Events number in record:  200\n",
      "Columns Name:  RangeIndex(start=0, stop=200, step=1)\n"
     ]
    },
    {
     "name": "stderr",
     "output_type": "stream",
     "text": [
      "C:\\Users\\dkornev\\Anaconda3\\lib\\site-packages\\scipy\\signal\\spectral.py:1961: UserWarning: nperseg = 256 is greater than input length  = 101, using nperseg = 101\n",
      "  warnings.warn('nperseg = {0:d} is greater than input length '\n",
      "C:\\Users\\dkornev\\Anaconda3\\lib\\site-packages\\scipy\\signal\\spectral.py:1961: UserWarning: nperseg = 256 is greater than input length  = 81, using nperseg = 81\n",
      "  warnings.warn('nperseg = {0:d} is greater than input length '\n",
      "C:\\Users\\dkornev\\Anaconda3\\lib\\site-packages\\scipy\\signal\\spectral.py:1961: UserWarning: nperseg = 256 is greater than input length  = 221, using nperseg = 221\n",
      "  warnings.warn('nperseg = {0:d} is greater than input length '\n",
      "C:\\Users\\dkornev\\Anaconda3\\lib\\site-packages\\scipy\\signal\\spectral.py:1961: UserWarning: nperseg = 256 is greater than input length  = 21, using nperseg = 21\n",
      "  warnings.warn('nperseg = {0:d} is greater than input length '\n"
     ]
    },
    {
     "name": "stdout",
     "output_type": "stream",
     "text": [
      "Extracting EDF parameters from C:\\Users\\dkornev\\Desktop\\Work Folder\\My Folders\\Harrisburg University\\ISEM 780-52-A-2021 Fall - Doctoral Research Seminar\\Experiment\\S10.edf...\n",
      "EDF file detected\n",
      "Setting channel info structure...\n",
      "Creating raw.info structure...\n"
     ]
    },
    {
     "name": "stderr",
     "output_type": "stream",
     "text": [
      "<ipython-input-4-000d69b9f050>:49: SettingWithCopyWarning: \n",
      "A value is trying to be set on a copy of a slice from a DataFrame.\n",
      "Try using .loc[row_indexer,col_indexer] = value instead\n",
      "\n",
      "See the caveats in the documentation: https://pandas.pydata.org/pandas-docs/stable/user_guide/indexing.html#returning-a-view-versus-a-copy\n",
      "  Tmin['index'] = pd.DataFrame(np.arange(1001, 2001))\n"
     ]
    },
    {
     "name": "stdout",
     "output_type": "stream",
     "text": [
      "Reading 0 ... 1924999  =      0.000 ...  1924.999 secs...\n",
      "Setting up band-stop filter from 49 - 51 Hz\n",
      "\n",
      "FIR filter parameters\n",
      "---------------------\n",
      "Designing a one-pass, zero-phase, non-causal bandstop filter:\n",
      "- Windowed time-domain design (firwin) method\n",
      "- Hamming window with 0.0194 passband ripple and 53 dB stopband attenuation\n",
      "- Lower passband edge: 49.38\n",
      "- Lower transition bandwidth: 0.50 Hz (-6 dB cutoff frequency: 49.12 Hz)\n",
      "- Upper passband edge: 50.62 Hz\n",
      "- Upper transition bandwidth: 0.50 Hz (-6 dB cutoff frequency: 50.88 Hz)\n",
      "- Filter length: 6601 samples (6.601 sec)\n",
      "\n",
      "Filtering raw data in 1 contiguous segment\n",
      "Setting up band-pass filter from 1 - 43 Hz\n",
      "\n",
      "FIR filter parameters\n",
      "---------------------\n",
      "Designing a one-pass, zero-phase, non-causal bandpass filter:\n",
      "- Windowed time-domain design (firwin) method\n",
      "- Hamming window with 0.0194 passband ripple and 53 dB stopband attenuation\n",
      "- Lower passband edge: 1.00\n",
      "- Lower transition bandwidth: 1.00 Hz (-6 dB cutoff frequency: 0.50 Hz)\n",
      "- Upper passband edge: 43.00 Hz\n",
      "- Upper transition bandwidth: 10.75 Hz (-6 dB cutoff frequency: 48.38 Hz)\n",
      "- Filter length: 3301 samples (3.301 sec)\n",
      "\n",
      "Files Loading:  S10.edf.mrk S10.edf\n",
      "Events number in record:  197\n",
      "Columns Name:  RangeIndex(start=0, stop=197, step=1)\n"
     ]
    },
    {
     "name": "stderr",
     "output_type": "stream",
     "text": [
      "C:\\Users\\dkornev\\Anaconda3\\lib\\site-packages\\scipy\\signal\\spectral.py:1961: UserWarning: nperseg = 256 is greater than input length  = 101, using nperseg = 101\n",
      "  warnings.warn('nperseg = {0:d} is greater than input length '\n",
      "C:\\Users\\dkornev\\Anaconda3\\lib\\site-packages\\scipy\\signal\\spectral.py:1961: UserWarning: nperseg = 256 is greater than input length  = 81, using nperseg = 81\n",
      "  warnings.warn('nperseg = {0:d} is greater than input length '\n",
      "C:\\Users\\dkornev\\Anaconda3\\lib\\site-packages\\scipy\\signal\\spectral.py:1961: UserWarning: nperseg = 256 is greater than input length  = 221, using nperseg = 221\n",
      "  warnings.warn('nperseg = {0:d} is greater than input length '\n",
      "C:\\Users\\dkornev\\Anaconda3\\lib\\site-packages\\scipy\\signal\\spectral.py:1961: UserWarning: nperseg = 256 is greater than input length  = 21, using nperseg = 21\n",
      "  warnings.warn('nperseg = {0:d} is greater than input length '\n"
     ]
    },
    {
     "name": "stdout",
     "output_type": "stream",
     "text": [
      "Extracting EDF parameters from C:\\Users\\dkornev\\Desktop\\Work Folder\\My Folders\\Harrisburg University\\ISEM 780-52-A-2021 Fall - Doctoral Research Seminar\\Experiment\\S11.edf...\n",
      "EDF file detected\n",
      "Setting channel info structure...\n",
      "Creating raw.info structure...\n"
     ]
    },
    {
     "name": "stderr",
     "output_type": "stream",
     "text": [
      "<ipython-input-4-000d69b9f050>:49: SettingWithCopyWarning: \n",
      "A value is trying to be set on a copy of a slice from a DataFrame.\n",
      "Try using .loc[row_indexer,col_indexer] = value instead\n",
      "\n",
      "See the caveats in the documentation: https://pandas.pydata.org/pandas-docs/stable/user_guide/indexing.html#returning-a-view-versus-a-copy\n",
      "  Tmin['index'] = pd.DataFrame(np.arange(1001, 2001))\n"
     ]
    },
    {
     "name": "stdout",
     "output_type": "stream",
     "text": [
      "Reading 0 ... 1715999  =      0.000 ...  1715.999 secs...\n",
      "Setting up band-stop filter from 49 - 51 Hz\n",
      "\n",
      "FIR filter parameters\n",
      "---------------------\n",
      "Designing a one-pass, zero-phase, non-causal bandstop filter:\n",
      "- Windowed time-domain design (firwin) method\n",
      "- Hamming window with 0.0194 passband ripple and 53 dB stopband attenuation\n",
      "- Lower passband edge: 49.38\n",
      "- Lower transition bandwidth: 0.50 Hz (-6 dB cutoff frequency: 49.12 Hz)\n",
      "- Upper passband edge: 50.62 Hz\n",
      "- Upper transition bandwidth: 0.50 Hz (-6 dB cutoff frequency: 50.88 Hz)\n",
      "- Filter length: 6601 samples (6.601 sec)\n",
      "\n",
      "Filtering raw data in 1 contiguous segment\n",
      "Setting up band-pass filter from 1 - 43 Hz\n",
      "\n",
      "FIR filter parameters\n",
      "---------------------\n",
      "Designing a one-pass, zero-phase, non-causal bandpass filter:\n",
      "- Windowed time-domain design (firwin) method\n",
      "- Hamming window with 0.0194 passband ripple and 53 dB stopband attenuation\n",
      "- Lower passband edge: 1.00\n",
      "- Lower transition bandwidth: 1.00 Hz (-6 dB cutoff frequency: 0.50 Hz)\n",
      "- Upper passband edge: 43.00 Hz\n",
      "- Upper transition bandwidth: 10.75 Hz (-6 dB cutoff frequency: 48.38 Hz)\n",
      "- Filter length: 3301 samples (3.301 sec)\n",
      "\n",
      "Files Loading:  S11.edf.mrk S11.edf\n",
      "Events number in record:  198\n",
      "Columns Name:  RangeIndex(start=0, stop=198, step=1)\n"
     ]
    },
    {
     "name": "stderr",
     "output_type": "stream",
     "text": [
      "C:\\Users\\dkornev\\Anaconda3\\lib\\site-packages\\scipy\\signal\\spectral.py:1961: UserWarning: nperseg = 256 is greater than input length  = 101, using nperseg = 101\n",
      "  warnings.warn('nperseg = {0:d} is greater than input length '\n",
      "C:\\Users\\dkornev\\Anaconda3\\lib\\site-packages\\scipy\\signal\\spectral.py:1961: UserWarning: nperseg = 256 is greater than input length  = 81, using nperseg = 81\n",
      "  warnings.warn('nperseg = {0:d} is greater than input length '\n",
      "C:\\Users\\dkornev\\Anaconda3\\lib\\site-packages\\scipy\\signal\\spectral.py:1961: UserWarning: nperseg = 256 is greater than input length  = 221, using nperseg = 221\n",
      "  warnings.warn('nperseg = {0:d} is greater than input length '\n",
      "C:\\Users\\dkornev\\Anaconda3\\lib\\site-packages\\scipy\\signal\\spectral.py:1961: UserWarning: nperseg = 256 is greater than input length  = 21, using nperseg = 21\n",
      "  warnings.warn('nperseg = {0:d} is greater than input length '\n"
     ]
    },
    {
     "name": "stdout",
     "output_type": "stream",
     "text": [
      "Extracting EDF parameters from C:\\Users\\dkornev\\Desktop\\Work Folder\\My Folders\\Harrisburg University\\ISEM 780-52-A-2021 Fall - Doctoral Research Seminar\\Experiment\\S12.edf...\n",
      "EDF file detected\n",
      "Setting channel info structure...\n",
      "Creating raw.info structure...\n"
     ]
    },
    {
     "name": "stderr",
     "output_type": "stream",
     "text": [
      "<ipython-input-4-000d69b9f050>:49: SettingWithCopyWarning: \n",
      "A value is trying to be set on a copy of a slice from a DataFrame.\n",
      "Try using .loc[row_indexer,col_indexer] = value instead\n",
      "\n",
      "See the caveats in the documentation: https://pandas.pydata.org/pandas-docs/stable/user_guide/indexing.html#returning-a-view-versus-a-copy\n",
      "  Tmin['index'] = pd.DataFrame(np.arange(1001, 2001))\n"
     ]
    },
    {
     "name": "stdout",
     "output_type": "stream",
     "text": [
      "Reading 0 ... 2035999  =      0.000 ...  2035.999 secs...\n",
      "Setting up band-stop filter from 49 - 51 Hz\n",
      "\n",
      "FIR filter parameters\n",
      "---------------------\n",
      "Designing a one-pass, zero-phase, non-causal bandstop filter:\n",
      "- Windowed time-domain design (firwin) method\n",
      "- Hamming window with 0.0194 passband ripple and 53 dB stopband attenuation\n",
      "- Lower passband edge: 49.38\n",
      "- Lower transition bandwidth: 0.50 Hz (-6 dB cutoff frequency: 49.12 Hz)\n",
      "- Upper passband edge: 50.62 Hz\n",
      "- Upper transition bandwidth: 0.50 Hz (-6 dB cutoff frequency: 50.88 Hz)\n",
      "- Filter length: 6601 samples (6.601 sec)\n",
      "\n",
      "Filtering raw data in 1 contiguous segment\n",
      "Setting up band-pass filter from 1 - 43 Hz\n",
      "\n",
      "FIR filter parameters\n",
      "---------------------\n",
      "Designing a one-pass, zero-phase, non-causal bandpass filter:\n",
      "- Windowed time-domain design (firwin) method\n",
      "- Hamming window with 0.0194 passband ripple and 53 dB stopband attenuation\n",
      "- Lower passband edge: 1.00\n",
      "- Lower transition bandwidth: 1.00 Hz (-6 dB cutoff frequency: 0.50 Hz)\n",
      "- Upper passband edge: 43.00 Hz\n",
      "- Upper transition bandwidth: 10.75 Hz (-6 dB cutoff frequency: 48.38 Hz)\n",
      "- Filter length: 3301 samples (3.301 sec)\n",
      "\n",
      "Files Loading:  S12.edf.mrk S12.edf\n",
      "Events number in record:  200\n",
      "Columns Name:  RangeIndex(start=0, stop=200, step=1)\n"
     ]
    },
    {
     "name": "stderr",
     "output_type": "stream",
     "text": [
      "C:\\Users\\dkornev\\Anaconda3\\lib\\site-packages\\scipy\\signal\\spectral.py:1961: UserWarning: nperseg = 256 is greater than input length  = 101, using nperseg = 101\n",
      "  warnings.warn('nperseg = {0:d} is greater than input length '\n",
      "C:\\Users\\dkornev\\Anaconda3\\lib\\site-packages\\scipy\\signal\\spectral.py:1961: UserWarning: nperseg = 256 is greater than input length  = 81, using nperseg = 81\n",
      "  warnings.warn('nperseg = {0:d} is greater than input length '\n",
      "C:\\Users\\dkornev\\Anaconda3\\lib\\site-packages\\scipy\\signal\\spectral.py:1961: UserWarning: nperseg = 256 is greater than input length  = 221, using nperseg = 221\n",
      "  warnings.warn('nperseg = {0:d} is greater than input length '\n",
      "C:\\Users\\dkornev\\Anaconda3\\lib\\site-packages\\scipy\\signal\\spectral.py:1961: UserWarning: nperseg = 256 is greater than input length  = 21, using nperseg = 21\n",
      "  warnings.warn('nperseg = {0:d} is greater than input length '\n"
     ]
    },
    {
     "name": "stdout",
     "output_type": "stream",
     "text": [
      "Extracting EDF parameters from C:\\Users\\dkornev\\Desktop\\Work Folder\\My Folders\\Harrisburg University\\ISEM 780-52-A-2021 Fall - Doctoral Research Seminar\\Experiment\\S13.edf...\n",
      "EDF file detected\n",
      "Setting channel info structure...\n",
      "Creating raw.info structure...\n"
     ]
    },
    {
     "name": "stderr",
     "output_type": "stream",
     "text": [
      "<ipython-input-4-000d69b9f050>:49: SettingWithCopyWarning: \n",
      "A value is trying to be set on a copy of a slice from a DataFrame.\n",
      "Try using .loc[row_indexer,col_indexer] = value instead\n",
      "\n",
      "See the caveats in the documentation: https://pandas.pydata.org/pandas-docs/stable/user_guide/indexing.html#returning-a-view-versus-a-copy\n",
      "  Tmin['index'] = pd.DataFrame(np.arange(1001, 2001))\n"
     ]
    },
    {
     "name": "stdout",
     "output_type": "stream",
     "text": [
      "Reading 0 ... 1924999  =      0.000 ...  1924.999 secs...\n",
      "Setting up band-stop filter from 49 - 51 Hz\n",
      "\n",
      "FIR filter parameters\n",
      "---------------------\n",
      "Designing a one-pass, zero-phase, non-causal bandstop filter:\n",
      "- Windowed time-domain design (firwin) method\n",
      "- Hamming window with 0.0194 passband ripple and 53 dB stopband attenuation\n",
      "- Lower passband edge: 49.38\n",
      "- Lower transition bandwidth: 0.50 Hz (-6 dB cutoff frequency: 49.12 Hz)\n",
      "- Upper passband edge: 50.62 Hz\n",
      "- Upper transition bandwidth: 0.50 Hz (-6 dB cutoff frequency: 50.88 Hz)\n",
      "- Filter length: 6601 samples (6.601 sec)\n",
      "\n",
      "Filtering raw data in 1 contiguous segment\n",
      "Setting up band-pass filter from 1 - 43 Hz\n",
      "\n",
      "FIR filter parameters\n",
      "---------------------\n",
      "Designing a one-pass, zero-phase, non-causal bandpass filter:\n",
      "- Windowed time-domain design (firwin) method\n",
      "- Hamming window with 0.0194 passband ripple and 53 dB stopband attenuation\n",
      "- Lower passband edge: 1.00\n",
      "- Lower transition bandwidth: 1.00 Hz (-6 dB cutoff frequency: 0.50 Hz)\n",
      "- Upper passband edge: 43.00 Hz\n",
      "- Upper transition bandwidth: 10.75 Hz (-6 dB cutoff frequency: 48.38 Hz)\n",
      "- Filter length: 3301 samples (3.301 sec)\n",
      "\n",
      "Files Loading:  S13.edf.mrk S13.edf\n",
      "Events number in record:  200\n",
      "Columns Name:  RangeIndex(start=0, stop=200, step=1)\n"
     ]
    },
    {
     "name": "stderr",
     "output_type": "stream",
     "text": [
      "C:\\Users\\dkornev\\Anaconda3\\lib\\site-packages\\scipy\\signal\\spectral.py:1961: UserWarning: nperseg = 256 is greater than input length  = 101, using nperseg = 101\n",
      "  warnings.warn('nperseg = {0:d} is greater than input length '\n",
      "C:\\Users\\dkornev\\Anaconda3\\lib\\site-packages\\scipy\\signal\\spectral.py:1961: UserWarning: nperseg = 256 is greater than input length  = 81, using nperseg = 81\n",
      "  warnings.warn('nperseg = {0:d} is greater than input length '\n",
      "C:\\Users\\dkornev\\Anaconda3\\lib\\site-packages\\scipy\\signal\\spectral.py:1961: UserWarning: nperseg = 256 is greater than input length  = 221, using nperseg = 221\n",
      "  warnings.warn('nperseg = {0:d} is greater than input length '\n",
      "C:\\Users\\dkornev\\Anaconda3\\lib\\site-packages\\scipy\\signal\\spectral.py:1961: UserWarning: nperseg = 256 is greater than input length  = 21, using nperseg = 21\n",
      "  warnings.warn('nperseg = {0:d} is greater than input length '\n"
     ]
    },
    {
     "name": "stdout",
     "output_type": "stream",
     "text": [
      "Extracting EDF parameters from C:\\Users\\dkornev\\Desktop\\Work Folder\\My Folders\\Harrisburg University\\ISEM 780-52-A-2021 Fall - Doctoral Research Seminar\\Experiment\\S14.edf...\n",
      "EDF file detected\n",
      "Setting channel info structure...\n",
      "Creating raw.info structure...\n"
     ]
    },
    {
     "name": "stderr",
     "output_type": "stream",
     "text": [
      "<ipython-input-4-000d69b9f050>:49: SettingWithCopyWarning: \n",
      "A value is trying to be set on a copy of a slice from a DataFrame.\n",
      "Try using .loc[row_indexer,col_indexer] = value instead\n",
      "\n",
      "See the caveats in the documentation: https://pandas.pydata.org/pandas-docs/stable/user_guide/indexing.html#returning-a-view-versus-a-copy\n",
      "  Tmin['index'] = pd.DataFrame(np.arange(1001, 2001))\n"
     ]
    },
    {
     "name": "stdout",
     "output_type": "stream",
     "text": [
      "Reading 0 ... 1928999  =      0.000 ...  1928.999 secs...\n",
      "Setting up band-stop filter from 49 - 51 Hz\n",
      "\n",
      "FIR filter parameters\n",
      "---------------------\n",
      "Designing a one-pass, zero-phase, non-causal bandstop filter:\n",
      "- Windowed time-domain design (firwin) method\n",
      "- Hamming window with 0.0194 passband ripple and 53 dB stopband attenuation\n",
      "- Lower passband edge: 49.38\n",
      "- Lower transition bandwidth: 0.50 Hz (-6 dB cutoff frequency: 49.12 Hz)\n",
      "- Upper passband edge: 50.62 Hz\n",
      "- Upper transition bandwidth: 0.50 Hz (-6 dB cutoff frequency: 50.88 Hz)\n",
      "- Filter length: 6601 samples (6.601 sec)\n",
      "\n",
      "Filtering raw data in 1 contiguous segment\n",
      "Setting up band-pass filter from 1 - 43 Hz\n",
      "\n",
      "FIR filter parameters\n",
      "---------------------\n",
      "Designing a one-pass, zero-phase, non-causal bandpass filter:\n",
      "- Windowed time-domain design (firwin) method\n",
      "- Hamming window with 0.0194 passband ripple and 53 dB stopband attenuation\n",
      "- Lower passband edge: 1.00\n",
      "- Lower transition bandwidth: 1.00 Hz (-6 dB cutoff frequency: 0.50 Hz)\n",
      "- Upper passband edge: 43.00 Hz\n",
      "- Upper transition bandwidth: 10.75 Hz (-6 dB cutoff frequency: 48.38 Hz)\n",
      "- Filter length: 3301 samples (3.301 sec)\n",
      "\n",
      "Files Loading:  S14.edf.mrk S14.edf\n",
      "Events number in record:  200\n",
      "Columns Name:  RangeIndex(start=0, stop=200, step=1)\n"
     ]
    },
    {
     "name": "stderr",
     "output_type": "stream",
     "text": [
      "C:\\Users\\dkornev\\Anaconda3\\lib\\site-packages\\scipy\\signal\\spectral.py:1961: UserWarning: nperseg = 256 is greater than input length  = 101, using nperseg = 101\n",
      "  warnings.warn('nperseg = {0:d} is greater than input length '\n",
      "C:\\Users\\dkornev\\Anaconda3\\lib\\site-packages\\scipy\\signal\\spectral.py:1961: UserWarning: nperseg = 256 is greater than input length  = 81, using nperseg = 81\n",
      "  warnings.warn('nperseg = {0:d} is greater than input length '\n",
      "C:\\Users\\dkornev\\Anaconda3\\lib\\site-packages\\scipy\\signal\\spectral.py:1961: UserWarning: nperseg = 256 is greater than input length  = 221, using nperseg = 221\n",
      "  warnings.warn('nperseg = {0:d} is greater than input length '\n",
      "C:\\Users\\dkornev\\Anaconda3\\lib\\site-packages\\scipy\\signal\\spectral.py:1961: UserWarning: nperseg = 256 is greater than input length  = 21, using nperseg = 21\n",
      "  warnings.warn('nperseg = {0:d} is greater than input length '\n"
     ]
    },
    {
     "name": "stdout",
     "output_type": "stream",
     "text": [
      "Extracting EDF parameters from C:\\Users\\dkornev\\Desktop\\Work Folder\\My Folders\\Harrisburg University\\ISEM 780-52-A-2021 Fall - Doctoral Research Seminar\\Experiment\\S15.edf...\n",
      "EDF file detected\n",
      "Setting channel info structure...\n",
      "Creating raw.info structure...\n"
     ]
    },
    {
     "name": "stderr",
     "output_type": "stream",
     "text": [
      "<ipython-input-4-000d69b9f050>:49: SettingWithCopyWarning: \n",
      "A value is trying to be set on a copy of a slice from a DataFrame.\n",
      "Try using .loc[row_indexer,col_indexer] = value instead\n",
      "\n",
      "See the caveats in the documentation: https://pandas.pydata.org/pandas-docs/stable/user_guide/indexing.html#returning-a-view-versus-a-copy\n",
      "  Tmin['index'] = pd.DataFrame(np.arange(1001, 2001))\n"
     ]
    },
    {
     "name": "stdout",
     "output_type": "stream",
     "text": [
      "Reading 0 ... 2104999  =      0.000 ...  2104.999 secs...\n",
      "Setting up band-stop filter from 49 - 51 Hz\n",
      "\n",
      "FIR filter parameters\n",
      "---------------------\n",
      "Designing a one-pass, zero-phase, non-causal bandstop filter:\n",
      "- Windowed time-domain design (firwin) method\n",
      "- Hamming window with 0.0194 passband ripple and 53 dB stopband attenuation\n",
      "- Lower passband edge: 49.38\n",
      "- Lower transition bandwidth: 0.50 Hz (-6 dB cutoff frequency: 49.12 Hz)\n",
      "- Upper passband edge: 50.62 Hz\n",
      "- Upper transition bandwidth: 0.50 Hz (-6 dB cutoff frequency: 50.88 Hz)\n",
      "- Filter length: 6601 samples (6.601 sec)\n",
      "\n",
      "Filtering raw data in 1 contiguous segment\n",
      "Setting up band-pass filter from 1 - 43 Hz\n",
      "\n",
      "FIR filter parameters\n",
      "---------------------\n",
      "Designing a one-pass, zero-phase, non-causal bandpass filter:\n",
      "- Windowed time-domain design (firwin) method\n",
      "- Hamming window with 0.0194 passband ripple and 53 dB stopband attenuation\n",
      "- Lower passband edge: 1.00\n",
      "- Lower transition bandwidth: 1.00 Hz (-6 dB cutoff frequency: 0.50 Hz)\n",
      "- Upper passband edge: 43.00 Hz\n",
      "- Upper transition bandwidth: 10.75 Hz (-6 dB cutoff frequency: 48.38 Hz)\n",
      "- Filter length: 3301 samples (3.301 sec)\n",
      "\n",
      "Files Loading:  S15.edf.mrk S15.edf\n",
      "Events number in record:  200\n",
      "Columns Name:  RangeIndex(start=0, stop=200, step=1)\n"
     ]
    },
    {
     "name": "stderr",
     "output_type": "stream",
     "text": [
      "C:\\Users\\dkornev\\Anaconda3\\lib\\site-packages\\scipy\\signal\\spectral.py:1961: UserWarning: nperseg = 256 is greater than input length  = 101, using nperseg = 101\n",
      "  warnings.warn('nperseg = {0:d} is greater than input length '\n",
      "C:\\Users\\dkornev\\Anaconda3\\lib\\site-packages\\scipy\\signal\\spectral.py:1961: UserWarning: nperseg = 256 is greater than input length  = 81, using nperseg = 81\n",
      "  warnings.warn('nperseg = {0:d} is greater than input length '\n",
      "C:\\Users\\dkornev\\Anaconda3\\lib\\site-packages\\scipy\\signal\\spectral.py:1961: UserWarning: nperseg = 256 is greater than input length  = 221, using nperseg = 221\n",
      "  warnings.warn('nperseg = {0:d} is greater than input length '\n",
      "C:\\Users\\dkornev\\Anaconda3\\lib\\site-packages\\scipy\\signal\\spectral.py:1961: UserWarning: nperseg = 256 is greater than input length  = 21, using nperseg = 21\n",
      "  warnings.warn('nperseg = {0:d} is greater than input length '\n"
     ]
    },
    {
     "name": "stdout",
     "output_type": "stream",
     "text": [
      "Extracting EDF parameters from C:\\Users\\dkornev\\Desktop\\Work Folder\\My Folders\\Harrisburg University\\ISEM 780-52-A-2021 Fall - Doctoral Research Seminar\\Experiment\\S16.edf...\n",
      "EDF file detected\n",
      "Setting channel info structure...\n",
      "Creating raw.info structure...\n"
     ]
    },
    {
     "name": "stderr",
     "output_type": "stream",
     "text": [
      "<ipython-input-4-000d69b9f050>:49: SettingWithCopyWarning: \n",
      "A value is trying to be set on a copy of a slice from a DataFrame.\n",
      "Try using .loc[row_indexer,col_indexer] = value instead\n",
      "\n",
      "See the caveats in the documentation: https://pandas.pydata.org/pandas-docs/stable/user_guide/indexing.html#returning-a-view-versus-a-copy\n",
      "  Tmin['index'] = pd.DataFrame(np.arange(1001, 2001))\n"
     ]
    },
    {
     "name": "stdout",
     "output_type": "stream",
     "text": [
      "Reading 0 ... 2002999  =      0.000 ...  2002.999 secs...\n",
      "Setting up band-stop filter from 49 - 51 Hz\n",
      "\n",
      "FIR filter parameters\n",
      "---------------------\n",
      "Designing a one-pass, zero-phase, non-causal bandstop filter:\n",
      "- Windowed time-domain design (firwin) method\n",
      "- Hamming window with 0.0194 passband ripple and 53 dB stopband attenuation\n",
      "- Lower passband edge: 49.38\n",
      "- Lower transition bandwidth: 0.50 Hz (-6 dB cutoff frequency: 49.12 Hz)\n",
      "- Upper passband edge: 50.62 Hz\n",
      "- Upper transition bandwidth: 0.50 Hz (-6 dB cutoff frequency: 50.88 Hz)\n",
      "- Filter length: 6601 samples (6.601 sec)\n",
      "\n",
      "Filtering raw data in 1 contiguous segment\n",
      "Setting up band-pass filter from 1 - 43 Hz\n",
      "\n",
      "FIR filter parameters\n",
      "---------------------\n",
      "Designing a one-pass, zero-phase, non-causal bandpass filter:\n",
      "- Windowed time-domain design (firwin) method\n",
      "- Hamming window with 0.0194 passband ripple and 53 dB stopband attenuation\n",
      "- Lower passband edge: 1.00\n",
      "- Lower transition bandwidth: 1.00 Hz (-6 dB cutoff frequency: 0.50 Hz)\n",
      "- Upper passband edge: 43.00 Hz\n",
      "- Upper transition bandwidth: 10.75 Hz (-6 dB cutoff frequency: 48.38 Hz)\n",
      "- Filter length: 3301 samples (3.301 sec)\n",
      "\n",
      "Files Loading:  S16.edf.mrk S16.edf\n",
      "Events number in record:  200\n",
      "Columns Name:  RangeIndex(start=0, stop=200, step=1)\n"
     ]
    },
    {
     "name": "stderr",
     "output_type": "stream",
     "text": [
      "C:\\Users\\dkornev\\Anaconda3\\lib\\site-packages\\scipy\\signal\\spectral.py:1961: UserWarning: nperseg = 256 is greater than input length  = 101, using nperseg = 101\n",
      "  warnings.warn('nperseg = {0:d} is greater than input length '\n",
      "C:\\Users\\dkornev\\Anaconda3\\lib\\site-packages\\scipy\\signal\\spectral.py:1961: UserWarning: nperseg = 256 is greater than input length  = 81, using nperseg = 81\n",
      "  warnings.warn('nperseg = {0:d} is greater than input length '\n",
      "C:\\Users\\dkornev\\Anaconda3\\lib\\site-packages\\scipy\\signal\\spectral.py:1961: UserWarning: nperseg = 256 is greater than input length  = 221, using nperseg = 221\n",
      "  warnings.warn('nperseg = {0:d} is greater than input length '\n",
      "C:\\Users\\dkornev\\Anaconda3\\lib\\site-packages\\scipy\\signal\\spectral.py:1961: UserWarning: nperseg = 256 is greater than input length  = 21, using nperseg = 21\n",
      "  warnings.warn('nperseg = {0:d} is greater than input length '\n"
     ]
    },
    {
     "name": "stdout",
     "output_type": "stream",
     "text": [
      "Extracting EDF parameters from C:\\Users\\dkornev\\Desktop\\Work Folder\\My Folders\\Harrisburg University\\ISEM 780-52-A-2021 Fall - Doctoral Research Seminar\\Experiment\\S17.edf...\n",
      "EDF file detected\n",
      "Setting channel info structure...\n",
      "Creating raw.info structure...\n"
     ]
    },
    {
     "name": "stderr",
     "output_type": "stream",
     "text": [
      "<ipython-input-4-000d69b9f050>:49: SettingWithCopyWarning: \n",
      "A value is trying to be set on a copy of a slice from a DataFrame.\n",
      "Try using .loc[row_indexer,col_indexer] = value instead\n",
      "\n",
      "See the caveats in the documentation: https://pandas.pydata.org/pandas-docs/stable/user_guide/indexing.html#returning-a-view-versus-a-copy\n",
      "  Tmin['index'] = pd.DataFrame(np.arange(1001, 2001))\n"
     ]
    },
    {
     "name": "stdout",
     "output_type": "stream",
     "text": [
      "Reading 0 ... 2215999  =      0.000 ...  2215.999 secs...\n",
      "Setting up band-stop filter from 49 - 51 Hz\n",
      "\n",
      "FIR filter parameters\n",
      "---------------------\n",
      "Designing a one-pass, zero-phase, non-causal bandstop filter:\n",
      "- Windowed time-domain design (firwin) method\n",
      "- Hamming window with 0.0194 passband ripple and 53 dB stopband attenuation\n",
      "- Lower passband edge: 49.38\n",
      "- Lower transition bandwidth: 0.50 Hz (-6 dB cutoff frequency: 49.12 Hz)\n",
      "- Upper passband edge: 50.62 Hz\n",
      "- Upper transition bandwidth: 0.50 Hz (-6 dB cutoff frequency: 50.88 Hz)\n",
      "- Filter length: 6601 samples (6.601 sec)\n",
      "\n",
      "Filtering raw data in 1 contiguous segment\n",
      "Setting up band-pass filter from 1 - 43 Hz\n",
      "\n",
      "FIR filter parameters\n",
      "---------------------\n",
      "Designing a one-pass, zero-phase, non-causal bandpass filter:\n",
      "- Windowed time-domain design (firwin) method\n",
      "- Hamming window with 0.0194 passband ripple and 53 dB stopband attenuation\n",
      "- Lower passband edge: 1.00\n",
      "- Lower transition bandwidth: 1.00 Hz (-6 dB cutoff frequency: 0.50 Hz)\n",
      "- Upper passband edge: 43.00 Hz\n",
      "- Upper transition bandwidth: 10.75 Hz (-6 dB cutoff frequency: 48.38 Hz)\n",
      "- Filter length: 3301 samples (3.301 sec)\n",
      "\n",
      "Files Loading:  S17.edf.mrk S17.edf\n",
      "Events number in record:  196\n",
      "Columns Name:  RangeIndex(start=0, stop=196, step=1)\n"
     ]
    },
    {
     "name": "stderr",
     "output_type": "stream",
     "text": [
      "C:\\Users\\dkornev\\Anaconda3\\lib\\site-packages\\scipy\\signal\\spectral.py:1961: UserWarning: nperseg = 256 is greater than input length  = 101, using nperseg = 101\n",
      "  warnings.warn('nperseg = {0:d} is greater than input length '\n",
      "C:\\Users\\dkornev\\Anaconda3\\lib\\site-packages\\scipy\\signal\\spectral.py:1961: UserWarning: nperseg = 256 is greater than input length  = 81, using nperseg = 81\n",
      "  warnings.warn('nperseg = {0:d} is greater than input length '\n",
      "C:\\Users\\dkornev\\Anaconda3\\lib\\site-packages\\scipy\\signal\\spectral.py:1961: UserWarning: nperseg = 256 is greater than input length  = 221, using nperseg = 221\n",
      "  warnings.warn('nperseg = {0:d} is greater than input length '\n",
      "C:\\Users\\dkornev\\Anaconda3\\lib\\site-packages\\scipy\\signal\\spectral.py:1961: UserWarning: nperseg = 256 is greater than input length  = 21, using nperseg = 21\n",
      "  warnings.warn('nperseg = {0:d} is greater than input length '\n"
     ]
    },
    {
     "name": "stdout",
     "output_type": "stream",
     "text": [
      "Extracting EDF parameters from C:\\Users\\dkornev\\Desktop\\Work Folder\\My Folders\\Harrisburg University\\ISEM 780-52-A-2021 Fall - Doctoral Research Seminar\\Experiment\\S18.edf...\n",
      "EDF file detected\n",
      "Setting channel info structure...\n",
      "Creating raw.info structure...\n"
     ]
    },
    {
     "name": "stderr",
     "output_type": "stream",
     "text": [
      "<ipython-input-4-000d69b9f050>:49: SettingWithCopyWarning: \n",
      "A value is trying to be set on a copy of a slice from a DataFrame.\n",
      "Try using .loc[row_indexer,col_indexer] = value instead\n",
      "\n",
      "See the caveats in the documentation: https://pandas.pydata.org/pandas-docs/stable/user_guide/indexing.html#returning-a-view-versus-a-copy\n",
      "  Tmin['index'] = pd.DataFrame(np.arange(1001, 2001))\n"
     ]
    },
    {
     "name": "stdout",
     "output_type": "stream",
     "text": [
      "Reading 0 ... 2109999  =      0.000 ...  2109.999 secs...\n",
      "Setting up band-stop filter from 49 - 51 Hz\n",
      "\n",
      "FIR filter parameters\n",
      "---------------------\n",
      "Designing a one-pass, zero-phase, non-causal bandstop filter:\n",
      "- Windowed time-domain design (firwin) method\n",
      "- Hamming window with 0.0194 passband ripple and 53 dB stopband attenuation\n",
      "- Lower passband edge: 49.38\n",
      "- Lower transition bandwidth: 0.50 Hz (-6 dB cutoff frequency: 49.12 Hz)\n",
      "- Upper passband edge: 50.62 Hz\n",
      "- Upper transition bandwidth: 0.50 Hz (-6 dB cutoff frequency: 50.88 Hz)\n",
      "- Filter length: 6601 samples (6.601 sec)\n",
      "\n",
      "Filtering raw data in 1 contiguous segment\n",
      "Setting up band-pass filter from 1 - 43 Hz\n",
      "\n",
      "FIR filter parameters\n",
      "---------------------\n",
      "Designing a one-pass, zero-phase, non-causal bandpass filter:\n",
      "- Windowed time-domain design (firwin) method\n",
      "- Hamming window with 0.0194 passband ripple and 53 dB stopband attenuation\n",
      "- Lower passband edge: 1.00\n",
      "- Lower transition bandwidth: 1.00 Hz (-6 dB cutoff frequency: 0.50 Hz)\n",
      "- Upper passband edge: 43.00 Hz\n",
      "- Upper transition bandwidth: 10.75 Hz (-6 dB cutoff frequency: 48.38 Hz)\n",
      "- Filter length: 3301 samples (3.301 sec)\n",
      "\n",
      "Files Loading:  S18.edf.mrk S18.edf\n",
      "Events number in record:  200\n",
      "Columns Name:  RangeIndex(start=0, stop=200, step=1)\n"
     ]
    },
    {
     "name": "stderr",
     "output_type": "stream",
     "text": [
      "C:\\Users\\dkornev\\Anaconda3\\lib\\site-packages\\scipy\\signal\\spectral.py:1961: UserWarning: nperseg = 256 is greater than input length  = 101, using nperseg = 101\n",
      "  warnings.warn('nperseg = {0:d} is greater than input length '\n",
      "C:\\Users\\dkornev\\Anaconda3\\lib\\site-packages\\scipy\\signal\\spectral.py:1961: UserWarning: nperseg = 256 is greater than input length  = 81, using nperseg = 81\n",
      "  warnings.warn('nperseg = {0:d} is greater than input length '\n",
      "C:\\Users\\dkornev\\Anaconda3\\lib\\site-packages\\scipy\\signal\\spectral.py:1961: UserWarning: nperseg = 256 is greater than input length  = 221, using nperseg = 221\n",
      "  warnings.warn('nperseg = {0:d} is greater than input length '\n",
      "C:\\Users\\dkornev\\Anaconda3\\lib\\site-packages\\scipy\\signal\\spectral.py:1961: UserWarning: nperseg = 256 is greater than input length  = 21, using nperseg = 21\n",
      "  warnings.warn('nperseg = {0:d} is greater than input length '\n"
     ]
    },
    {
     "name": "stdout",
     "output_type": "stream",
     "text": [
      "Extracting EDF parameters from C:\\Users\\dkornev\\Desktop\\Work Folder\\My Folders\\Harrisburg University\\ISEM 780-52-A-2021 Fall - Doctoral Research Seminar\\Experiment\\S19.edf...\n",
      "EDF file detected\n",
      "Setting channel info structure...\n",
      "Creating raw.info structure...\n"
     ]
    },
    {
     "name": "stderr",
     "output_type": "stream",
     "text": [
      "<ipython-input-4-000d69b9f050>:49: SettingWithCopyWarning: \n",
      "A value is trying to be set on a copy of a slice from a DataFrame.\n",
      "Try using .loc[row_indexer,col_indexer] = value instead\n",
      "\n",
      "See the caveats in the documentation: https://pandas.pydata.org/pandas-docs/stable/user_guide/indexing.html#returning-a-view-versus-a-copy\n",
      "  Tmin['index'] = pd.DataFrame(np.arange(1001, 2001))\n"
     ]
    },
    {
     "name": "stdout",
     "output_type": "stream",
     "text": [
      "Reading 0 ... 2095999  =      0.000 ...  2095.999 secs...\n",
      "Setting up band-stop filter from 49 - 51 Hz\n",
      "\n",
      "FIR filter parameters\n",
      "---------------------\n",
      "Designing a one-pass, zero-phase, non-causal bandstop filter:\n",
      "- Windowed time-domain design (firwin) method\n",
      "- Hamming window with 0.0194 passband ripple and 53 dB stopband attenuation\n",
      "- Lower passband edge: 49.38\n",
      "- Lower transition bandwidth: 0.50 Hz (-6 dB cutoff frequency: 49.12 Hz)\n",
      "- Upper passband edge: 50.62 Hz\n",
      "- Upper transition bandwidth: 0.50 Hz (-6 dB cutoff frequency: 50.88 Hz)\n",
      "- Filter length: 6601 samples (6.601 sec)\n",
      "\n",
      "Filtering raw data in 1 contiguous segment\n",
      "Setting up band-pass filter from 1 - 43 Hz\n",
      "\n",
      "FIR filter parameters\n",
      "---------------------\n",
      "Designing a one-pass, zero-phase, non-causal bandpass filter:\n",
      "- Windowed time-domain design (firwin) method\n",
      "- Hamming window with 0.0194 passband ripple and 53 dB stopband attenuation\n",
      "- Lower passband edge: 1.00\n",
      "- Lower transition bandwidth: 1.00 Hz (-6 dB cutoff frequency: 0.50 Hz)\n",
      "- Upper passband edge: 43.00 Hz\n",
      "- Upper transition bandwidth: 10.75 Hz (-6 dB cutoff frequency: 48.38 Hz)\n",
      "- Filter length: 3301 samples (3.301 sec)\n",
      "\n",
      "Files Loading:  S19.edf.mrk S19.edf\n",
      "Events number in record:  200\n",
      "Columns Name:  RangeIndex(start=0, stop=200, step=1)\n"
     ]
    },
    {
     "name": "stderr",
     "output_type": "stream",
     "text": [
      "C:\\Users\\dkornev\\Anaconda3\\lib\\site-packages\\scipy\\signal\\spectral.py:1961: UserWarning: nperseg = 256 is greater than input length  = 101, using nperseg = 101\n",
      "  warnings.warn('nperseg = {0:d} is greater than input length '\n",
      "C:\\Users\\dkornev\\Anaconda3\\lib\\site-packages\\scipy\\signal\\spectral.py:1961: UserWarning: nperseg = 256 is greater than input length  = 81, using nperseg = 81\n",
      "  warnings.warn('nperseg = {0:d} is greater than input length '\n",
      "C:\\Users\\dkornev\\Anaconda3\\lib\\site-packages\\scipy\\signal\\spectral.py:1961: UserWarning: nperseg = 256 is greater than input length  = 221, using nperseg = 221\n",
      "  warnings.warn('nperseg = {0:d} is greater than input length '\n",
      "C:\\Users\\dkornev\\Anaconda3\\lib\\site-packages\\scipy\\signal\\spectral.py:1961: UserWarning: nperseg = 256 is greater than input length  = 21, using nperseg = 21\n",
      "  warnings.warn('nperseg = {0:d} is greater than input length '\n"
     ]
    },
    {
     "name": "stdout",
     "output_type": "stream",
     "text": [
      "Extracting EDF parameters from C:\\Users\\dkornev\\Desktop\\Work Folder\\My Folders\\Harrisburg University\\ISEM 780-52-A-2021 Fall - Doctoral Research Seminar\\Experiment\\S20.edf...\n",
      "EDF file detected\n",
      "Setting channel info structure...\n",
      "Creating raw.info structure...\n"
     ]
    },
    {
     "name": "stderr",
     "output_type": "stream",
     "text": [
      "<ipython-input-4-000d69b9f050>:49: SettingWithCopyWarning: \n",
      "A value is trying to be set on a copy of a slice from a DataFrame.\n",
      "Try using .loc[row_indexer,col_indexer] = value instead\n",
      "\n",
      "See the caveats in the documentation: https://pandas.pydata.org/pandas-docs/stable/user_guide/indexing.html#returning-a-view-versus-a-copy\n",
      "  Tmin['index'] = pd.DataFrame(np.arange(1001, 2001))\n"
     ]
    },
    {
     "name": "stdout",
     "output_type": "stream",
     "text": [
      "Reading 0 ... 2218999  =      0.000 ...  2218.999 secs...\n",
      "Setting up band-stop filter from 49 - 51 Hz\n",
      "\n",
      "FIR filter parameters\n",
      "---------------------\n",
      "Designing a one-pass, zero-phase, non-causal bandstop filter:\n",
      "- Windowed time-domain design (firwin) method\n",
      "- Hamming window with 0.0194 passband ripple and 53 dB stopband attenuation\n",
      "- Lower passband edge: 49.38\n",
      "- Lower transition bandwidth: 0.50 Hz (-6 dB cutoff frequency: 49.12 Hz)\n",
      "- Upper passband edge: 50.62 Hz\n",
      "- Upper transition bandwidth: 0.50 Hz (-6 dB cutoff frequency: 50.88 Hz)\n",
      "- Filter length: 6601 samples (6.601 sec)\n",
      "\n",
      "Filtering raw data in 1 contiguous segment\n",
      "Setting up band-pass filter from 1 - 43 Hz\n",
      "\n",
      "FIR filter parameters\n",
      "---------------------\n",
      "Designing a one-pass, zero-phase, non-causal bandpass filter:\n",
      "- Windowed time-domain design (firwin) method\n",
      "- Hamming window with 0.0194 passband ripple and 53 dB stopband attenuation\n",
      "- Lower passband edge: 1.00\n",
      "- Lower transition bandwidth: 1.00 Hz (-6 dB cutoff frequency: 0.50 Hz)\n",
      "- Upper passband edge: 43.00 Hz\n",
      "- Upper transition bandwidth: 10.75 Hz (-6 dB cutoff frequency: 48.38 Hz)\n",
      "- Filter length: 3301 samples (3.301 sec)\n",
      "\n",
      "Files Loading:  S20.edf.mrk S20.edf\n",
      "Events number in record:  194\n",
      "Columns Name:  RangeIndex(start=0, stop=194, step=1)\n"
     ]
    },
    {
     "name": "stderr",
     "output_type": "stream",
     "text": [
      "C:\\Users\\dkornev\\Anaconda3\\lib\\site-packages\\scipy\\signal\\spectral.py:1961: UserWarning: nperseg = 256 is greater than input length  = 101, using nperseg = 101\n",
      "  warnings.warn('nperseg = {0:d} is greater than input length '\n",
      "C:\\Users\\dkornev\\Anaconda3\\lib\\site-packages\\scipy\\signal\\spectral.py:1961: UserWarning: nperseg = 256 is greater than input length  = 81, using nperseg = 81\n",
      "  warnings.warn('nperseg = {0:d} is greater than input length '\n",
      "C:\\Users\\dkornev\\Anaconda3\\lib\\site-packages\\scipy\\signal\\spectral.py:1961: UserWarning: nperseg = 256 is greater than input length  = 221, using nperseg = 221\n",
      "  warnings.warn('nperseg = {0:d} is greater than input length '\n",
      "C:\\Users\\dkornev\\Anaconda3\\lib\\site-packages\\scipy\\signal\\spectral.py:1961: UserWarning: nperseg = 256 is greater than input length  = 21, using nperseg = 21\n",
      "  warnings.warn('nperseg = {0:d} is greater than input length '\n"
     ]
    }
   ],
   "source": [
    "peaks_features_ERN,  peaks_features_P200, peaks_features_FRN, peaks_features_P300, peaks_features_N500, \\\n",
    "  dwt_features_ERN,    dwt_features_P200,   dwt_features_FRN,   dwt_features_P300,   dwt_features_N500, \\\n",
    "  cwt_features_ERN,    cwt_features_P200,   cwt_features_FRN,   cwt_features_P300,   cwt_features_N500, \\\n",
    "  y = get_signal_features(data_dir = './', \n",
    "                          cwt_waveletname = 'morl', \n",
    "                          dwt_waveletname = 'db4', \n",
    "                          denominator = 10, \n",
    "                          percentile = 5, \n",
    "                          n_peaks = 3)"
   ]
  },
  {
   "cell_type": "code",
   "execution_count": 11,
   "id": "069354b2",
   "metadata": {},
   "outputs": [
    {
     "data": {
      "text/plain": [
       "((3912, 56), (3912, 56), (3912, 56), (3912, 70), (3912, 28))"
      ]
     },
     "execution_count": 11,
     "metadata": {},
     "output_type": "execute_result"
    }
   ],
   "source": [
    "np.array(dwt_features_ERN).shape, np.array(dwt_features_P200).shape, np.array(dwt_features_FRN).shape, np.array(dwt_features_P300).shape, np.array(dwt_features_N500).shape"
   ]
  },
  {
   "cell_type": "code",
   "execution_count": 12,
   "id": "cab92522",
   "metadata": {},
   "outputs": [
    {
     "data": {
      "text/plain": [
       "((3912, 128, 101),\n",
       " (3912, 128, 101),\n",
       " (3912, 128, 81),\n",
       " (3912, 128, 221),\n",
       " (3912, 128, 21))"
      ]
     },
     "execution_count": 12,
     "metadata": {},
     "output_type": "execute_result"
    }
   ],
   "source": [
    "np.array(cwt_features_ERN).shape, np.array(cwt_features_P200).shape, np.array(cwt_features_FRN).shape, np.array(cwt_features_P300).shape, np.array(cwt_features_N500).shape"
   ]
  },
  {
   "cell_type": "code",
   "execution_count": 13,
   "id": "a69ae52e",
   "metadata": {},
   "outputs": [
    {
     "data": {
      "text/plain": [
       "((3912, 18), (3912, 18), (3912, 18), (3912, 18), (3912, 18))"
      ]
     },
     "execution_count": 13,
     "metadata": {},
     "output_type": "execute_result"
    }
   ],
   "source": [
    "np.array(peaks_features_ERN).shape, np.array(peaks_features_P200).shape, np.array(peaks_features_FRN).shape, np.array(peaks_features_P300).shape, np.array(peaks_features_N500).shape"
   ]
  },
  {
   "cell_type": "code",
   "execution_count": 15,
   "id": "0ac265b4",
   "metadata": {},
   "outputs": [
    {
     "data": {
      "text/plain": [
       "((3912,), array([0, 1]))"
      ]
     },
     "execution_count": 15,
     "metadata": {},
     "output_type": "execute_result"
    }
   ],
   "source": [
    "np.array(y).shape, np.unique(y)"
   ]
  },
  {
   "cell_type": "markdown",
   "id": "c34036df",
   "metadata": {},
   "source": [
    "# Normalization"
   ]
  },
  {
   "cell_type": "code",
   "execution_count": 230,
   "id": "349818cf",
   "metadata": {},
   "outputs": [],
   "source": [
    "peaks_features_ERN_norm = preprocessing.normalize(peaks_features_ERN)\n",
    "cwt_features_ERN_norm   = np.array(cwt_features_ERN) / np.sqrt(np.sum((np.array(cwt_features_ERN))**2))\n",
    "dwt_features_ERN_norm   = preprocessing.normalize(dwt_features_ERN)\n",
    "\n",
    "peaks_features_P200_norm = preprocessing.normalize(peaks_features_P200)\n",
    "cwt_features_P200_norm   = np.array(cwt_features_P200) / np.sqrt(np.sum((np.array(cwt_features_P200))**2))\n",
    "dwt_features_P200_norm   = preprocessing.normalize(dwt_features_P200)\n",
    "\n",
    "peaks_features_FRN_norm = preprocessing.normalize(peaks_features_FRN)\n",
    "cwt_features_FRN_norm   = np.array(cwt_features_FRN) / np.sqrt(np.sum((np.array(cwt_features_FRN))**2))\n",
    "dwt_features_FRN_norm   = preprocessing.normalize(dwt_features_FRN)\n",
    "\n",
    "peaks_features_P300_norm = preprocessing.normalize(peaks_features_P300)\n",
    "cwt_features_P300_norm   = np.array(cwt_features_P300) / np.sqrt(np.sum((np.array(cwt_features_P300))**2))\n",
    "dwt_features_P300_norm   = preprocessing.normalize(dwt_features_P300)\n",
    "\n",
    "peaks_features_N500_norm = preprocessing.normalize(peaks_features_N500)\n",
    "cwt_features_N500_norm   = np.array(cwt_features_N500) / np.sqrt(np.sum((np.array(cwt_features_N500))**2))\n",
    "dwt_features_N500_norm   = preprocessing.normalize(dwt_features_N500)"
   ]
  },
  {
   "cell_type": "markdown",
   "id": "d4a7f239",
   "metadata": {},
   "source": [
    "# Classification"
   ]
  },
  {
   "cell_type": "markdown",
   "id": "f1d1538c",
   "metadata": {},
   "source": [
    "## ERN"
   ]
  },
  {
   "cell_type": "code",
   "execution_count": null,
   "id": "93997526",
   "metadata": {},
   "outputs": [],
   "source": [
    "signal_peaks = peaks_features_ERN_norm.copy()\n",
    "signal_cwt   =   cwt_features_ERN_norm.copy()\n",
    "signal_dwt   =   dwt_features_ERN_norm.copy()"
   ]
  },
  {
   "cell_type": "code",
   "execution_count": 263,
   "id": "6a89cc5b",
   "metadata": {},
   "outputs": [],
   "source": [
    "###########################\n",
    "# CWT"
   ]
  },
  {
   "cell_type": "code",
   "execution_count": 274,
   "id": "beb0c8d4",
   "metadata": {},
   "outputs": [
    {
     "data": {
      "text/plain": [
       "((3520, 128, 101), (392, 128, 101), (3520,), (392,))"
      ]
     },
     "execution_count": 274,
     "metadata": {},
     "output_type": "execute_result"
    }
   ],
   "source": [
    "x_train, x_test, y_train, y_test = train_test_split(np.array(signal_cwt),\n",
    "                                                    np.array(y), test_size=0.10,\n",
    "                                                    random_state=42)\n",
    "x_train.shape, x_test.shape, y_train.shape, y_test.shape"
   ]
  },
  {
   "cell_type": "code",
   "execution_count": 275,
   "id": "1a741c77",
   "metadata": {},
   "outputs": [
    {
     "data": {
      "text/plain": [
       "((3520, 128, 101, 1), (392, 128, 101, 1))"
      ]
     },
     "execution_count": 275,
     "metadata": {},
     "output_type": "execute_result"
    }
   ],
   "source": [
    "x_train = np.expand_dims(x_train, axis = -1)\n",
    "x_test = np.expand_dims(x_test, axis = -1)\n",
    "x_train.shape, x_test.shape"
   ]
  },
  {
   "cell_type": "code",
   "execution_count": 20,
   "id": "924f4268",
   "metadata": {},
   "outputs": [],
   "source": [
    "x_train = np.random.random(size=(300, 128, 101, 1))\n",
    "x_test = np.random.random(size=(100, 128, 101, 1))\n",
    "y_train = np.random.randint(0, 2, size=(300))\n",
    "y_test = np.random.randint(0, 2, size=(100))"
   ]
  },
  {
   "cell_type": "code",
   "execution_count": 21,
   "id": "31acd12a",
   "metadata": {},
   "outputs": [
    {
     "data": {
      "text/plain": [
       "(100, 128, 101, 1)"
      ]
     },
     "execution_count": 21,
     "metadata": {},
     "output_type": "execute_result"
    }
   ],
   "source": [
    "x_test.shape"
   ]
  },
  {
   "cell_type": "code",
   "execution_count": null,
   "id": "8cdb5321",
   "metadata": {},
   "outputs": [],
   "source": []
  },
  {
   "cell_type": "code",
   "execution_count": 22,
   "id": "ffba51e7",
   "metadata": {},
   "outputs": [],
   "source": [
    "def plot_history(history):\n",
    "    plt.plot(history.history['accuracy'], \n",
    "            label='train accuracy')\n",
    "    plt.plot(history.history['val_accuracy'], \n",
    "            label='test accuracy')\n",
    "    plt.xlabel('epoch')\n",
    "    plt.ylabel('accuracy')\n",
    "    plt.legend()\n",
    "    plt.show()"
   ]
  },
  {
   "cell_type": "code",
   "execution_count": 23,
   "id": "3a85f98c",
   "metadata": {},
   "outputs": [],
   "source": [
    "def eval_net(model, x_train, y_train, y_scaler = None, n = 10, limit = 1000.):\n",
    "  \n",
    "    pred = model.predict(x_train)             # Предсказание на тренировочной выборке\n",
    "    if y_scaler:                              # Если есть нормирование - то денормировать\n",
    "        pred = y_scaler.inverse_transform(pred)\n",
    "\n",
    "    print('accuracy', mean_absolute_error(pred, y_train), '\\n')\n",
    "\n",
    "    for i in range(n):\n",
    "        print('Реальное значение: {:6.2f}  Предсказанное значение: {:6.2f}  Разница: {:6.2f}'.format(y_train[i, 0],\n",
    "                                                                                                    pred[i, 0],\n",
    "                                                                                                    abs(y_train[i, 0] - pred[i, 0])))\n",
    "    # Построение картинки разброса предсказанных и верных значений зарплаты\n",
    "    fig, ax = plt.subplots(figsize=(6, 6))\n",
    "    ax.scatter(y_train, pred)                 # Отрисовка точечного графика\n",
    "    ax.set_xlim(0, limit)                     # Пределы по x, y\n",
    "    ax.set_ylim(0, limit)\n",
    "    ax.plot(plt.xlim(), plt.ylim(), 'r')      # Отрисовка диагональной линии\n",
    "    plt.xlabel('Правильные значения')\n",
    "    plt.ylabel('Предсказания')\n",
    "    plt.grid()\n",
    "    plt.show()    "
   ]
  },
  {
   "cell_type": "code",
   "execution_count": 24,
   "id": "96b76116",
   "metadata": {
    "scrolled": true
   },
   "outputs": [
    {
     "name": "stdout",
     "output_type": "stream",
     "text": [
      "Epoch 1/20\n",
      "19/19 [==============================] - 58s 3s/step - loss: 1.0847 - accuracy: 0.4967 - val_loss: 0.6923 - val_accuracy: 0.5300\n",
      "Epoch 2/20\n",
      "19/19 [==============================] - 49s 3s/step - loss: 0.3864 - accuracy: 0.8100 - val_loss: 0.7174 - val_accuracy: 0.5000\n",
      "Epoch 3/20\n",
      "19/19 [==============================] - 46s 2s/step - loss: 0.1258 - accuracy: 0.9567 - val_loss: 0.7876 - val_accuracy: 0.5000\n",
      "Epoch 4/20\n",
      "19/19 [==============================] - 46s 2s/step - loss: 0.0783 - accuracy: 0.9800 - val_loss: 0.9920 - val_accuracy: 0.5000\n",
      "Epoch 5/20\n",
      "19/19 [==============================] - 47s 2s/step - loss: 0.0499 - accuracy: 0.9900 - val_loss: 0.9829 - val_accuracy: 0.5000\n",
      "Epoch 6/20\n",
      "19/19 [==============================] - 47s 2s/step - loss: 0.0350 - accuracy: 0.9933 - val_loss: 0.9711 - val_accuracy: 0.5000\n",
      "Epoch 7/20\n",
      "19/19 [==============================] - 48s 3s/step - loss: 0.0332 - accuracy: 0.9900 - val_loss: 1.0406 - val_accuracy: 0.5000\n",
      "Epoch 8/20\n",
      "19/19 [==============================] - 48s 3s/step - loss: 0.0199 - accuracy: 1.0000 - val_loss: 1.1766 - val_accuracy: 0.5000\n",
      "Epoch 9/20\n",
      "19/19 [==============================] - 48s 3s/step - loss: 0.0179 - accuracy: 1.0000 - val_loss: 1.2909 - val_accuracy: 0.5000\n",
      "Epoch 10/20\n",
      "19/19 [==============================] - 49s 3s/step - loss: 0.0147 - accuracy: 1.0000 - val_loss: 1.4510 - val_accuracy: 0.5000\n",
      "Epoch 11/20\n",
      "19/19 [==============================] - 47s 2s/step - loss: 0.0157 - accuracy: 0.9967 - val_loss: 1.6048 - val_accuracy: 0.5000\n",
      "Epoch 12/20\n",
      "19/19 [==============================] - 47s 2s/step - loss: 0.0112 - accuracy: 1.0000 - val_loss: 1.6691 - val_accuracy: 0.5000\n",
      "Epoch 13/20\n",
      "19/19 [==============================] - 47s 3s/step - loss: 0.0129 - accuracy: 0.9967 - val_loss: 2.1180 - val_accuracy: 0.5000\n",
      "Epoch 14/20\n",
      "19/19 [==============================] - 46s 2s/step - loss: 0.0094 - accuracy: 1.0000 - val_loss: 2.1024 - val_accuracy: 0.5000\n",
      "Epoch 15/20\n",
      "19/19 [==============================] - 47s 2s/step - loss: 0.0080 - accuracy: 1.0000 - val_loss: 1.8773 - val_accuracy: 0.5000\n",
      "Epoch 16/20\n",
      "19/19 [==============================] - 46s 2s/step - loss: 0.0087 - accuracy: 1.0000 - val_loss: 1.7495 - val_accuracy: 0.5000\n",
      "Epoch 17/20\n",
      "19/19 [==============================] - 48s 3s/step - loss: 0.0077 - accuracy: 1.0000 - val_loss: 2.0808 - val_accuracy: 0.5000\n",
      "Epoch 18/20\n",
      "19/19 [==============================] - 37s 2s/step - loss: 0.0067 - accuracy: 1.0000 - val_loss: 1.7365 - val_accuracy: 0.5000\n",
      "Epoch 19/20\n",
      "19/19 [==============================] - 36s 2s/step - loss: 0.0058 - accuracy: 1.0000 - val_loss: 1.6580 - val_accuracy: 0.5000\n",
      "Epoch 20/20\n",
      "19/19 [==============================] - 35s 2s/step - loss: 0.0052 - accuracy: 1.0000 - val_loss: 1.6350 - val_accuracy: 0.5000\n",
      "Train loss: 0.880386233329773, Train accuracy: 0.550000011920929\n",
      "Test loss: 1.6350276470184326, Test accuracy: 0.5\n"
     ]
    },
    {
     "data": {
      "image/png": "[encoded data removed]",
      "text/plain": [
       "<Figure size 432x288 with 1 Axes>"
      ]
     },
     "metadata": {
      "needs_background": "light"
     },
     "output_type": "display_data"
    },
    {
     "name": "stdout",
     "output_type": "stream",
     "text": [
      "accuracy 0.38798785070578257 \n",
      "\n"
     ]
    },
    {
     "ename": "IndexError",
     "evalue": "too many indices for array: array is 1-dimensional, but 2 were indexed",
     "output_type": "error",
     "traceback": [
      "\u001b[1;31m---------------------------------------------------------------------------\u001b[0m",
      "\u001b[1;31mIndexError\u001b[0m                                Traceback (most recent call last)",
      "\u001b[1;32m<ipython-input-24-e76f637bfa31>\u001b[0m in \u001b[0;36m<module>\u001b[1;34m\u001b[0m\n\u001b[0;32m     55\u001b[0m \u001b[0my_test_pred\u001b[0m \u001b[1;33m=\u001b[0m \u001b[0mmodel\u001b[0m\u001b[1;33m.\u001b[0m\u001b[0mpredict\u001b[0m\u001b[1;33m(\u001b[0m\u001b[0mx_test\u001b[0m\u001b[1;33m)\u001b[0m\u001b[1;33m\u001b[0m\u001b[1;33m\u001b[0m\u001b[0m\n\u001b[0;32m     56\u001b[0m \u001b[1;33m\u001b[0m\u001b[0m\n\u001b[1;32m---> 57\u001b[1;33m \u001b[0meval_net\u001b[0m\u001b[1;33m(\u001b[0m\u001b[0mmodel\u001b[0m\u001b[1;33m,\u001b[0m \u001b[0mx_train\u001b[0m\u001b[1;33m,\u001b[0m \u001b[0my_train\u001b[0m\u001b[1;33m)\u001b[0m\u001b[1;33m\u001b[0m\u001b[1;33m\u001b[0m\u001b[0m\n\u001b[0m",
      "\u001b[1;32m<ipython-input-23-bddfa38fe979>\u001b[0m in \u001b[0;36meval_net\u001b[1;34m(model, x_train, y_train, y_scaler, n, limit)\u001b[0m\n\u001b[0;32m      8\u001b[0m \u001b[1;33m\u001b[0m\u001b[0m\n\u001b[0;32m      9\u001b[0m     \u001b[1;32mfor\u001b[0m \u001b[0mi\u001b[0m \u001b[1;32min\u001b[0m \u001b[0mrange\u001b[0m\u001b[1;33m(\u001b[0m\u001b[0mn\u001b[0m\u001b[1;33m)\u001b[0m\u001b[1;33m:\u001b[0m\u001b[1;33m\u001b[0m\u001b[1;33m\u001b[0m\u001b[0m\n\u001b[1;32m---> 10\u001b[1;33m         print('Реальное значение: {:6.2f}  Предсказанное значение: {:6.2f}  Разница: {:6.2f}'.format(y_train[i, 0],\n\u001b[0m\u001b[0;32m     11\u001b[0m                                                                                                     \u001b[0mpred\u001b[0m\u001b[1;33m[\u001b[0m\u001b[0mi\u001b[0m\u001b[1;33m,\u001b[0m \u001b[1;36m0\u001b[0m\u001b[1;33m]\u001b[0m\u001b[1;33m,\u001b[0m\u001b[1;33m\u001b[0m\u001b[1;33m\u001b[0m\u001b[0m\n\u001b[0;32m     12\u001b[0m                                                                                                     abs(y_train[i, 0] - pred[i, 0])))\n",
      "\u001b[1;31mIndexError\u001b[0m: too many indices for array: array is 1-dimensional, but 2 were indexed"
     ]
    }
   ],
   "source": [
    "history = History()\n",
    " \n",
    "img_x = 128\n",
    "img_y = 101\n",
    "img_z = 1\n",
    "input_shape = (img_x, img_y, img_z)\n",
    " \n",
    "num_classes = 2\n",
    "batch_size = 16\n",
    "epochs = 20\n",
    " \n",
    "x_train = x_train.astype('float32')\n",
    "x_test = x_test.astype('float32')\n",
    " \n",
    "\n",
    "model = Sequential()\n",
    "model.add(Conv2D(32, kernel_size=(5, 5), strides=(1, 1),\n",
    "                 activation='relu',\n",
    "                 input_shape=input_shape))\n",
    "model.add(Conv2D(32, kernel_size=(5, 5), strides=(1, 1),\n",
    "                 activation='relu',\n",
    "                 input_shape=input_shape))\n",
    "model.add(BatchNormalization())\n",
    "model.add(SpatialDropout2D(0.2))\n",
    "\n",
    "model.add(MaxPooling2D(pool_size=(2, 2), strides=(2, 2)))\n",
    "model.add(Conv2D(64, (5, 5), activation='relu'))\n",
    "model.add(Conv2D(64, (5, 5), activation='relu'))\n",
    "model.add(BatchNormalization())\n",
    "model.add(SpatialDropout2D(0.2))\n",
    "\n",
    "model.add(Flatten())\n",
    "\n",
    "model.add(Dense(1000, activation='relu'))\n",
    "model.add(Dense(1, activation='sigmoid'))\n",
    " \n",
    "model.compile(loss=tf.keras.losses.binary_crossentropy,\n",
    "              optimizer=tf.keras.optimizers.Adam(learning_rate=1e-5),\n",
    "              metrics=['accuracy'])\n",
    "\n",
    "model.fit(x_train, y_train,\n",
    "          batch_size=batch_size,\n",
    "          epochs=epochs,\n",
    "          verbose=1,\n",
    "          validation_data=(x_test, y_test),\n",
    "          callbacks=[history])\n",
    " \n",
    "train_score = model.evaluate(x_train, y_train, verbose=0)\n",
    "print('Train loss: {}, Train accuracy: {}'.format(train_score[0], train_score[1]))\n",
    "test_score = model.evaluate(x_test, y_test, verbose=0)\n",
    "print('Test loss: {}, Test accuracy: {}'.format(test_score[0], test_score[1]))\n",
    "\n",
    "plot_history(history)\n",
    "\n",
    "y_test_pred = model.predict(x_test)\n",
    "\n",
    "eval_net(model, x_train, y_train)"
   ]
  },
  {
   "cell_type": "code",
   "execution_count": null,
   "id": "aa32b25f",
   "metadata": {},
   "outputs": [],
   "source": [
    "y_test_pred"
   ]
  },
  {
   "cell_type": "code",
   "execution_count": null,
   "id": "6cbeb036",
   "metadata": {},
   "outputs": [],
   "source": [
    "1. Поиграться с коэффициентом spatialDropout(увеличивать), чтобы точность на тестовых данных была выше. \n",
    "2. Сделать ещё один-два \"блока\"(conv2d-conv2d-batch-dropout).\n",
    "3. Работать в колабе.\n",
    "4. Адам - увеличить(чтобы быстрее обучалась), или уменьшить, чтобы обучалась стабильнее.\n"
   ]
  },
  {
   "cell_type": "markdown",
   "id": "02db1ac1",
   "metadata": {},
   "source": [
    "## P200"
   ]
  },
  {
   "cell_type": "code",
   "execution_count": null,
   "id": "abd8524c",
   "metadata": {},
   "outputs": [],
   "source": [
    "signal_peaks = peaks_features_P200_norm.copy()\n",
    "signal_cwt   =   cwt_features_P200_norm.copy()\n",
    "signal_dwt   =   dwt_features_P200_norm.copy()"
   ]
  },
  {
   "cell_type": "code",
   "execution_count": null,
   "id": "de723efd",
   "metadata": {},
   "outputs": [],
   "source": [
    "###########################\n",
    "# CWT"
   ]
  },
  {
   "cell_type": "code",
   "execution_count": null,
   "id": "e4fd0b09",
   "metadata": {},
   "outputs": [],
   "source": [
    "x_train, x_test, y_train, y_test = train_test_split(np.array(signal_cwt),\n",
    "                                                    np.array(y), test_size=0.10,\n",
    "                                                    random_state=42)\n",
    "x_train.shape, x_test.shape, y_train.shape, y_test.shape"
   ]
  },
  {
   "cell_type": "code",
   "execution_count": null,
   "id": "54dda9fd",
   "metadata": {},
   "outputs": [],
   "source": [
    "x_train = np.expand_dims(x_train, axis = -1)\n",
    "x_test = np.expand_dims(x_test, axis = -1)\n",
    "x_train.shape, x_test.shape"
   ]
  },
  {
   "cell_type": "code",
   "execution_count": null,
   "id": "2390fe13",
   "metadata": {},
   "outputs": [],
   "source": [
    "history = History()\n",
    " \n",
    "img_x = 128\n",
    "img_y = 101\n",
    "img_z = 1\n",
    "input_shape = (img_x, img_y, img_z)\n",
    " \n",
    "num_classes = 2\n",
    "batch_size = 16\n",
    "epochs = 20\n",
    " \n",
    "x_train = x_train.astype('float32')\n",
    "x_test = x_test.astype('float32')\n",
    " \n",
    "y_train = tf.keras.utils.to_categorical(y_train, num_classes)\n",
    "y_test = tf.keras.utils.to_categorical(y_test, num_classes)\n",
    " \n",
    "model = Sequential()\n",
    "model.add(Conv2D(32, kernel_size=(5, 5), strides=(1, 1),\n",
    "                 activation='relu',\n",
    "                 input_shape=input_shape))\n",
    "model.add(MaxPooling2D(pool_size=(2, 2), strides=(2, 2)))\n",
    "model.add(Conv2D(64, (5, 5), activation='relu'))\n",
    "model.add(MaxPooling2D(pool_size=(2, 2)))\n",
    "model.add(Flatten())\n",
    "\n",
    "model.add(Dense(1000, activation='relu'))\n",
    "model.add(Dense(num_classes, activation='softmax'))\n",
    " \n",
    "model.compile(loss=tf.keras.losses.categorical_crossentropy,\n",
    "              optimizer=tf.keras.optimizers.Adam(),\n",
    "              metrics=['accuracy'])\n",
    "\n",
    "model.fit(x_train, y_train,\n",
    "          batch_size=batch_size,\n",
    "          epochs=epochs,\n",
    "          verbose=1,\n",
    "          validation_data=(x_test, y_test),\n",
    "          callbacks=[history])\n",
    " \n",
    "train_score = model.evaluate(x_train, y_train, verbose=0)\n",
    "print('Train loss: {}, Train accuracy: {}'.format(train_score[0], train_score[1]))\n",
    "test_score = model.evaluate(x_test, y_test, verbose=0)\n",
    "print('Test loss: {}, Test accuracy: {}'.format(test_score[0], test_score[1]))"
   ]
  },
  {
   "cell_type": "code",
   "execution_count": null,
   "id": "5cdffb57",
   "metadata": {},
   "outputs": [],
   "source": [
    "y_test_pred = model.predict(x_test)"
   ]
  },
  {
   "cell_type": "markdown",
   "id": "4909dd43",
   "metadata": {},
   "source": [
    "## FRN"
   ]
  },
  {
   "cell_type": "code",
   "execution_count": null,
   "id": "182dd8b9",
   "metadata": {},
   "outputs": [],
   "source": [
    "signal_peaks = peaks_features_FRN_norm.copy()\n",
    "signal_cwt   =   cwt_features_FRN_norm.copy()\n",
    "signal_dwt   =   dwt_features_FRN_norm.copy()"
   ]
  },
  {
   "cell_type": "code",
   "execution_count": null,
   "id": "9563d23d",
   "metadata": {},
   "outputs": [],
   "source": [
    "###########################\n",
    "# CWT"
   ]
  },
  {
   "cell_type": "code",
   "execution_count": null,
   "id": "92683aa9",
   "metadata": {},
   "outputs": [],
   "source": [
    "x_train, x_test, y_train, y_test = train_test_split(np.array(signal_cwt),\n",
    "                                                    np.array(y), test_size=0.10,\n",
    "                                                    random_state=42)\n",
    "x_train.shape, x_test.shape, y_train.shape, y_test.shape"
   ]
  },
  {
   "cell_type": "code",
   "execution_count": null,
   "id": "006cb90e",
   "metadata": {},
   "outputs": [],
   "source": [
    "x_train = np.expand_dims(x_train, axis = -1)\n",
    "x_test = np.expand_dims(x_test, axis = -1)\n",
    "x_train.shape, x_test.shape"
   ]
  },
  {
   "cell_type": "code",
   "execution_count": null,
   "id": "0d9551ac",
   "metadata": {},
   "outputs": [],
   "source": [
    "history = History()\n",
    " \n",
    "img_x = 128\n",
    "img_y = 81\n",
    "img_z = 1\n",
    "input_shape = (img_x, img_y, img_z)\n",
    " \n",
    "num_classes = 2\n",
    "batch_size = 16\n",
    "epochs = 20\n",
    " \n",
    "x_train = x_train.astype('float32')\n",
    "x_test = x_test.astype('float32')\n",
    " \n",
    "y_train = tf.keras.utils.to_categorical(y_train, num_classes)\n",
    "y_test = tf.keras.utils.to_categorical(y_test, num_classes)\n",
    " \n",
    "model = Sequential()\n",
    "model.add(Conv2D(32, kernel_size=(5, 5), strides=(1, 1),\n",
    "                 activation='relu',\n",
    "                 input_shape=input_shape))\n",
    "model.add(MaxPooling2D(pool_size=(2, 2), strides=(2, 2)))\n",
    "model.add(Conv2D(64, (5, 5), activation='relu'))\n",
    "model.add(MaxPooling2D(pool_size=(2, 2)))\n",
    "model.add(Flatten())\n",
    "\n",
    "model.add(Dense(1000, activation='relu'))\n",
    "model.add(Dense(num_classes, activation='softmax'))\n",
    " \n",
    "model.compile(loss=tf.keras.losses.categorical_crossentropy,\n",
    "              optimizer=tf.keras.optimizers.Adam(),\n",
    "              metrics=['accuracy'])\n",
    "\n",
    "model.fit(x_train, y_train,\n",
    "          batch_size=batch_size,\n",
    "          epochs=epochs,\n",
    "          verbose=1,\n",
    "          validation_data=(x_test, y_test),\n",
    "          callbacks=[history])\n",
    " \n",
    "train_score = model.evaluate(x_train, y_train, verbose=0)\n",
    "print('Train loss: {}, Train accuracy: {}'.format(train_score[0], train_score[1]))\n",
    "test_score = model.evaluate(x_test, y_test, verbose=0)\n",
    "print('Test loss: {}, Test accuracy: {}'.format(test_score[0], test_score[1]))"
   ]
  },
  {
   "cell_type": "code",
   "execution_count": null,
   "id": "70c78a2f",
   "metadata": {},
   "outputs": [],
   "source": [
    "y_test_pred = model.predict(x_test)"
   ]
  },
  {
   "cell_type": "markdown",
   "id": "13165c7d",
   "metadata": {},
   "source": [
    "## P300"
   ]
  },
  {
   "cell_type": "code",
   "execution_count": 115,
   "id": "8efe83d2",
   "metadata": {},
   "outputs": [],
   "source": [
    "signal_peaks = peaks_features_P300_norm.copy()\n",
    "signal_cwt   =   cwt_features_P300_norm.copy()\n",
    "signal_dwt   =   dwt_features_P300_norm.copy()"
   ]
  },
  {
   "cell_type": "code",
   "execution_count": null,
   "id": "3e62623f",
   "metadata": {},
   "outputs": [],
   "source": [
    "###########################\n",
    "# CWT"
   ]
  },
  {
   "cell_type": "code",
   "execution_count": null,
   "id": "6ba5b89d",
   "metadata": {},
   "outputs": [],
   "source": [
    "x_train, x_test, y_train, y_test = train_test_split(np.array(signal_cwt),\n",
    "                                                    np.array(y), test_size=0.10,\n",
    "                                                    random_state=42)\n",
    "x_train.shape, x_test.shape, y_train.shape, y_test.shape"
   ]
  },
  {
   "cell_type": "code",
   "execution_count": null,
   "id": "45a982b6",
   "metadata": {},
   "outputs": [],
   "source": [
    "x_train = np.expand_dims(x_train, axis = -1)\n",
    "x_test = np.expand_dims(x_test, axis = -1)\n",
    "x_train.shape, x_test.shape"
   ]
  },
  {
   "cell_type": "code",
   "execution_count": null,
   "id": "e1d3284f",
   "metadata": {},
   "outputs": [],
   "source": [
    "history = History()\n",
    " \n",
    "img_x = 128\n",
    "img_y = 221\n",
    "img_z = 1\n",
    "input_shape = (img_x, img_y, img_z)\n",
    " \n",
    "num_classes = 2\n",
    "batch_size = 16\n",
    "epochs = 20\n",
    " \n",
    "x_train = x_train.astype('float32')\n",
    "x_test = x_test.astype('float32')\n",
    " \n",
    "y_train = tf.keras.utils.to_categorical(y_train, num_classes)\n",
    "y_test = tf.keras.utils.to_categorical(y_test, num_classes)\n",
    " \n",
    "model = Sequential()\n",
    "model.add(Conv2D(32, kernel_size=(5, 5), strides=(1, 1),\n",
    "                 activation='relu',\n",
    "                 input_shape=input_shape))\n",
    "model.add(MaxPooling2D(pool_size=(2, 2), strides=(2, 2)))\n",
    "model.add(Conv2D(64, (5, 5), activation='relu'))\n",
    "model.add(MaxPooling2D(pool_size=(2, 2)))\n",
    "model.add(Flatten())\n",
    "\n",
    "model.add(Dense(1000, activation='relu'))\n",
    "model.add(Dense(num_classes, activation='softmax'))\n",
    " \n",
    "model.compile(loss=tf.keras.losses.categorical_crossentropy,\n",
    "              optimizer=tf.keras.optimizers.Adam(),\n",
    "              metrics=['accuracy'])\n",
    "\n",
    "model.fit(x_train, y_train,\n",
    "          batch_size=batch_size,\n",
    "          epochs=epochs,\n",
    "          verbose=1,\n",
    "          validation_data=(x_test, y_test),\n",
    "          callbacks=[history])\n",
    " \n",
    "train_score = model.evaluate(x_train, y_train, verbose=0)\n",
    "print('Train loss: {}, Train accuracy: {}'.format(train_score[0], train_score[1]))\n",
    "test_score = model.evaluate(x_test, y_test, verbose=0)\n",
    "print('Test loss: {}, Test accuracy: {}'.format(test_score[0], test_score[1]))"
   ]
  },
  {
   "cell_type": "code",
   "execution_count": null,
   "id": "f653ce0a",
   "metadata": {},
   "outputs": [],
   "source": [
    "y_test_pred = model.predict(x_test)"
   ]
  },
  {
   "cell_type": "markdown",
   "id": "5ccd4ec9",
   "metadata": {},
   "source": [
    "## N500"
   ]
  },
  {
   "cell_type": "code",
   "execution_count": null,
   "id": "ca4d98ae",
   "metadata": {},
   "outputs": [],
   "source": [
    "signal_peaks = peaks_features_N500_norm.copy()\n",
    "signal_cwt   =   cwt_features_N500_norm.copy()\n",
    "signal_dwt   =   dwt_features_N500_norm.copy()"
   ]
  },
  {
   "cell_type": "code",
   "execution_count": null,
   "id": "a89a5a9e",
   "metadata": {},
   "outputs": [],
   "source": [
    "###########################\n",
    "# CWT"
   ]
  },
  {
   "cell_type": "code",
   "execution_count": null,
   "id": "8e940768",
   "metadata": {},
   "outputs": [],
   "source": [
    "x_train, x_test, y_train, y_test = train_test_split(np.array(signal_cwt),\n",
    "                                                    np.array(y), test_size=0.10,\n",
    "                                                    random_state=42)\n",
    "x_train.shape, x_test.shape, y_train.shape, y_test.shape"
   ]
  },
  {
   "cell_type": "code",
   "execution_count": null,
   "id": "8f9ef747",
   "metadata": {},
   "outputs": [],
   "source": [
    "x_train = np.expand_dims(x_train, axis = -1)\n",
    "x_test = np.expand_dims(x_test, axis = -1)\n",
    "x_train.shape, x_test.shape"
   ]
  },
  {
   "cell_type": "code",
   "execution_count": null,
   "id": "914c40b4",
   "metadata": {},
   "outputs": [],
   "source": [
    "history = History()\n",
    " \n",
    "img_x = 128\n",
    "img_y = 21\n",
    "img_z = 1\n",
    "input_shape = (img_x, img_y, img_z)\n",
    " \n",
    "num_classes = 2\n",
    "batch_size = 16\n",
    "epochs = 20\n",
    " \n",
    "x_train = x_train.astype('float32')\n",
    "x_test = x_test.astype('float32')\n",
    " \n",
    "y_train = tf.keras.utils.to_categorical(y_train, num_classes)\n",
    "y_test = tf.keras.utils.to_categorical(y_test, num_classes)\n",
    " \n",
    "model = Sequential()\n",
    "model.add(Conv2D(32, kernel_size=(5, 5), strides=(1, 1),\n",
    "                 activation='relu',\n",
    "                 input_shape=input_shape))\n",
    "model.add(MaxPooling2D(pool_size=(2, 2), strides=(2, 2)))\n",
    "model.add(Conv2D(64, (5, 5), activation='relu'))\n",
    "model.add(MaxPooling2D(pool_size=(2, 2)))\n",
    "model.add(Flatten())\n",
    "\n",
    "model.add(Dense(1000, activation='relu'))\n",
    "model.add(Dense(num_classes, activation='softmax'))\n",
    " \n",
    "model.compile(loss=tf.keras.losses.categorical_crossentropy,\n",
    "              optimizer=tf.keras.optimizers.Adam(),\n",
    "              metrics=['accuracy'])\n",
    "\n",
    "model.fit(x_train, y_train,\n",
    "          batch_size=batch_size,\n",
    "          epochs=epochs,\n",
    "          verbose=1,\n",
    "          validation_data=(x_test, y_test),\n",
    "          callbacks=[history])\n",
    " \n",
    "train_score = model.evaluate(x_train, y_train, verbose=0)\n",
    "print('Train loss: {}, Train accuracy: {}'.format(train_score[0], train_score[1]))\n",
    "test_score = model.evaluate(x_test, y_test, verbose=0)\n",
    "print('Test loss: {}, Test accuracy: {}'.format(test_score[0], test_score[1]))"
   ]
  },
  {
   "cell_type": "code",
   "execution_count": null,
   "id": "f7ca10db",
   "metadata": {},
   "outputs": [],
   "source": [
    "y_test_pred = model.predict(x_test)"
   ]
  }
 ],
 "metadata": {
  "kernelspec": {
   "display_name": "Python 3",
   "language": "python",
   "name": "python3"
  },
  "language_info": {
   "codemirror_mode": {
    "name": "ipython",
    "version": 3
   },
   "file_extension": ".py",
   "mimetype": "text/x-python",
   "name": "python",
   "nbconvert_exporter": "python",
   "pygments_lexer": "ipython3",
   "version": "3.8.8"
  }
 },
 "nbformat": 4,
 "nbformat_minor": 5
}
